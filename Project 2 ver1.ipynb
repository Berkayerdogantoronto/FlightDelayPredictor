{
 "cells": [
  {
   "cell_type": "markdown",
   "id": "deda7392",
   "metadata": {},
   "source": [
    "## Import required packages and load data"
   ]
  },
  {
   "cell_type": "code",
   "execution_count": 1,
   "id": "c90ed2f8",
   "metadata": {},
   "outputs": [
    {
     "name": "stdout",
     "output_type": "stream",
     "text": [
      "Requirement already satisfied: imbalanced-learn in c:\\users\\admin\\anaconda3\\lib\\site-packages (0.9.1)\n",
      "Requirement already satisfied: scikit-learn>=1.1.0 in c:\\users\\admin\\anaconda3\\lib\\site-packages (from imbalanced-learn) (1.1.3)\n",
      "Requirement already satisfied: scipy>=1.3.2 in c:\\users\\admin\\anaconda3\\lib\\site-packages (from imbalanced-learn) (1.7.3)\n",
      "Requirement already satisfied: joblib>=1.0.0 in c:\\users\\admin\\anaconda3\\lib\\site-packages (from imbalanced-learn) (1.1.0)\n",
      "Requirement already satisfied: threadpoolctl>=2.0.0 in c:\\users\\admin\\anaconda3\\lib\\site-packages (from imbalanced-learn) (2.2.0)\n",
      "Requirement already satisfied: numpy>=1.17.3 in c:\\users\\admin\\anaconda3\\lib\\site-packages (from imbalanced-learn) (1.21.5)\n"
     ]
    }
   ],
   "source": [
    "# Installing imbalanced-learn\n",
    "! pip install -U imbalanced-learn"
   ]
  },
  {
   "cell_type": "code",
   "execution_count": 2,
   "id": "246a715a",
   "metadata": {},
   "outputs": [
    {
     "name": "stdout",
     "output_type": "stream",
     "text": [
      "Collecting package metadata (current_repodata.json): ...working... done\n",
      "Solving environment: ...working... done\n",
      "\n",
      "# All requested packages already installed.\n",
      "\n",
      "Retrieving notices: ...working... done\n",
      "\n",
      "Note: you may need to restart the kernel to use updated packages.\n"
     ]
    }
   ],
   "source": [
    "conda install -c conda-forge imbalanced-learn"
   ]
  },
  {
   "cell_type": "code",
   "execution_count": 1,
   "id": "bf56d9fd",
   "metadata": {},
   "outputs": [],
   "source": [
    "#Regular EDA (exploratory data analysis) and plotting libraries\n",
    "import math\n",
    "import pandas as pd\n",
    "import seaborn as sns\n",
    "import numpy as np\n",
    "import matplotlib.pylab as plt\n",
    "import matplotlib.pyplot as plt\n",
    "%matplotlib inline\n",
    "\n",
    "\n",
    "#Package for splitting the dataset to training set and test set\n",
    "from sklearn.model_selection import train_test_split\n",
    "\n",
    "#Package for Logistic Regression model\n",
    "from sklearn.linear_model import LogisticRegression\n",
    "\n",
    "#Package for Naive Bayes model\n",
    "from sklearn.naive_bayes import MultinomialNB\n",
    "\n",
    "#Package for Decision Tree model\n",
    "from sklearn.tree import DecisionTreeClassifier\n",
    "\n",
    "#Package to handle imbalanced dataset\n",
    "from imblearn.under_sampling import RandomUnderSampler\n",
    "from imblearn.over_sampling import RandomOverSampler\n",
    "\n",
    "#Package for model evaluation\n",
    "from sklearn.metrics import confusion_matrix, accuracy_score\n",
    "from dmba import classificationSummary\n",
    "from dmba import AIC_score"
   ]
  },
  {
   "cell_type": "code",
   "execution_count": 2,
   "id": "a9875d28",
   "metadata": {},
   "outputs": [],
   "source": [
    "# Loading the data\n",
    "raw_data = pd.read_csv('FlightDelays.csv')"
   ]
  },
  {
   "cell_type": "markdown",
   "id": "9088d51e",
   "metadata": {},
   "source": [
    "## Data preprocessing"
   ]
  },
  {
   "cell_type": "code",
   "execution_count": 3,
   "id": "6ba464ba",
   "metadata": {},
   "outputs": [
    {
     "data": {
      "text/plain": [
       "(2201, 13)"
      ]
     },
     "execution_count": 3,
     "metadata": {},
     "output_type": "execute_result"
    }
   ],
   "source": [
    "# Viewing dataframe structure\n",
    "raw_data.shape"
   ]
  },
  {
   "cell_type": "markdown",
   "id": "daa0ea87",
   "metadata": {},
   "source": [
    "2201 observations of 13 rows"
   ]
  },
  {
   "cell_type": "code",
   "execution_count": 4,
   "id": "cb31515a",
   "metadata": {},
   "outputs": [
    {
     "data": {
      "text/html": [
       "<div>\n",
       "<style scoped>\n",
       "    .dataframe tbody tr th:only-of-type {\n",
       "        vertical-align: middle;\n",
       "    }\n",
       "\n",
       "    .dataframe tbody tr th {\n",
       "        vertical-align: top;\n",
       "    }\n",
       "\n",
       "    .dataframe thead th {\n",
       "        text-align: right;\n",
       "    }\n",
       "</style>\n",
       "<table border=\"1\" class=\"dataframe\">\n",
       "  <thead>\n",
       "    <tr style=\"text-align: right;\">\n",
       "      <th></th>\n",
       "      <th>CRS_DEP_TIME</th>\n",
       "      <th>CARRIER</th>\n",
       "      <th>DEP_TIME</th>\n",
       "      <th>DEST</th>\n",
       "      <th>DISTANCE</th>\n",
       "      <th>FL_DATE</th>\n",
       "      <th>FL_NUM</th>\n",
       "      <th>ORIGIN</th>\n",
       "      <th>Weather</th>\n",
       "      <th>DAY_WEEK</th>\n",
       "      <th>DAY_OF_MONTH</th>\n",
       "      <th>TAIL_NUM</th>\n",
       "      <th>Flight Status</th>\n",
       "    </tr>\n",
       "  </thead>\n",
       "  <tbody>\n",
       "    <tr>\n",
       "      <th>0</th>\n",
       "      <td>1455</td>\n",
       "      <td>OH</td>\n",
       "      <td>1455</td>\n",
       "      <td>JFK</td>\n",
       "      <td>184</td>\n",
       "      <td>1/1/2004</td>\n",
       "      <td>5935</td>\n",
       "      <td>BWI</td>\n",
       "      <td>0</td>\n",
       "      <td>4</td>\n",
       "      <td>1</td>\n",
       "      <td>N940CA</td>\n",
       "      <td>ontime</td>\n",
       "    </tr>\n",
       "    <tr>\n",
       "      <th>1</th>\n",
       "      <td>1640</td>\n",
       "      <td>DH</td>\n",
       "      <td>1640</td>\n",
       "      <td>JFK</td>\n",
       "      <td>213</td>\n",
       "      <td>1/1/2004</td>\n",
       "      <td>6155</td>\n",
       "      <td>DCA</td>\n",
       "      <td>0</td>\n",
       "      <td>4</td>\n",
       "      <td>1</td>\n",
       "      <td>N405FJ</td>\n",
       "      <td>ontime</td>\n",
       "    </tr>\n",
       "    <tr>\n",
       "      <th>2</th>\n",
       "      <td>1245</td>\n",
       "      <td>DH</td>\n",
       "      <td>1245</td>\n",
       "      <td>LGA</td>\n",
       "      <td>229</td>\n",
       "      <td>1/1/2004</td>\n",
       "      <td>7208</td>\n",
       "      <td>IAD</td>\n",
       "      <td>0</td>\n",
       "      <td>4</td>\n",
       "      <td>1</td>\n",
       "      <td>N695BR</td>\n",
       "      <td>ontime</td>\n",
       "    </tr>\n",
       "    <tr>\n",
       "      <th>3</th>\n",
       "      <td>1715</td>\n",
       "      <td>DH</td>\n",
       "      <td>1709</td>\n",
       "      <td>LGA</td>\n",
       "      <td>229</td>\n",
       "      <td>1/1/2004</td>\n",
       "      <td>7215</td>\n",
       "      <td>IAD</td>\n",
       "      <td>0</td>\n",
       "      <td>4</td>\n",
       "      <td>1</td>\n",
       "      <td>N662BR</td>\n",
       "      <td>ontime</td>\n",
       "    </tr>\n",
       "    <tr>\n",
       "      <th>4</th>\n",
       "      <td>1039</td>\n",
       "      <td>DH</td>\n",
       "      <td>1035</td>\n",
       "      <td>LGA</td>\n",
       "      <td>229</td>\n",
       "      <td>1/1/2004</td>\n",
       "      <td>7792</td>\n",
       "      <td>IAD</td>\n",
       "      <td>0</td>\n",
       "      <td>4</td>\n",
       "      <td>1</td>\n",
       "      <td>N698BR</td>\n",
       "      <td>ontime</td>\n",
       "    </tr>\n",
       "    <tr>\n",
       "      <th>5</th>\n",
       "      <td>840</td>\n",
       "      <td>DH</td>\n",
       "      <td>839</td>\n",
       "      <td>JFK</td>\n",
       "      <td>228</td>\n",
       "      <td>1/1/2004</td>\n",
       "      <td>7800</td>\n",
       "      <td>IAD</td>\n",
       "      <td>0</td>\n",
       "      <td>4</td>\n",
       "      <td>1</td>\n",
       "      <td>N687BR</td>\n",
       "      <td>ontime</td>\n",
       "    </tr>\n",
       "    <tr>\n",
       "      <th>6</th>\n",
       "      <td>1240</td>\n",
       "      <td>DH</td>\n",
       "      <td>1243</td>\n",
       "      <td>JFK</td>\n",
       "      <td>228</td>\n",
       "      <td>1/1/2004</td>\n",
       "      <td>7806</td>\n",
       "      <td>IAD</td>\n",
       "      <td>0</td>\n",
       "      <td>4</td>\n",
       "      <td>1</td>\n",
       "      <td>N321UE</td>\n",
       "      <td>ontime</td>\n",
       "    </tr>\n",
       "    <tr>\n",
       "      <th>7</th>\n",
       "      <td>1645</td>\n",
       "      <td>DH</td>\n",
       "      <td>1644</td>\n",
       "      <td>JFK</td>\n",
       "      <td>228</td>\n",
       "      <td>1/1/2004</td>\n",
       "      <td>7810</td>\n",
       "      <td>IAD</td>\n",
       "      <td>0</td>\n",
       "      <td>4</td>\n",
       "      <td>1</td>\n",
       "      <td>N301UE</td>\n",
       "      <td>ontime</td>\n",
       "    </tr>\n",
       "    <tr>\n",
       "      <th>8</th>\n",
       "      <td>1715</td>\n",
       "      <td>DH</td>\n",
       "      <td>1710</td>\n",
       "      <td>JFK</td>\n",
       "      <td>228</td>\n",
       "      <td>1/1/2004</td>\n",
       "      <td>7812</td>\n",
       "      <td>IAD</td>\n",
       "      <td>0</td>\n",
       "      <td>4</td>\n",
       "      <td>1</td>\n",
       "      <td>N328UE</td>\n",
       "      <td>ontime</td>\n",
       "    </tr>\n",
       "    <tr>\n",
       "      <th>9</th>\n",
       "      <td>2120</td>\n",
       "      <td>DH</td>\n",
       "      <td>2129</td>\n",
       "      <td>JFK</td>\n",
       "      <td>228</td>\n",
       "      <td>1/1/2004</td>\n",
       "      <td>7814</td>\n",
       "      <td>IAD</td>\n",
       "      <td>0</td>\n",
       "      <td>4</td>\n",
       "      <td>1</td>\n",
       "      <td>N685BR</td>\n",
       "      <td>ontime</td>\n",
       "    </tr>\n",
       "  </tbody>\n",
       "</table>\n",
       "</div>"
      ],
      "text/plain": [
       "   CRS_DEP_TIME CARRIER  DEP_TIME DEST  DISTANCE   FL_DATE  FL_NUM ORIGIN  \\\n",
       "0          1455      OH      1455  JFK       184  1/1/2004    5935    BWI   \n",
       "1          1640      DH      1640  JFK       213  1/1/2004    6155    DCA   \n",
       "2          1245      DH      1245  LGA       229  1/1/2004    7208    IAD   \n",
       "3          1715      DH      1709  LGA       229  1/1/2004    7215    IAD   \n",
       "4          1039      DH      1035  LGA       229  1/1/2004    7792    IAD   \n",
       "5           840      DH       839  JFK       228  1/1/2004    7800    IAD   \n",
       "6          1240      DH      1243  JFK       228  1/1/2004    7806    IAD   \n",
       "7          1645      DH      1644  JFK       228  1/1/2004    7810    IAD   \n",
       "8          1715      DH      1710  JFK       228  1/1/2004    7812    IAD   \n",
       "9          2120      DH      2129  JFK       228  1/1/2004    7814    IAD   \n",
       "\n",
       "   Weather  DAY_WEEK  DAY_OF_MONTH TAIL_NUM Flight Status  \n",
       "0        0         4             1   N940CA        ontime  \n",
       "1        0         4             1   N405FJ        ontime  \n",
       "2        0         4             1   N695BR        ontime  \n",
       "3        0         4             1   N662BR        ontime  \n",
       "4        0         4             1   N698BR        ontime  \n",
       "5        0         4             1   N687BR        ontime  \n",
       "6        0         4             1   N321UE        ontime  \n",
       "7        0         4             1   N301UE        ontime  \n",
       "8        0         4             1   N328UE        ontime  \n",
       "9        0         4             1   N685BR        ontime  "
      ]
     },
     "execution_count": 4,
     "metadata": {},
     "output_type": "execute_result"
    }
   ],
   "source": [
    "# Running the first 10 rows\n",
    "raw_data.head(10)"
   ]
  },
  {
   "cell_type": "code",
   "execution_count": 5,
   "id": "f531a3c1",
   "metadata": {},
   "outputs": [
    {
     "data": {
      "text/plain": [
       "CRS_DEP_TIME     2201\n",
       "CARRIER          2201\n",
       "DEP_TIME         2201\n",
       "DEST             2201\n",
       "DISTANCE         2201\n",
       "FL_DATE          2201\n",
       "FL_NUM           2201\n",
       "ORIGIN           2201\n",
       "Weather          2201\n",
       "DAY_WEEK         2201\n",
       "DAY_OF_MONTH     2201\n",
       "TAIL_NUM         2201\n",
       "Flight Status    2201\n",
       "dtype: int64"
      ]
     },
     "execution_count": 5,
     "metadata": {},
     "output_type": "execute_result"
    }
   ],
   "source": [
    "#Counting the number of values in each column\n",
    "raw_data.count()"
   ]
  },
  {
   "cell_type": "code",
   "execution_count": 6,
   "id": "22e931b0",
   "metadata": {},
   "outputs": [
    {
     "data": {
      "text/plain": [
       "CRS_DEP_TIME     0\n",
       "CARRIER          0\n",
       "DEP_TIME         0\n",
       "DEST             0\n",
       "DISTANCE         0\n",
       "FL_DATE          0\n",
       "FL_NUM           0\n",
       "ORIGIN           0\n",
       "Weather          0\n",
       "DAY_WEEK         0\n",
       "DAY_OF_MONTH     0\n",
       "TAIL_NUM         0\n",
       "Flight Status    0\n",
       "dtype: int64"
      ]
     },
     "execution_count": 6,
     "metadata": {},
     "output_type": "execute_result"
    }
   ],
   "source": [
    "# Checking for null values\n",
    "raw_data.isnull().sum()"
   ]
  },
  {
   "cell_type": "code",
   "execution_count": 7,
   "id": "3f6111f0",
   "metadata": {},
   "outputs": [
    {
     "data": {
      "text/plain": [
       "Text(0.5, 1.0, 'Empty Data')"
      ]
     },
     "execution_count": 7,
     "metadata": {},
     "output_type": "execute_result"
    },
    {
     "data": {
      "image/png": "[encoded data removed]",
      "text/plain": [
       "<Figure size 432x288 with 2 Axes>"
      ]
     },
     "metadata": {
      "needs_background": "light"
     },
     "output_type": "display_data"
    }
   ],
   "source": [
    "#Plotting null values in our dataset by using heatmap\n",
    "sns.heatmap(raw_data.isnull())\n",
    "plt.title(\"Empty Data\")"
   ]
  },
  {
   "cell_type": "markdown",
   "id": "f3993853",
   "metadata": {},
   "source": [
    "No missing value in our dataset"
   ]
  },
  {
   "cell_type": "code",
   "execution_count": 8,
   "id": "b7146343",
   "metadata": {},
   "outputs": [
    {
     "name": "stdout",
     "output_type": "stream",
     "text": [
      "<class 'pandas.core.frame.DataFrame'>\n",
      "RangeIndex: 2201 entries, 0 to 2200\n",
      "Data columns (total 13 columns):\n",
      " #   Column         Non-Null Count  Dtype \n",
      "---  ------         --------------  ----- \n",
      " 0   CRS_DEP_TIME   2201 non-null   int64 \n",
      " 1   CARRIER        2201 non-null   object\n",
      " 2   DEP_TIME       2201 non-null   int64 \n",
      " 3   DEST           2201 non-null   object\n",
      " 4   DISTANCE       2201 non-null   int64 \n",
      " 5   FL_DATE        2201 non-null   object\n",
      " 6   FL_NUM         2201 non-null   int64 \n",
      " 7   ORIGIN         2201 non-null   object\n",
      " 8   Weather        2201 non-null   int64 \n",
      " 9   DAY_WEEK       2201 non-null   int64 \n",
      " 10  DAY_OF_MONTH   2201 non-null   int64 \n",
      " 11  TAIL_NUM       2201 non-null   object\n",
      " 12  Flight Status  2201 non-null   object\n",
      "dtypes: int64(7), object(6)\n",
      "memory usage: 223.7+ KB\n"
     ]
    }
   ],
   "source": [
    "# Checking datatype\n",
    "raw_data.info()"
   ]
  },
  {
   "cell_type": "markdown",
   "id": "0f7e03ad",
   "metadata": {},
   "source": [
    "We have 6 string variables, and 7 numerical variables"
   ]
  },
  {
   "cell_type": "markdown",
   "id": "f6cf7685",
   "metadata": {},
   "source": [
    "## Dimensional reduction"
   ]
  },
  {
   "cell_type": "code",
   "execution_count": 9,
   "id": "26c3d04e",
   "metadata": {},
   "outputs": [
    {
     "name": "stdout",
     "output_type": "stream",
     "text": [
      "The number of values for feature CRS_DEP_TIME is: 59\n",
      "The number of values for feature CARRIER is: 8 -- ['CO' 'DH' 'DL' 'MQ' 'OH' 'RU' 'UA' 'US']\n",
      "The number of values for feature DEP_TIME is: 633\n",
      "The number of values for feature DEST is: 3 -- ['EWR' 'JFK' 'LGA']\n",
      "The number of values for feature DISTANCE is: 7 -- [169 184 199 213 214 228 229]\n",
      "The number of values for feature FL_DATE is: 31\n",
      "The number of values for feature FL_NUM is: 103\n",
      "The number of values for feature ORIGIN is: 3 -- ['BWI' 'DCA' 'IAD']\n",
      "The number of values for feature Weather is: 2 -- [0 1]\n",
      "The number of values for feature DAY_WEEK is: 7 -- [1 2 3 4 5 6 7]\n",
      "The number of values for feature DAY_OF_MONTH is: 31\n",
      "The number of values for feature TAIL_NUM is: 549\n",
      "The number of values for feature Flight Status is: 2 -- ['delayed' 'ontime']\n"
     ]
    }
   ],
   "source": [
    "# Investigating all the elements whithin each Feature \n",
    "\n",
    "for column in raw_data: #create a loop to go through all columns in our dataset\n",
    "    unique_values = np.unique(raw_data[column]) #take out the unique values\n",
    "    nr_values = len(unique_values) #number of unique values\n",
    "    if nr_values <= 10: #if clause to print the outcomes\n",
    "        print(\"The number of values for feature {} is: {} -- {}\".format(column, nr_values, unique_values))\n",
    "    else:\n",
    "        print(\"The number of values for feature {} is: {}\".format(column, nr_values))"
   ]
  },
  {
   "cell_type": "markdown",
   "id": "7ba9ca55",
   "metadata": {},
   "source": [
    "Because the dataset is in only in 1 month January 2014 and we have the DAY_OF_MONTH variable, we can consider removing FL_DATE. The 2 variables FL_NUM and TAIL_NUM do not seem like having any impact on our prediction models. Additionally, we do not need DISTANCE because we already have ORIGIN and DEST (we can use them to calculate distance if required). Furthermore, we will be creating a new dummy variable DELAY_DEP_TIME if the DEP_TIME (actual departure time) - CRS_DEP_TIME > 0 (YES) then assign 1, else (NO) give 0 accordingly."
   ]
  },
  {
   "cell_type": "code",
   "execution_count": 10,
   "id": "bb70b51b",
   "metadata": {},
   "outputs": [],
   "source": [
    "#Creating new DELAY_DEP_TIME column\n",
    "raw_data['DELAY_DEP_TIME'] = raw_data['DEP_TIME'] - raw_data['CRS_DEP_TIME']\n",
    "raw_data.loc[raw_data['DELAY_DEP_TIME'] > 0, 'DELAY_DEP_TIME'] = 1\n",
    "raw_data.loc[raw_data['DELAY_DEP_TIME'] <= 0, 'DELAY_DEP_TIME'] = 0"
   ]
  },
  {
   "cell_type": "code",
   "execution_count": 11,
   "id": "0229b56e",
   "metadata": {},
   "outputs": [],
   "source": [
    "#Droping unnecessary columns FL_DATE, FL_NUM, TAIL_NUM,DEP_TIME in the dataset\n",
    "raw_data.drop(['FL_DATE', 'FL_NUM', 'TAIL_NUM','DEP_TIME','DISTANCE'], axis=1, inplace=True)"
   ]
  },
  {
   "cell_type": "code",
   "execution_count": 12,
   "id": "d30fb3c1",
   "metadata": {},
   "outputs": [
    {
     "data": {
      "text/html": [
       "<div>\n",
       "<style scoped>\n",
       "    .dataframe tbody tr th:only-of-type {\n",
       "        vertical-align: middle;\n",
       "    }\n",
       "\n",
       "    .dataframe tbody tr th {\n",
       "        vertical-align: top;\n",
       "    }\n",
       "\n",
       "    .dataframe thead th {\n",
       "        text-align: right;\n",
       "    }\n",
       "</style>\n",
       "<table border=\"1\" class=\"dataframe\">\n",
       "  <thead>\n",
       "    <tr style=\"text-align: right;\">\n",
       "      <th></th>\n",
       "      <th>CRS_DEP_TIME</th>\n",
       "      <th>CARRIER</th>\n",
       "      <th>DEST</th>\n",
       "      <th>ORIGIN</th>\n",
       "      <th>Weather</th>\n",
       "      <th>DAY_WEEK</th>\n",
       "      <th>DAY_OF_MONTH</th>\n",
       "      <th>Flight Status</th>\n",
       "      <th>DELAY_DEP_TIME</th>\n",
       "    </tr>\n",
       "  </thead>\n",
       "  <tbody>\n",
       "    <tr>\n",
       "      <th>0</th>\n",
       "      <td>1455</td>\n",
       "      <td>OH</td>\n",
       "      <td>JFK</td>\n",
       "      <td>BWI</td>\n",
       "      <td>0</td>\n",
       "      <td>4</td>\n",
       "      <td>1</td>\n",
       "      <td>ontime</td>\n",
       "      <td>0</td>\n",
       "    </tr>\n",
       "    <tr>\n",
       "      <th>1</th>\n",
       "      <td>1640</td>\n",
       "      <td>DH</td>\n",
       "      <td>JFK</td>\n",
       "      <td>DCA</td>\n",
       "      <td>0</td>\n",
       "      <td>4</td>\n",
       "      <td>1</td>\n",
       "      <td>ontime</td>\n",
       "      <td>0</td>\n",
       "    </tr>\n",
       "    <tr>\n",
       "      <th>2</th>\n",
       "      <td>1245</td>\n",
       "      <td>DH</td>\n",
       "      <td>LGA</td>\n",
       "      <td>IAD</td>\n",
       "      <td>0</td>\n",
       "      <td>4</td>\n",
       "      <td>1</td>\n",
       "      <td>ontime</td>\n",
       "      <td>0</td>\n",
       "    </tr>\n",
       "    <tr>\n",
       "      <th>3</th>\n",
       "      <td>1715</td>\n",
       "      <td>DH</td>\n",
       "      <td>LGA</td>\n",
       "      <td>IAD</td>\n",
       "      <td>0</td>\n",
       "      <td>4</td>\n",
       "      <td>1</td>\n",
       "      <td>ontime</td>\n",
       "      <td>0</td>\n",
       "    </tr>\n",
       "    <tr>\n",
       "      <th>4</th>\n",
       "      <td>1039</td>\n",
       "      <td>DH</td>\n",
       "      <td>LGA</td>\n",
       "      <td>IAD</td>\n",
       "      <td>0</td>\n",
       "      <td>4</td>\n",
       "      <td>1</td>\n",
       "      <td>ontime</td>\n",
       "      <td>0</td>\n",
       "    </tr>\n",
       "    <tr>\n",
       "      <th>...</th>\n",
       "      <td>...</td>\n",
       "      <td>...</td>\n",
       "      <td>...</td>\n",
       "      <td>...</td>\n",
       "      <td>...</td>\n",
       "      <td>...</td>\n",
       "      <td>...</td>\n",
       "      <td>...</td>\n",
       "      <td>...</td>\n",
       "    </tr>\n",
       "    <tr>\n",
       "      <th>2196</th>\n",
       "      <td>645</td>\n",
       "      <td>RU</td>\n",
       "      <td>EWR</td>\n",
       "      <td>DCA</td>\n",
       "      <td>0</td>\n",
       "      <td>6</td>\n",
       "      <td>31</td>\n",
       "      <td>ontime</td>\n",
       "      <td>0</td>\n",
       "    </tr>\n",
       "    <tr>\n",
       "      <th>2197</th>\n",
       "      <td>1700</td>\n",
       "      <td>RU</td>\n",
       "      <td>EWR</td>\n",
       "      <td>IAD</td>\n",
       "      <td>0</td>\n",
       "      <td>6</td>\n",
       "      <td>31</td>\n",
       "      <td>ontime</td>\n",
       "      <td>0</td>\n",
       "    </tr>\n",
       "    <tr>\n",
       "      <th>2198</th>\n",
       "      <td>1600</td>\n",
       "      <td>RU</td>\n",
       "      <td>EWR</td>\n",
       "      <td>DCA</td>\n",
       "      <td>0</td>\n",
       "      <td>6</td>\n",
       "      <td>31</td>\n",
       "      <td>ontime</td>\n",
       "      <td>0</td>\n",
       "    </tr>\n",
       "    <tr>\n",
       "      <th>2199</th>\n",
       "      <td>1359</td>\n",
       "      <td>RU</td>\n",
       "      <td>EWR</td>\n",
       "      <td>DCA</td>\n",
       "      <td>0</td>\n",
       "      <td>6</td>\n",
       "      <td>31</td>\n",
       "      <td>ontime</td>\n",
       "      <td>1</td>\n",
       "    </tr>\n",
       "    <tr>\n",
       "      <th>2200</th>\n",
       "      <td>1730</td>\n",
       "      <td>RU</td>\n",
       "      <td>EWR</td>\n",
       "      <td>DCA</td>\n",
       "      <td>0</td>\n",
       "      <td>6</td>\n",
       "      <td>31</td>\n",
       "      <td>ontime</td>\n",
       "      <td>1</td>\n",
       "    </tr>\n",
       "  </tbody>\n",
       "</table>\n",
       "<p>2201 rows × 9 columns</p>\n",
       "</div>"
      ],
      "text/plain": [
       "      CRS_DEP_TIME CARRIER DEST ORIGIN  Weather  DAY_WEEK  DAY_OF_MONTH  \\\n",
       "0             1455      OH  JFK    BWI        0         4             1   \n",
       "1             1640      DH  JFK    DCA        0         4             1   \n",
       "2             1245      DH  LGA    IAD        0         4             1   \n",
       "3             1715      DH  LGA    IAD        0         4             1   \n",
       "4             1039      DH  LGA    IAD        0         4             1   \n",
       "...            ...     ...  ...    ...      ...       ...           ...   \n",
       "2196           645      RU  EWR    DCA        0         6            31   \n",
       "2197          1700      RU  EWR    IAD        0         6            31   \n",
       "2198          1600      RU  EWR    DCA        0         6            31   \n",
       "2199          1359      RU  EWR    DCA        0         6            31   \n",
       "2200          1730      RU  EWR    DCA        0         6            31   \n",
       "\n",
       "     Flight Status  DELAY_DEP_TIME  \n",
       "0           ontime               0  \n",
       "1           ontime               0  \n",
       "2           ontime               0  \n",
       "3           ontime               0  \n",
       "4           ontime               0  \n",
       "...            ...             ...  \n",
       "2196        ontime               0  \n",
       "2197        ontime               0  \n",
       "2198        ontime               0  \n",
       "2199        ontime               1  \n",
       "2200        ontime               1  \n",
       "\n",
       "[2201 rows x 9 columns]"
      ]
     },
     "execution_count": 12,
     "metadata": {},
     "output_type": "execute_result"
    }
   ],
   "source": [
    "# Viewing dataset\n",
    "raw_data"
   ]
  },
  {
   "cell_type": "code",
   "execution_count": 13,
   "id": "f8ed53a8",
   "metadata": {},
   "outputs": [],
   "source": [
    "#Renaming column names\n",
    "raw_data.rename(columns={'Weather': 'WEATHER', 'Flight Status': 'FLIGHT_STATUS', 'DAY_OF_MONTH': 'DAY_MONTH'}, inplace=True)"
   ]
  },
  {
   "cell_type": "code",
   "execution_count": 14,
   "id": "bb1c15b3",
   "metadata": {},
   "outputs": [
    {
     "data": {
      "text/html": [
       "<div>\n",
       "<style scoped>\n",
       "    .dataframe tbody tr th:only-of-type {\n",
       "        vertical-align: middle;\n",
       "    }\n",
       "\n",
       "    .dataframe tbody tr th {\n",
       "        vertical-align: top;\n",
       "    }\n",
       "\n",
       "    .dataframe thead th {\n",
       "        text-align: right;\n",
       "    }\n",
       "</style>\n",
       "<table border=\"1\" class=\"dataframe\">\n",
       "  <thead>\n",
       "    <tr style=\"text-align: right;\">\n",
       "      <th></th>\n",
       "      <th>CRS_DEP_TIME</th>\n",
       "      <th>CARRIER</th>\n",
       "      <th>DEST</th>\n",
       "      <th>ORIGIN</th>\n",
       "      <th>WEATHER</th>\n",
       "      <th>DAY_WEEK</th>\n",
       "      <th>DAY_MONTH</th>\n",
       "      <th>FLIGHT_STATUS</th>\n",
       "      <th>DELAY_DEP_TIME</th>\n",
       "    </tr>\n",
       "  </thead>\n",
       "  <tbody>\n",
       "    <tr>\n",
       "      <th>0</th>\n",
       "      <td>1455</td>\n",
       "      <td>OH</td>\n",
       "      <td>JFK</td>\n",
       "      <td>BWI</td>\n",
       "      <td>0</td>\n",
       "      <td>4</td>\n",
       "      <td>1</td>\n",
       "      <td>ontime</td>\n",
       "      <td>0</td>\n",
       "    </tr>\n",
       "    <tr>\n",
       "      <th>1</th>\n",
       "      <td>1640</td>\n",
       "      <td>DH</td>\n",
       "      <td>JFK</td>\n",
       "      <td>DCA</td>\n",
       "      <td>0</td>\n",
       "      <td>4</td>\n",
       "      <td>1</td>\n",
       "      <td>ontime</td>\n",
       "      <td>0</td>\n",
       "    </tr>\n",
       "    <tr>\n",
       "      <th>2</th>\n",
       "      <td>1245</td>\n",
       "      <td>DH</td>\n",
       "      <td>LGA</td>\n",
       "      <td>IAD</td>\n",
       "      <td>0</td>\n",
       "      <td>4</td>\n",
       "      <td>1</td>\n",
       "      <td>ontime</td>\n",
       "      <td>0</td>\n",
       "    </tr>\n",
       "    <tr>\n",
       "      <th>3</th>\n",
       "      <td>1715</td>\n",
       "      <td>DH</td>\n",
       "      <td>LGA</td>\n",
       "      <td>IAD</td>\n",
       "      <td>0</td>\n",
       "      <td>4</td>\n",
       "      <td>1</td>\n",
       "      <td>ontime</td>\n",
       "      <td>0</td>\n",
       "    </tr>\n",
       "    <tr>\n",
       "      <th>4</th>\n",
       "      <td>1039</td>\n",
       "      <td>DH</td>\n",
       "      <td>LGA</td>\n",
       "      <td>IAD</td>\n",
       "      <td>0</td>\n",
       "      <td>4</td>\n",
       "      <td>1</td>\n",
       "      <td>ontime</td>\n",
       "      <td>0</td>\n",
       "    </tr>\n",
       "    <tr>\n",
       "      <th>...</th>\n",
       "      <td>...</td>\n",
       "      <td>...</td>\n",
       "      <td>...</td>\n",
       "      <td>...</td>\n",
       "      <td>...</td>\n",
       "      <td>...</td>\n",
       "      <td>...</td>\n",
       "      <td>...</td>\n",
       "      <td>...</td>\n",
       "    </tr>\n",
       "    <tr>\n",
       "      <th>2196</th>\n",
       "      <td>645</td>\n",
       "      <td>RU</td>\n",
       "      <td>EWR</td>\n",
       "      <td>DCA</td>\n",
       "      <td>0</td>\n",
       "      <td>6</td>\n",
       "      <td>31</td>\n",
       "      <td>ontime</td>\n",
       "      <td>0</td>\n",
       "    </tr>\n",
       "    <tr>\n",
       "      <th>2197</th>\n",
       "      <td>1700</td>\n",
       "      <td>RU</td>\n",
       "      <td>EWR</td>\n",
       "      <td>IAD</td>\n",
       "      <td>0</td>\n",
       "      <td>6</td>\n",
       "      <td>31</td>\n",
       "      <td>ontime</td>\n",
       "      <td>0</td>\n",
       "    </tr>\n",
       "    <tr>\n",
       "      <th>2198</th>\n",
       "      <td>1600</td>\n",
       "      <td>RU</td>\n",
       "      <td>EWR</td>\n",
       "      <td>DCA</td>\n",
       "      <td>0</td>\n",
       "      <td>6</td>\n",
       "      <td>31</td>\n",
       "      <td>ontime</td>\n",
       "      <td>0</td>\n",
       "    </tr>\n",
       "    <tr>\n",
       "      <th>2199</th>\n",
       "      <td>1359</td>\n",
       "      <td>RU</td>\n",
       "      <td>EWR</td>\n",
       "      <td>DCA</td>\n",
       "      <td>0</td>\n",
       "      <td>6</td>\n",
       "      <td>31</td>\n",
       "      <td>ontime</td>\n",
       "      <td>1</td>\n",
       "    </tr>\n",
       "    <tr>\n",
       "      <th>2200</th>\n",
       "      <td>1730</td>\n",
       "      <td>RU</td>\n",
       "      <td>EWR</td>\n",
       "      <td>DCA</td>\n",
       "      <td>0</td>\n",
       "      <td>6</td>\n",
       "      <td>31</td>\n",
       "      <td>ontime</td>\n",
       "      <td>1</td>\n",
       "    </tr>\n",
       "  </tbody>\n",
       "</table>\n",
       "<p>2201 rows × 9 columns</p>\n",
       "</div>"
      ],
      "text/plain": [
       "      CRS_DEP_TIME CARRIER DEST ORIGIN  WEATHER  DAY_WEEK  DAY_MONTH  \\\n",
       "0             1455      OH  JFK    BWI        0         4          1   \n",
       "1             1640      DH  JFK    DCA        0         4          1   \n",
       "2             1245      DH  LGA    IAD        0         4          1   \n",
       "3             1715      DH  LGA    IAD        0         4          1   \n",
       "4             1039      DH  LGA    IAD        0         4          1   \n",
       "...            ...     ...  ...    ...      ...       ...        ...   \n",
       "2196           645      RU  EWR    DCA        0         6         31   \n",
       "2197          1700      RU  EWR    IAD        0         6         31   \n",
       "2198          1600      RU  EWR    DCA        0         6         31   \n",
       "2199          1359      RU  EWR    DCA        0         6         31   \n",
       "2200          1730      RU  EWR    DCA        0         6         31   \n",
       "\n",
       "     FLIGHT_STATUS  DELAY_DEP_TIME  \n",
       "0           ontime               0  \n",
       "1           ontime               0  \n",
       "2           ontime               0  \n",
       "3           ontime               0  \n",
       "4           ontime               0  \n",
       "...            ...             ...  \n",
       "2196        ontime               0  \n",
       "2197        ontime               0  \n",
       "2198        ontime               0  \n",
       "2199        ontime               1  \n",
       "2200        ontime               1  \n",
       "\n",
       "[2201 rows x 9 columns]"
      ]
     },
     "execution_count": 14,
     "metadata": {},
     "output_type": "execute_result"
    }
   ],
   "source": [
    "# Viewing dataset\n",
    "raw_data"
   ]
  },
  {
   "cell_type": "code",
   "execution_count": 15,
   "id": "3d99d8d6",
   "metadata": {},
   "outputs": [
    {
     "data": {
      "text/plain": [
       "Index(['CRS_DEP_TIME', 'CARRIER', 'DEST', 'ORIGIN', 'WEATHER', 'DAY_WEEK',\n",
       "       'DAY_MONTH', 'FLIGHT_STATUS', 'DELAY_DEP_TIME'],\n",
       "      dtype='object')"
      ]
     },
     "execution_count": 15,
     "metadata": {},
     "output_type": "execute_result"
    }
   ],
   "source": [
    "#Listing column names\n",
    "raw_data.columns"
   ]
  },
  {
   "cell_type": "code",
   "execution_count": 16,
   "id": "b04b2282",
   "metadata": {},
   "outputs": [],
   "source": [
    "#Creating hourly bins departure time (original data has 100's of categories) so bining is a musthave to buildup prediction models\n",
    "raw_data.CRS_DEP_TIME = [round(t / 100) for t in raw_data.CRS_DEP_TIME]"
   ]
  },
  {
   "cell_type": "code",
   "execution_count": 17,
   "id": "5fd2f015",
   "metadata": {},
   "outputs": [
    {
     "data": {
      "text/html": [
       "<div>\n",
       "<style scoped>\n",
       "    .dataframe tbody tr th:only-of-type {\n",
       "        vertical-align: middle;\n",
       "    }\n",
       "\n",
       "    .dataframe tbody tr th {\n",
       "        vertical-align: top;\n",
       "    }\n",
       "\n",
       "    .dataframe thead th {\n",
       "        text-align: right;\n",
       "    }\n",
       "</style>\n",
       "<table border=\"1\" class=\"dataframe\">\n",
       "  <thead>\n",
       "    <tr style=\"text-align: right;\">\n",
       "      <th></th>\n",
       "      <th>CRS_DEP_TIME</th>\n",
       "      <th>CARRIER</th>\n",
       "      <th>DEST</th>\n",
       "      <th>ORIGIN</th>\n",
       "      <th>WEATHER</th>\n",
       "      <th>DAY_WEEK</th>\n",
       "      <th>DAY_MONTH</th>\n",
       "      <th>FLIGHT_STATUS</th>\n",
       "      <th>DELAY_DEP_TIME</th>\n",
       "    </tr>\n",
       "  </thead>\n",
       "  <tbody>\n",
       "    <tr>\n",
       "      <th>0</th>\n",
       "      <td>15</td>\n",
       "      <td>OH</td>\n",
       "      <td>JFK</td>\n",
       "      <td>BWI</td>\n",
       "      <td>0</td>\n",
       "      <td>4</td>\n",
       "      <td>1</td>\n",
       "      <td>ontime</td>\n",
       "      <td>0</td>\n",
       "    </tr>\n",
       "    <tr>\n",
       "      <th>1</th>\n",
       "      <td>16</td>\n",
       "      <td>DH</td>\n",
       "      <td>JFK</td>\n",
       "      <td>DCA</td>\n",
       "      <td>0</td>\n",
       "      <td>4</td>\n",
       "      <td>1</td>\n",
       "      <td>ontime</td>\n",
       "      <td>0</td>\n",
       "    </tr>\n",
       "    <tr>\n",
       "      <th>2</th>\n",
       "      <td>12</td>\n",
       "      <td>DH</td>\n",
       "      <td>LGA</td>\n",
       "      <td>IAD</td>\n",
       "      <td>0</td>\n",
       "      <td>4</td>\n",
       "      <td>1</td>\n",
       "      <td>ontime</td>\n",
       "      <td>0</td>\n",
       "    </tr>\n",
       "    <tr>\n",
       "      <th>3</th>\n",
       "      <td>17</td>\n",
       "      <td>DH</td>\n",
       "      <td>LGA</td>\n",
       "      <td>IAD</td>\n",
       "      <td>0</td>\n",
       "      <td>4</td>\n",
       "      <td>1</td>\n",
       "      <td>ontime</td>\n",
       "      <td>0</td>\n",
       "    </tr>\n",
       "    <tr>\n",
       "      <th>4</th>\n",
       "      <td>10</td>\n",
       "      <td>DH</td>\n",
       "      <td>LGA</td>\n",
       "      <td>IAD</td>\n",
       "      <td>0</td>\n",
       "      <td>4</td>\n",
       "      <td>1</td>\n",
       "      <td>ontime</td>\n",
       "      <td>0</td>\n",
       "    </tr>\n",
       "    <tr>\n",
       "      <th>...</th>\n",
       "      <td>...</td>\n",
       "      <td>...</td>\n",
       "      <td>...</td>\n",
       "      <td>...</td>\n",
       "      <td>...</td>\n",
       "      <td>...</td>\n",
       "      <td>...</td>\n",
       "      <td>...</td>\n",
       "      <td>...</td>\n",
       "    </tr>\n",
       "    <tr>\n",
       "      <th>2196</th>\n",
       "      <td>6</td>\n",
       "      <td>RU</td>\n",
       "      <td>EWR</td>\n",
       "      <td>DCA</td>\n",
       "      <td>0</td>\n",
       "      <td>6</td>\n",
       "      <td>31</td>\n",
       "      <td>ontime</td>\n",
       "      <td>0</td>\n",
       "    </tr>\n",
       "    <tr>\n",
       "      <th>2197</th>\n",
       "      <td>17</td>\n",
       "      <td>RU</td>\n",
       "      <td>EWR</td>\n",
       "      <td>IAD</td>\n",
       "      <td>0</td>\n",
       "      <td>6</td>\n",
       "      <td>31</td>\n",
       "      <td>ontime</td>\n",
       "      <td>0</td>\n",
       "    </tr>\n",
       "    <tr>\n",
       "      <th>2198</th>\n",
       "      <td>16</td>\n",
       "      <td>RU</td>\n",
       "      <td>EWR</td>\n",
       "      <td>DCA</td>\n",
       "      <td>0</td>\n",
       "      <td>6</td>\n",
       "      <td>31</td>\n",
       "      <td>ontime</td>\n",
       "      <td>0</td>\n",
       "    </tr>\n",
       "    <tr>\n",
       "      <th>2199</th>\n",
       "      <td>14</td>\n",
       "      <td>RU</td>\n",
       "      <td>EWR</td>\n",
       "      <td>DCA</td>\n",
       "      <td>0</td>\n",
       "      <td>6</td>\n",
       "      <td>31</td>\n",
       "      <td>ontime</td>\n",
       "      <td>1</td>\n",
       "    </tr>\n",
       "    <tr>\n",
       "      <th>2200</th>\n",
       "      <td>17</td>\n",
       "      <td>RU</td>\n",
       "      <td>EWR</td>\n",
       "      <td>DCA</td>\n",
       "      <td>0</td>\n",
       "      <td>6</td>\n",
       "      <td>31</td>\n",
       "      <td>ontime</td>\n",
       "      <td>1</td>\n",
       "    </tr>\n",
       "  </tbody>\n",
       "</table>\n",
       "<p>2201 rows × 9 columns</p>\n",
       "</div>"
      ],
      "text/plain": [
       "      CRS_DEP_TIME CARRIER DEST ORIGIN  WEATHER  DAY_WEEK  DAY_MONTH  \\\n",
       "0               15      OH  JFK    BWI        0         4          1   \n",
       "1               16      DH  JFK    DCA        0         4          1   \n",
       "2               12      DH  LGA    IAD        0         4          1   \n",
       "3               17      DH  LGA    IAD        0         4          1   \n",
       "4               10      DH  LGA    IAD        0         4          1   \n",
       "...            ...     ...  ...    ...      ...       ...        ...   \n",
       "2196             6      RU  EWR    DCA        0         6         31   \n",
       "2197            17      RU  EWR    IAD        0         6         31   \n",
       "2198            16      RU  EWR    DCA        0         6         31   \n",
       "2199            14      RU  EWR    DCA        0         6         31   \n",
       "2200            17      RU  EWR    DCA        0         6         31   \n",
       "\n",
       "     FLIGHT_STATUS  DELAY_DEP_TIME  \n",
       "0           ontime               0  \n",
       "1           ontime               0  \n",
       "2           ontime               0  \n",
       "3           ontime               0  \n",
       "4           ontime               0  \n",
       "...            ...             ...  \n",
       "2196        ontime               0  \n",
       "2197        ontime               0  \n",
       "2198        ontime               0  \n",
       "2199        ontime               1  \n",
       "2200        ontime               1  \n",
       "\n",
       "[2201 rows x 9 columns]"
      ]
     },
     "execution_count": 17,
     "metadata": {},
     "output_type": "execute_result"
    }
   ],
   "source": [
    "# Viewing dataset\n",
    "raw_data"
   ]
  },
  {
   "cell_type": "code",
   "execution_count": 18,
   "id": "0385f7c6",
   "metadata": {},
   "outputs": [],
   "source": [
    "#Rearranging column order\n",
    "raw_data = raw_data[['CRS_DEP_TIME','DELAY_DEP_TIME', 'CARRIER', 'DEST', 'ORIGIN', 'WEATHER', 'DAY_WEEK',\n",
    "       'DAY_MONTH', 'FLIGHT_STATUS']]"
   ]
  },
  {
   "cell_type": "code",
   "execution_count": 19,
   "id": "52bdcbd7",
   "metadata": {},
   "outputs": [
    {
     "data": {
      "text/html": [
       "<div>\n",
       "<style scoped>\n",
       "    .dataframe tbody tr th:only-of-type {\n",
       "        vertical-align: middle;\n",
       "    }\n",
       "\n",
       "    .dataframe tbody tr th {\n",
       "        vertical-align: top;\n",
       "    }\n",
       "\n",
       "    .dataframe thead th {\n",
       "        text-align: right;\n",
       "    }\n",
       "</style>\n",
       "<table border=\"1\" class=\"dataframe\">\n",
       "  <thead>\n",
       "    <tr style=\"text-align: right;\">\n",
       "      <th></th>\n",
       "      <th>CRS_DEP_TIME</th>\n",
       "      <th>DELAY_DEP_TIME</th>\n",
       "      <th>CARRIER</th>\n",
       "      <th>DEST</th>\n",
       "      <th>ORIGIN</th>\n",
       "      <th>WEATHER</th>\n",
       "      <th>DAY_WEEK</th>\n",
       "      <th>DAY_MONTH</th>\n",
       "      <th>FLIGHT_STATUS</th>\n",
       "    </tr>\n",
       "  </thead>\n",
       "  <tbody>\n",
       "    <tr>\n",
       "      <th>0</th>\n",
       "      <td>15</td>\n",
       "      <td>0</td>\n",
       "      <td>OH</td>\n",
       "      <td>JFK</td>\n",
       "      <td>BWI</td>\n",
       "      <td>0</td>\n",
       "      <td>4</td>\n",
       "      <td>1</td>\n",
       "      <td>ontime</td>\n",
       "    </tr>\n",
       "    <tr>\n",
       "      <th>1</th>\n",
       "      <td>16</td>\n",
       "      <td>0</td>\n",
       "      <td>DH</td>\n",
       "      <td>JFK</td>\n",
       "      <td>DCA</td>\n",
       "      <td>0</td>\n",
       "      <td>4</td>\n",
       "      <td>1</td>\n",
       "      <td>ontime</td>\n",
       "    </tr>\n",
       "    <tr>\n",
       "      <th>2</th>\n",
       "      <td>12</td>\n",
       "      <td>0</td>\n",
       "      <td>DH</td>\n",
       "      <td>LGA</td>\n",
       "      <td>IAD</td>\n",
       "      <td>0</td>\n",
       "      <td>4</td>\n",
       "      <td>1</td>\n",
       "      <td>ontime</td>\n",
       "    </tr>\n",
       "    <tr>\n",
       "      <th>3</th>\n",
       "      <td>17</td>\n",
       "      <td>0</td>\n",
       "      <td>DH</td>\n",
       "      <td>LGA</td>\n",
       "      <td>IAD</td>\n",
       "      <td>0</td>\n",
       "      <td>4</td>\n",
       "      <td>1</td>\n",
       "      <td>ontime</td>\n",
       "    </tr>\n",
       "    <tr>\n",
       "      <th>4</th>\n",
       "      <td>10</td>\n",
       "      <td>0</td>\n",
       "      <td>DH</td>\n",
       "      <td>LGA</td>\n",
       "      <td>IAD</td>\n",
       "      <td>0</td>\n",
       "      <td>4</td>\n",
       "      <td>1</td>\n",
       "      <td>ontime</td>\n",
       "    </tr>\n",
       "    <tr>\n",
       "      <th>...</th>\n",
       "      <td>...</td>\n",
       "      <td>...</td>\n",
       "      <td>...</td>\n",
       "      <td>...</td>\n",
       "      <td>...</td>\n",
       "      <td>...</td>\n",
       "      <td>...</td>\n",
       "      <td>...</td>\n",
       "      <td>...</td>\n",
       "    </tr>\n",
       "    <tr>\n",
       "      <th>2196</th>\n",
       "      <td>6</td>\n",
       "      <td>0</td>\n",
       "      <td>RU</td>\n",
       "      <td>EWR</td>\n",
       "      <td>DCA</td>\n",
       "      <td>0</td>\n",
       "      <td>6</td>\n",
       "      <td>31</td>\n",
       "      <td>ontime</td>\n",
       "    </tr>\n",
       "    <tr>\n",
       "      <th>2197</th>\n",
       "      <td>17</td>\n",
       "      <td>0</td>\n",
       "      <td>RU</td>\n",
       "      <td>EWR</td>\n",
       "      <td>IAD</td>\n",
       "      <td>0</td>\n",
       "      <td>6</td>\n",
       "      <td>31</td>\n",
       "      <td>ontime</td>\n",
       "    </tr>\n",
       "    <tr>\n",
       "      <th>2198</th>\n",
       "      <td>16</td>\n",
       "      <td>0</td>\n",
       "      <td>RU</td>\n",
       "      <td>EWR</td>\n",
       "      <td>DCA</td>\n",
       "      <td>0</td>\n",
       "      <td>6</td>\n",
       "      <td>31</td>\n",
       "      <td>ontime</td>\n",
       "    </tr>\n",
       "    <tr>\n",
       "      <th>2199</th>\n",
       "      <td>14</td>\n",
       "      <td>1</td>\n",
       "      <td>RU</td>\n",
       "      <td>EWR</td>\n",
       "      <td>DCA</td>\n",
       "      <td>0</td>\n",
       "      <td>6</td>\n",
       "      <td>31</td>\n",
       "      <td>ontime</td>\n",
       "    </tr>\n",
       "    <tr>\n",
       "      <th>2200</th>\n",
       "      <td>17</td>\n",
       "      <td>1</td>\n",
       "      <td>RU</td>\n",
       "      <td>EWR</td>\n",
       "      <td>DCA</td>\n",
       "      <td>0</td>\n",
       "      <td>6</td>\n",
       "      <td>31</td>\n",
       "      <td>ontime</td>\n",
       "    </tr>\n",
       "  </tbody>\n",
       "</table>\n",
       "<p>2201 rows × 9 columns</p>\n",
       "</div>"
      ],
      "text/plain": [
       "      CRS_DEP_TIME  DELAY_DEP_TIME CARRIER DEST ORIGIN  WEATHER  DAY_WEEK  \\\n",
       "0               15               0      OH  JFK    BWI        0         4   \n",
       "1               16               0      DH  JFK    DCA        0         4   \n",
       "2               12               0      DH  LGA    IAD        0         4   \n",
       "3               17               0      DH  LGA    IAD        0         4   \n",
       "4               10               0      DH  LGA    IAD        0         4   \n",
       "...            ...             ...     ...  ...    ...      ...       ...   \n",
       "2196             6               0      RU  EWR    DCA        0         6   \n",
       "2197            17               0      RU  EWR    IAD        0         6   \n",
       "2198            16               0      RU  EWR    DCA        0         6   \n",
       "2199            14               1      RU  EWR    DCA        0         6   \n",
       "2200            17               1      RU  EWR    DCA        0         6   \n",
       "\n",
       "      DAY_MONTH FLIGHT_STATUS  \n",
       "0             1        ontime  \n",
       "1             1        ontime  \n",
       "2             1        ontime  \n",
       "3             1        ontime  \n",
       "4             1        ontime  \n",
       "...         ...           ...  \n",
       "2196         31        ontime  \n",
       "2197         31        ontime  \n",
       "2198         31        ontime  \n",
       "2199         31        ontime  \n",
       "2200         31        ontime  \n",
       "\n",
       "[2201 rows x 9 columns]"
      ]
     },
     "execution_count": 19,
     "metadata": {},
     "output_type": "execute_result"
    }
   ],
   "source": [
    "# Viewing dataset\n",
    "raw_data"
   ]
  },
  {
   "cell_type": "code",
   "execution_count": 20,
   "id": "3136ca6c",
   "metadata": {},
   "outputs": [],
   "source": [
    "#Exporting to csv file\n",
    "raw_data.to_csv(r'E:\\Downloads\\FlightDelaysTrainingData.csv', index=False)"
   ]
  },
  {
   "cell_type": "markdown",
   "id": "cf785c5a",
   "metadata": {},
   "source": [
    "## Data Exploration"
   ]
  },
  {
   "cell_type": "code",
   "execution_count": 21,
   "id": "cc636935",
   "metadata": {},
   "outputs": [
    {
     "name": "stdout",
     "output_type": "stream",
     "text": [
      "The number of values for feature CRS_DEP_TIME is: 16\n",
      "The number of values for feature DELAY_DEP_TIME is: 2 -- [0 1]\n",
      "The number of values for feature CARRIER is: 8 -- ['CO' 'DH' 'DL' 'MQ' 'OH' 'RU' 'UA' 'US']\n",
      "The number of values for feature DEST is: 3 -- ['EWR' 'JFK' 'LGA']\n",
      "The number of values for feature ORIGIN is: 3 -- ['BWI' 'DCA' 'IAD']\n",
      "The number of values for feature WEATHER is: 2 -- [0 1]\n",
      "The number of values for feature DAY_WEEK is: 7 -- [1 2 3 4 5 6 7]\n",
      "The number of values for feature DAY_MONTH is: 31\n",
      "The number of values for feature FLIGHT_STATUS is: 2 -- ['delayed' 'ontime']\n"
     ]
    }
   ],
   "source": [
    "# Investigating all the elements whithin each Feature \n",
    "\n",
    "for column in raw_data:\n",
    "    unique_values = np.unique(raw_data[column])\n",
    "    nr_values = len(unique_values)\n",
    "    if nr_values <= 10:\n",
    "        print(\"The number of values for feature {} is: {} -- {}\".format(column, nr_values, unique_values))\n",
    "    else:\n",
    "        print(\"The number of values for feature {} is: {}\".format(column, nr_values))"
   ]
  },
  {
   "cell_type": "code",
   "execution_count": 22,
   "id": "e3819270",
   "metadata": {},
   "outputs": [
    {
     "data": {
      "text/plain": [
       "<AxesSubplot:xlabel='FLIGHT_STATUS', ylabel='count'>"
      ]
     },
     "execution_count": 22,
     "metadata": {},
     "output_type": "execute_result"
    },
    {
     "data": {
      "image/png": "[encoded data removed]",
      "text/plain": [
       "<Figure size 432x288 with 1 Axes>"
      ]
     },
     "metadata": {
      "needs_background": "light"
     },
     "output_type": "display_data"
    }
   ],
   "source": [
    "# Investigating the distribution of outcome variable FLIGHT_STATUS\n",
    "sns.countplot(x = 'FLIGHT_STATUS', data = raw_data, palette = 'Set1')"
   ]
  },
  {
   "cell_type": "markdown",
   "id": "ea322467",
   "metadata": {},
   "source": [
    "We can see that the outcome is definitely imbalanced between 'ontime' and 'delay'. Class lable 'ontime' has abnormally high number of observations comparing to class lable 'delayed' (around 5 times). We're gonna solve this problem later to better the models performance."
   ]
  },
  {
   "cell_type": "code",
   "execution_count": 23,
   "id": "4f7f6bb8",
   "metadata": {},
   "outputs": [
    {
     "data": {
      "image/png": "[encoded data removed]",
      "text/plain": [
       "<Figure size 432x288 with 1 Axes>"
      ]
     },
     "metadata": {
      "needs_background": "light"
     },
     "output_type": "display_data"
    },
    {
     "data": {
      "image/png": "[encoded data removed]",
      "text/plain": [
       "<Figure size 432x288 with 1 Axes>"
      ]
     },
     "metadata": {
      "needs_background": "light"
     },
     "output_type": "display_data"
    },
    {
     "data": {
      "image/png": "[encoded data removed]",
      "text/plain": [
       "<Figure size 432x288 with 1 Axes>"
      ]
     },
     "metadata": {
      "needs_background": "light"
     },
     "output_type": "display_data"
    },
    {
     "data": {
      "image/png": "[encoded data removed]",
      "text/plain": [
       "<Figure size 432x288 with 1 Axes>"
      ]
     },
     "metadata": {
      "needs_background": "light"
     },
     "output_type": "display_data"
    },
    {
     "data": {
      "image/png": "[encoded data removed]",
      "text/plain": [
       "<Figure size 432x288 with 1 Axes>"
      ]
     },
     "metadata": {
      "needs_background": "light"
     },
     "output_type": "display_data"
    },
    {
     "data": {
      "image/png": "[encoded data removed]",
      "text/plain": [
       "<Figure size 432x288 with 1 Axes>"
      ]
     },
     "metadata": {
      "needs_background": "light"
     },
     "output_type": "display_data"
    },
    {
     "data": {
      "image/png": "[encoded data removed]",
      "text/plain": [
       "<Figure size 432x288 with 1 Axes>"
      ]
     },
     "metadata": {
      "needs_background": "light"
     },
     "output_type": "display_data"
    },
    {
     "data": {
      "image/png": "[encoded data removed]",
      "text/plain": [
       "<Figure size 432x288 with 1 Axes>"
      ]
     },
     "metadata": {
      "needs_background": "light"
     },
     "output_type": "display_data"
    }
   ],
   "source": [
    "# Looping through all the features by our outcome variable - see if there is a relationship between predictors and outcome\n",
    "\n",
    "features = ['CRS_DEP_TIME','DELAY_DEP_TIME', 'CARRIER', 'DEST', 'ORIGIN', 'WEATHER', 'DAY_WEEK', 'DAY_MONTH']\n",
    "\n",
    "for f in features:\n",
    "    sns.countplot(x = f, data = raw_data, palette = 'Set1', hue = 'FLIGHT_STATUS')\n",
    "    plt.show()"
   ]
  },
  {
   "cell_type": "markdown",
   "id": "a0bef7bb",
   "metadata": {},
   "source": [
    "When we compare the countplot of each feature with the distribution of outcome variable FLIGHT_STATUS. According to the shape of the distribution, we can guess that 'CRS_DEP_TIME', 'CARRIER', 'DEST', 'ORIGIN', 'DAY_WEEK' can have greater impact on flight delay prediction."
   ]
  },
  {
   "cell_type": "code",
   "execution_count": 24,
   "id": "5fadf09b",
   "metadata": {},
   "outputs": [
    {
     "data": {
      "text/html": [
       "<div>\n",
       "<style scoped>\n",
       "    .dataframe tbody tr th:only-of-type {\n",
       "        vertical-align: middle;\n",
       "    }\n",
       "\n",
       "    .dataframe tbody tr th {\n",
       "        vertical-align: top;\n",
       "    }\n",
       "\n",
       "    .dataframe thead th {\n",
       "        text-align: right;\n",
       "    }\n",
       "</style>\n",
       "<table border=\"1\" class=\"dataframe\">\n",
       "  <thead>\n",
       "    <tr style=\"text-align: right;\">\n",
       "      <th>FLIGHT_STATUS</th>\n",
       "      <th>delayed</th>\n",
       "      <th>ontime</th>\n",
       "    </tr>\n",
       "    <tr>\n",
       "      <th>DAY_WEEK</th>\n",
       "      <th></th>\n",
       "      <th></th>\n",
       "    </tr>\n",
       "  </thead>\n",
       "  <tbody>\n",
       "    <tr>\n",
       "      <th>1</th>\n",
       "      <td>84</td>\n",
       "      <td>224</td>\n",
       "    </tr>\n",
       "    <tr>\n",
       "      <th>2</th>\n",
       "      <td>63</td>\n",
       "      <td>244</td>\n",
       "    </tr>\n",
       "    <tr>\n",
       "      <th>3</th>\n",
       "      <td>57</td>\n",
       "      <td>263</td>\n",
       "    </tr>\n",
       "    <tr>\n",
       "      <th>4</th>\n",
       "      <td>57</td>\n",
       "      <td>315</td>\n",
       "    </tr>\n",
       "    <tr>\n",
       "      <th>5</th>\n",
       "      <td>75</td>\n",
       "      <td>316</td>\n",
       "    </tr>\n",
       "    <tr>\n",
       "      <th>6</th>\n",
       "      <td>24</td>\n",
       "      <td>226</td>\n",
       "    </tr>\n",
       "    <tr>\n",
       "      <th>7</th>\n",
       "      <td>68</td>\n",
       "      <td>185</td>\n",
       "    </tr>\n",
       "  </tbody>\n",
       "</table>\n",
       "</div>"
      ],
      "text/plain": [
       "FLIGHT_STATUS  delayed  ontime\n",
       "DAY_WEEK                      \n",
       "1                   84     224\n",
       "2                   63     244\n",
       "3                   57     263\n",
       "4                   57     315\n",
       "5                   75     316\n",
       "6                   24     226\n",
       "7                   68     185"
      ]
     },
     "execution_count": 24,
     "metadata": {},
     "output_type": "execute_result"
    }
   ],
   "source": [
    "# Compare FLIGHT_STATUS with DAY_WEEK\n",
    "pd.crosstab(raw_data.DAY_WEEK, raw_data.FLIGHT_STATUS)"
   ]
  },
  {
   "cell_type": "markdown",
   "id": "1f16d802",
   "metadata": {},
   "source": [
    "Monday and Friday have the most flilghts delayed, on the other hand, Saturday has the least"
   ]
  },
  {
   "cell_type": "code",
   "execution_count": 25,
   "id": "f218e10d",
   "metadata": {},
   "outputs": [
    {
     "data": {
      "text/html": [
       "<div>\n",
       "<style scoped>\n",
       "    .dataframe tbody tr th:only-of-type {\n",
       "        vertical-align: middle;\n",
       "    }\n",
       "\n",
       "    .dataframe tbody tr th {\n",
       "        vertical-align: top;\n",
       "    }\n",
       "\n",
       "    .dataframe thead th {\n",
       "        text-align: right;\n",
       "    }\n",
       "</style>\n",
       "<table border=\"1\" class=\"dataframe\">\n",
       "  <thead>\n",
       "    <tr style=\"text-align: right;\">\n",
       "      <th>FLIGHT_STATUS</th>\n",
       "      <th>delayed</th>\n",
       "      <th>ontime</th>\n",
       "    </tr>\n",
       "    <tr>\n",
       "      <th>CARRIER</th>\n",
       "      <th></th>\n",
       "      <th></th>\n",
       "    </tr>\n",
       "  </thead>\n",
       "  <tbody>\n",
       "    <tr>\n",
       "      <th>CO</th>\n",
       "      <td>26</td>\n",
       "      <td>68</td>\n",
       "    </tr>\n",
       "    <tr>\n",
       "      <th>DH</th>\n",
       "      <td>137</td>\n",
       "      <td>414</td>\n",
       "    </tr>\n",
       "    <tr>\n",
       "      <th>DL</th>\n",
       "      <td>47</td>\n",
       "      <td>341</td>\n",
       "    </tr>\n",
       "    <tr>\n",
       "      <th>MQ</th>\n",
       "      <td>80</td>\n",
       "      <td>215</td>\n",
       "    </tr>\n",
       "    <tr>\n",
       "      <th>OH</th>\n",
       "      <td>4</td>\n",
       "      <td>26</td>\n",
       "    </tr>\n",
       "    <tr>\n",
       "      <th>RU</th>\n",
       "      <td>94</td>\n",
       "      <td>314</td>\n",
       "    </tr>\n",
       "    <tr>\n",
       "      <th>UA</th>\n",
       "      <td>5</td>\n",
       "      <td>26</td>\n",
       "    </tr>\n",
       "    <tr>\n",
       "      <th>US</th>\n",
       "      <td>35</td>\n",
       "      <td>369</td>\n",
       "    </tr>\n",
       "  </tbody>\n",
       "</table>\n",
       "</div>"
      ],
      "text/plain": [
       "FLIGHT_STATUS  delayed  ontime\n",
       "CARRIER                       \n",
       "CO                  26      68\n",
       "DH                 137     414\n",
       "DL                  47     341\n",
       "MQ                  80     215\n",
       "OH                   4      26\n",
       "RU                  94     314\n",
       "UA                   5      26\n",
       "US                  35     369"
      ]
     },
     "execution_count": 25,
     "metadata": {},
     "output_type": "execute_result"
    }
   ],
   "source": [
    "# Compare FLIGHT_STATUS with CARRIER\n",
    "pd.crosstab(raw_data.CARRIER, raw_data.FLIGHT_STATUS)"
   ]
  },
  {
   "cell_type": "code",
   "execution_count": 26,
   "id": "265fea9b",
   "metadata": {},
   "outputs": [
    {
     "data": {
      "text/html": [
       "<div>\n",
       "<style scoped>\n",
       "    .dataframe tbody tr th:only-of-type {\n",
       "        vertical-align: middle;\n",
       "    }\n",
       "\n",
       "    .dataframe tbody tr th {\n",
       "        vertical-align: top;\n",
       "    }\n",
       "\n",
       "    .dataframe thead th {\n",
       "        text-align: right;\n",
       "    }\n",
       "</style>\n",
       "<table border=\"1\" class=\"dataframe\">\n",
       "  <thead>\n",
       "    <tr style=\"text-align: right;\">\n",
       "      <th>FLIGHT_STATUS</th>\n",
       "      <th>delayed</th>\n",
       "      <th>ontime</th>\n",
       "    </tr>\n",
       "    <tr>\n",
       "      <th>WEATHER</th>\n",
       "      <th></th>\n",
       "      <th></th>\n",
       "    </tr>\n",
       "  </thead>\n",
       "  <tbody>\n",
       "    <tr>\n",
       "      <th>0</th>\n",
       "      <td>396</td>\n",
       "      <td>1773</td>\n",
       "    </tr>\n",
       "    <tr>\n",
       "      <th>1</th>\n",
       "      <td>32</td>\n",
       "      <td>0</td>\n",
       "    </tr>\n",
       "  </tbody>\n",
       "</table>\n",
       "</div>"
      ],
      "text/plain": [
       "FLIGHT_STATUS  delayed  ontime\n",
       "WEATHER                       \n",
       "0                  396    1773\n",
       "1                   32       0"
      ]
     },
     "execution_count": 26,
     "metadata": {},
     "output_type": "execute_result"
    }
   ],
   "source": [
    "# Compare FLIGHT_STATUS with WEATHER\n",
    "pd.crosstab(raw_data.WEATHER, raw_data.FLIGHT_STATUS)"
   ]
  },
  {
   "cell_type": "code",
   "execution_count": 27,
   "id": "8bc66117",
   "metadata": {},
   "outputs": [
    {
     "data": {
      "text/html": [
       "<div>\n",
       "<style scoped>\n",
       "    .dataframe tbody tr th:only-of-type {\n",
       "        vertical-align: middle;\n",
       "    }\n",
       "\n",
       "    .dataframe tbody tr th {\n",
       "        vertical-align: top;\n",
       "    }\n",
       "\n",
       "    .dataframe thead th {\n",
       "        text-align: right;\n",
       "    }\n",
       "</style>\n",
       "<table border=\"1\" class=\"dataframe\">\n",
       "  <thead>\n",
       "    <tr style=\"text-align: right;\">\n",
       "      <th>FLIGHT_STATUS</th>\n",
       "      <th>delayed</th>\n",
       "      <th>ontime</th>\n",
       "    </tr>\n",
       "    <tr>\n",
       "      <th>CRS_DEP_TIME</th>\n",
       "      <th></th>\n",
       "      <th></th>\n",
       "    </tr>\n",
       "  </thead>\n",
       "  <tbody>\n",
       "    <tr>\n",
       "      <th>6</th>\n",
       "      <td>16</td>\n",
       "      <td>110</td>\n",
       "    </tr>\n",
       "    <tr>\n",
       "      <th>7</th>\n",
       "      <td>23</td>\n",
       "      <td>110</td>\n",
       "    </tr>\n",
       "    <tr>\n",
       "      <th>8</th>\n",
       "      <td>26</td>\n",
       "      <td>138</td>\n",
       "    </tr>\n",
       "    <tr>\n",
       "      <th>9</th>\n",
       "      <td>11</td>\n",
       "      <td>97</td>\n",
       "    </tr>\n",
       "    <tr>\n",
       "      <th>10</th>\n",
       "      <td>11</td>\n",
       "      <td>89</td>\n",
       "    </tr>\n",
       "    <tr>\n",
       "      <th>11</th>\n",
       "      <td>6</td>\n",
       "      <td>62</td>\n",
       "    </tr>\n",
       "    <tr>\n",
       "      <th>12</th>\n",
       "      <td>23</td>\n",
       "      <td>119</td>\n",
       "    </tr>\n",
       "    <tr>\n",
       "      <th>13</th>\n",
       "      <td>16</td>\n",
       "      <td>116</td>\n",
       "    </tr>\n",
       "    <tr>\n",
       "      <th>14</th>\n",
       "      <td>21</td>\n",
       "      <td>102</td>\n",
       "    </tr>\n",
       "    <tr>\n",
       "      <th>15</th>\n",
       "      <td>84</td>\n",
       "      <td>208</td>\n",
       "    </tr>\n",
       "    <tr>\n",
       "      <th>16</th>\n",
       "      <td>32</td>\n",
       "      <td>146</td>\n",
       "    </tr>\n",
       "    <tr>\n",
       "      <th>17</th>\n",
       "      <td>63</td>\n",
       "      <td>178</td>\n",
       "    </tr>\n",
       "    <tr>\n",
       "      <th>18</th>\n",
       "      <td>13</td>\n",
       "      <td>72</td>\n",
       "    </tr>\n",
       "    <tr>\n",
       "      <th>19</th>\n",
       "      <td>38</td>\n",
       "      <td>81</td>\n",
       "    </tr>\n",
       "    <tr>\n",
       "      <th>20</th>\n",
       "      <td>9</td>\n",
       "      <td>44</td>\n",
       "    </tr>\n",
       "    <tr>\n",
       "      <th>21</th>\n",
       "      <td>36</td>\n",
       "      <td>101</td>\n",
       "    </tr>\n",
       "  </tbody>\n",
       "</table>\n",
       "</div>"
      ],
      "text/plain": [
       "FLIGHT_STATUS  delayed  ontime\n",
       "CRS_DEP_TIME                  \n",
       "6                   16     110\n",
       "7                   23     110\n",
       "8                   26     138\n",
       "9                   11      97\n",
       "10                  11      89\n",
       "11                   6      62\n",
       "12                  23     119\n",
       "13                  16     116\n",
       "14                  21     102\n",
       "15                  84     208\n",
       "16                  32     146\n",
       "17                  63     178\n",
       "18                  13      72\n",
       "19                  38      81\n",
       "20                   9      44\n",
       "21                  36     101"
      ]
     },
     "execution_count": 27,
     "metadata": {},
     "output_type": "execute_result"
    }
   ],
   "source": [
    "# Compare FLIGHT_STATUS with CRS_DEP_TIME\n",
    "pd.crosstab(raw_data.CRS_DEP_TIME, raw_data.FLIGHT_STATUS)"
   ]
  },
  {
   "cell_type": "code",
   "execution_count": 28,
   "id": "e3395e07",
   "metadata": {},
   "outputs": [
    {
     "data": {
      "text/html": [
       "<div>\n",
       "<style scoped>\n",
       "    .dataframe tbody tr th:only-of-type {\n",
       "        vertical-align: middle;\n",
       "    }\n",
       "\n",
       "    .dataframe tbody tr th {\n",
       "        vertical-align: top;\n",
       "    }\n",
       "\n",
       "    .dataframe thead th {\n",
       "        text-align: right;\n",
       "    }\n",
       "</style>\n",
       "<table border=\"1\" class=\"dataframe\">\n",
       "  <thead>\n",
       "    <tr style=\"text-align: right;\">\n",
       "      <th>FLIGHT_STATUS</th>\n",
       "      <th>delayed</th>\n",
       "      <th>ontime</th>\n",
       "    </tr>\n",
       "    <tr>\n",
       "      <th>ORIGIN</th>\n",
       "      <th></th>\n",
       "      <th></th>\n",
       "    </tr>\n",
       "  </thead>\n",
       "  <tbody>\n",
       "    <tr>\n",
       "      <th>BWI</th>\n",
       "      <td>37</td>\n",
       "      <td>108</td>\n",
       "    </tr>\n",
       "    <tr>\n",
       "      <th>DCA</th>\n",
       "      <td>221</td>\n",
       "      <td>1149</td>\n",
       "    </tr>\n",
       "    <tr>\n",
       "      <th>IAD</th>\n",
       "      <td>170</td>\n",
       "      <td>516</td>\n",
       "    </tr>\n",
       "  </tbody>\n",
       "</table>\n",
       "</div>"
      ],
      "text/plain": [
       "FLIGHT_STATUS  delayed  ontime\n",
       "ORIGIN                        \n",
       "BWI                 37     108\n",
       "DCA                221    1149\n",
       "IAD                170     516"
      ]
     },
     "execution_count": 28,
     "metadata": {},
     "output_type": "execute_result"
    }
   ],
   "source": [
    "# Compare FLIGHT_STATUS with ORIGIN\n",
    "pd.crosstab(raw_data.ORIGIN, raw_data.FLIGHT_STATUS)"
   ]
  },
  {
   "cell_type": "code",
   "execution_count": 29,
   "id": "4b6f65e9",
   "metadata": {},
   "outputs": [
    {
     "data": {
      "text/html": [
       "<div>\n",
       "<style scoped>\n",
       "    .dataframe tbody tr th:only-of-type {\n",
       "        vertical-align: middle;\n",
       "    }\n",
       "\n",
       "    .dataframe tbody tr th {\n",
       "        vertical-align: top;\n",
       "    }\n",
       "\n",
       "    .dataframe thead th {\n",
       "        text-align: right;\n",
       "    }\n",
       "</style>\n",
       "<table border=\"1\" class=\"dataframe\">\n",
       "  <thead>\n",
       "    <tr style=\"text-align: right;\">\n",
       "      <th>FLIGHT_STATUS</th>\n",
       "      <th>delayed</th>\n",
       "      <th>ontime</th>\n",
       "    </tr>\n",
       "    <tr>\n",
       "      <th>DEST</th>\n",
       "      <th></th>\n",
       "      <th></th>\n",
       "    </tr>\n",
       "  </thead>\n",
       "  <tbody>\n",
       "    <tr>\n",
       "      <th>EWR</th>\n",
       "      <td>161</td>\n",
       "      <td>504</td>\n",
       "    </tr>\n",
       "    <tr>\n",
       "      <th>JFK</th>\n",
       "      <td>84</td>\n",
       "      <td>302</td>\n",
       "    </tr>\n",
       "    <tr>\n",
       "      <th>LGA</th>\n",
       "      <td>183</td>\n",
       "      <td>967</td>\n",
       "    </tr>\n",
       "  </tbody>\n",
       "</table>\n",
       "</div>"
      ],
      "text/plain": [
       "FLIGHT_STATUS  delayed  ontime\n",
       "DEST                          \n",
       "EWR                161     504\n",
       "JFK                 84     302\n",
       "LGA                183     967"
      ]
     },
     "execution_count": 29,
     "metadata": {},
     "output_type": "execute_result"
    }
   ],
   "source": [
    "# Compare FLIGHT_STATUS with DEST\n",
    "pd.crosstab(raw_data.DEST, raw_data.FLIGHT_STATUS)"
   ]
  },
  {
   "cell_type": "markdown",
   "id": "5248a3b7",
   "metadata": {},
   "source": [
    "## Data transformation"
   ]
  },
  {
   "cell_type": "code",
   "execution_count": 30,
   "id": "bb4f42e8",
   "metadata": {},
   "outputs": [],
   "source": [
    "# Converting categorical variables into numeric variables\n",
    "new_raw_data = pd.get_dummies(raw_data, columns = features)"
   ]
  },
  {
   "cell_type": "code",
   "execution_count": 31,
   "id": "b352204c",
   "metadata": {},
   "outputs": [
    {
     "data": {
      "text/plain": [
       "((2201, 9), (2201, 73))"
      ]
     },
     "execution_count": 31,
     "metadata": {},
     "output_type": "execute_result"
    }
   ],
   "source": [
    "raw_data.shape, new_raw_data.shape"
   ]
  },
  {
   "cell_type": "code",
   "execution_count": 32,
   "id": "f6df1e00",
   "metadata": {},
   "outputs": [
    {
     "name": "stderr",
     "output_type": "stream",
     "text": [
      "C:\\Users\\Admin\\AppData\\Local\\Temp\\ipykernel_4172\\2321970726.py:2: SettingWithCopyWarning: \n",
      "A value is trying to be set on a copy of a slice from a DataFrame\n",
      "\n",
      "See the caveats in the documentation: https://pandas.pydata.org/pandas-docs/stable/user_guide/indexing.html#returning-a-view-versus-a-copy\n",
      "  new_raw_data['FLIGHT_STATUS'][new_raw_data['FLIGHT_STATUS'] == 'delayed'] = 1\n",
      "C:\\Users\\Admin\\AppData\\Local\\Temp\\ipykernel_4172\\2321970726.py:3: SettingWithCopyWarning: \n",
      "A value is trying to be set on a copy of a slice from a DataFrame\n",
      "\n",
      "See the caveats in the documentation: https://pandas.pydata.org/pandas-docs/stable/user_guide/indexing.html#returning-a-view-versus-a-copy\n",
      "  new_raw_data['FLIGHT_STATUS'][new_raw_data['FLIGHT_STATUS'] == 'ontime'] = 0\n"
     ]
    }
   ],
   "source": [
    "# Converting outcome variable to binary type\n",
    "new_raw_data['FLIGHT_STATUS'][new_raw_data['FLIGHT_STATUS'] == 'delayed'] = 1\n",
    "new_raw_data['FLIGHT_STATUS'][new_raw_data['FLIGHT_STATUS'] == 'ontime'] = 0"
   ]
  },
  {
   "cell_type": "code",
   "execution_count": 33,
   "id": "a21c81ab",
   "metadata": {},
   "outputs": [
    {
     "data": {
      "text/html": [
       "<div>\n",
       "<style scoped>\n",
       "    .dataframe tbody tr th:only-of-type {\n",
       "        vertical-align: middle;\n",
       "    }\n",
       "\n",
       "    .dataframe tbody tr th {\n",
       "        vertical-align: top;\n",
       "    }\n",
       "\n",
       "    .dataframe thead th {\n",
       "        text-align: right;\n",
       "    }\n",
       "</style>\n",
       "<table border=\"1\" class=\"dataframe\">\n",
       "  <thead>\n",
       "    <tr style=\"text-align: right;\">\n",
       "      <th></th>\n",
       "      <th>FLIGHT_STATUS</th>\n",
       "      <th>CRS_DEP_TIME_6</th>\n",
       "      <th>CRS_DEP_TIME_7</th>\n",
       "      <th>CRS_DEP_TIME_8</th>\n",
       "      <th>CRS_DEP_TIME_9</th>\n",
       "      <th>CRS_DEP_TIME_10</th>\n",
       "      <th>CRS_DEP_TIME_11</th>\n",
       "      <th>CRS_DEP_TIME_12</th>\n",
       "      <th>CRS_DEP_TIME_13</th>\n",
       "      <th>CRS_DEP_TIME_14</th>\n",
       "      <th>...</th>\n",
       "      <th>DAY_MONTH_22</th>\n",
       "      <th>DAY_MONTH_23</th>\n",
       "      <th>DAY_MONTH_24</th>\n",
       "      <th>DAY_MONTH_25</th>\n",
       "      <th>DAY_MONTH_26</th>\n",
       "      <th>DAY_MONTH_27</th>\n",
       "      <th>DAY_MONTH_28</th>\n",
       "      <th>DAY_MONTH_29</th>\n",
       "      <th>DAY_MONTH_30</th>\n",
       "      <th>DAY_MONTH_31</th>\n",
       "    </tr>\n",
       "  </thead>\n",
       "  <tbody>\n",
       "    <tr>\n",
       "      <th>0</th>\n",
       "      <td>0</td>\n",
       "      <td>0</td>\n",
       "      <td>0</td>\n",
       "      <td>0</td>\n",
       "      <td>0</td>\n",
       "      <td>0</td>\n",
       "      <td>0</td>\n",
       "      <td>0</td>\n",
       "      <td>0</td>\n",
       "      <td>0</td>\n",
       "      <td>...</td>\n",
       "      <td>0</td>\n",
       "      <td>0</td>\n",
       "      <td>0</td>\n",
       "      <td>0</td>\n",
       "      <td>0</td>\n",
       "      <td>0</td>\n",
       "      <td>0</td>\n",
       "      <td>0</td>\n",
       "      <td>0</td>\n",
       "      <td>0</td>\n",
       "    </tr>\n",
       "    <tr>\n",
       "      <th>1</th>\n",
       "      <td>0</td>\n",
       "      <td>0</td>\n",
       "      <td>0</td>\n",
       "      <td>0</td>\n",
       "      <td>0</td>\n",
       "      <td>0</td>\n",
       "      <td>0</td>\n",
       "      <td>0</td>\n",
       "      <td>0</td>\n",
       "      <td>0</td>\n",
       "      <td>...</td>\n",
       "      <td>0</td>\n",
       "      <td>0</td>\n",
       "      <td>0</td>\n",
       "      <td>0</td>\n",
       "      <td>0</td>\n",
       "      <td>0</td>\n",
       "      <td>0</td>\n",
       "      <td>0</td>\n",
       "      <td>0</td>\n",
       "      <td>0</td>\n",
       "    </tr>\n",
       "    <tr>\n",
       "      <th>2</th>\n",
       "      <td>0</td>\n",
       "      <td>0</td>\n",
       "      <td>0</td>\n",
       "      <td>0</td>\n",
       "      <td>0</td>\n",
       "      <td>0</td>\n",
       "      <td>0</td>\n",
       "      <td>1</td>\n",
       "      <td>0</td>\n",
       "      <td>0</td>\n",
       "      <td>...</td>\n",
       "      <td>0</td>\n",
       "      <td>0</td>\n",
       "      <td>0</td>\n",
       "      <td>0</td>\n",
       "      <td>0</td>\n",
       "      <td>0</td>\n",
       "      <td>0</td>\n",
       "      <td>0</td>\n",
       "      <td>0</td>\n",
       "      <td>0</td>\n",
       "    </tr>\n",
       "    <tr>\n",
       "      <th>3</th>\n",
       "      <td>0</td>\n",
       "      <td>0</td>\n",
       "      <td>0</td>\n",
       "      <td>0</td>\n",
       "      <td>0</td>\n",
       "      <td>0</td>\n",
       "      <td>0</td>\n",
       "      <td>0</td>\n",
       "      <td>0</td>\n",
       "      <td>0</td>\n",
       "      <td>...</td>\n",
       "      <td>0</td>\n",
       "      <td>0</td>\n",
       "      <td>0</td>\n",
       "      <td>0</td>\n",
       "      <td>0</td>\n",
       "      <td>0</td>\n",
       "      <td>0</td>\n",
       "      <td>0</td>\n",
       "      <td>0</td>\n",
       "      <td>0</td>\n",
       "    </tr>\n",
       "    <tr>\n",
       "      <th>4</th>\n",
       "      <td>0</td>\n",
       "      <td>0</td>\n",
       "      <td>0</td>\n",
       "      <td>0</td>\n",
       "      <td>0</td>\n",
       "      <td>1</td>\n",
       "      <td>0</td>\n",
       "      <td>0</td>\n",
       "      <td>0</td>\n",
       "      <td>0</td>\n",
       "      <td>...</td>\n",
       "      <td>0</td>\n",
       "      <td>0</td>\n",
       "      <td>0</td>\n",
       "      <td>0</td>\n",
       "      <td>0</td>\n",
       "      <td>0</td>\n",
       "      <td>0</td>\n",
       "      <td>0</td>\n",
       "      <td>0</td>\n",
       "      <td>0</td>\n",
       "    </tr>\n",
       "    <tr>\n",
       "      <th>...</th>\n",
       "      <td>...</td>\n",
       "      <td>...</td>\n",
       "      <td>...</td>\n",
       "      <td>...</td>\n",
       "      <td>...</td>\n",
       "      <td>...</td>\n",
       "      <td>...</td>\n",
       "      <td>...</td>\n",
       "      <td>...</td>\n",
       "      <td>...</td>\n",
       "      <td>...</td>\n",
       "      <td>...</td>\n",
       "      <td>...</td>\n",
       "      <td>...</td>\n",
       "      <td>...</td>\n",
       "      <td>...</td>\n",
       "      <td>...</td>\n",
       "      <td>...</td>\n",
       "      <td>...</td>\n",
       "      <td>...</td>\n",
       "      <td>...</td>\n",
       "    </tr>\n",
       "    <tr>\n",
       "      <th>2196</th>\n",
       "      <td>0</td>\n",
       "      <td>1</td>\n",
       "      <td>0</td>\n",
       "      <td>0</td>\n",
       "      <td>0</td>\n",
       "      <td>0</td>\n",
       "      <td>0</td>\n",
       "      <td>0</td>\n",
       "      <td>0</td>\n",
       "      <td>0</td>\n",
       "      <td>...</td>\n",
       "      <td>0</td>\n",
       "      <td>0</td>\n",
       "      <td>0</td>\n",
       "      <td>0</td>\n",
       "      <td>0</td>\n",
       "      <td>0</td>\n",
       "      <td>0</td>\n",
       "      <td>0</td>\n",
       "      <td>0</td>\n",
       "      <td>1</td>\n",
       "    </tr>\n",
       "    <tr>\n",
       "      <th>2197</th>\n",
       "      <td>0</td>\n",
       "      <td>0</td>\n",
       "      <td>0</td>\n",
       "      <td>0</td>\n",
       "      <td>0</td>\n",
       "      <td>0</td>\n",
       "      <td>0</td>\n",
       "      <td>0</td>\n",
       "      <td>0</td>\n",
       "      <td>0</td>\n",
       "      <td>...</td>\n",
       "      <td>0</td>\n",
       "      <td>0</td>\n",
       "      <td>0</td>\n",
       "      <td>0</td>\n",
       "      <td>0</td>\n",
       "      <td>0</td>\n",
       "      <td>0</td>\n",
       "      <td>0</td>\n",
       "      <td>0</td>\n",
       "      <td>1</td>\n",
       "    </tr>\n",
       "    <tr>\n",
       "      <th>2198</th>\n",
       "      <td>0</td>\n",
       "      <td>0</td>\n",
       "      <td>0</td>\n",
       "      <td>0</td>\n",
       "      <td>0</td>\n",
       "      <td>0</td>\n",
       "      <td>0</td>\n",
       "      <td>0</td>\n",
       "      <td>0</td>\n",
       "      <td>0</td>\n",
       "      <td>...</td>\n",
       "      <td>0</td>\n",
       "      <td>0</td>\n",
       "      <td>0</td>\n",
       "      <td>0</td>\n",
       "      <td>0</td>\n",
       "      <td>0</td>\n",
       "      <td>0</td>\n",
       "      <td>0</td>\n",
       "      <td>0</td>\n",
       "      <td>1</td>\n",
       "    </tr>\n",
       "    <tr>\n",
       "      <th>2199</th>\n",
       "      <td>0</td>\n",
       "      <td>0</td>\n",
       "      <td>0</td>\n",
       "      <td>0</td>\n",
       "      <td>0</td>\n",
       "      <td>0</td>\n",
       "      <td>0</td>\n",
       "      <td>0</td>\n",
       "      <td>0</td>\n",
       "      <td>1</td>\n",
       "      <td>...</td>\n",
       "      <td>0</td>\n",
       "      <td>0</td>\n",
       "      <td>0</td>\n",
       "      <td>0</td>\n",
       "      <td>0</td>\n",
       "      <td>0</td>\n",
       "      <td>0</td>\n",
       "      <td>0</td>\n",
       "      <td>0</td>\n",
       "      <td>1</td>\n",
       "    </tr>\n",
       "    <tr>\n",
       "      <th>2200</th>\n",
       "      <td>0</td>\n",
       "      <td>0</td>\n",
       "      <td>0</td>\n",
       "      <td>0</td>\n",
       "      <td>0</td>\n",
       "      <td>0</td>\n",
       "      <td>0</td>\n",
       "      <td>0</td>\n",
       "      <td>0</td>\n",
       "      <td>0</td>\n",
       "      <td>...</td>\n",
       "      <td>0</td>\n",
       "      <td>0</td>\n",
       "      <td>0</td>\n",
       "      <td>0</td>\n",
       "      <td>0</td>\n",
       "      <td>0</td>\n",
       "      <td>0</td>\n",
       "      <td>0</td>\n",
       "      <td>0</td>\n",
       "      <td>1</td>\n",
       "    </tr>\n",
       "  </tbody>\n",
       "</table>\n",
       "<p>2201 rows × 73 columns</p>\n",
       "</div>"
      ],
      "text/plain": [
       "     FLIGHT_STATUS  CRS_DEP_TIME_6  CRS_DEP_TIME_7  CRS_DEP_TIME_8  \\\n",
       "0                0               0               0               0   \n",
       "1                0               0               0               0   \n",
       "2                0               0               0               0   \n",
       "3                0               0               0               0   \n",
       "4                0               0               0               0   \n",
       "...            ...             ...             ...             ...   \n",
       "2196             0               1               0               0   \n",
       "2197             0               0               0               0   \n",
       "2198             0               0               0               0   \n",
       "2199             0               0               0               0   \n",
       "2200             0               0               0               0   \n",
       "\n",
       "      CRS_DEP_TIME_9  CRS_DEP_TIME_10  CRS_DEP_TIME_11  CRS_DEP_TIME_12  \\\n",
       "0                  0                0                0                0   \n",
       "1                  0                0                0                0   \n",
       "2                  0                0                0                1   \n",
       "3                  0                0                0                0   \n",
       "4                  0                1                0                0   \n",
       "...              ...              ...              ...              ...   \n",
       "2196               0                0                0                0   \n",
       "2197               0                0                0                0   \n",
       "2198               0                0                0                0   \n",
       "2199               0                0                0                0   \n",
       "2200               0                0                0                0   \n",
       "\n",
       "      CRS_DEP_TIME_13  CRS_DEP_TIME_14  ...  DAY_MONTH_22  DAY_MONTH_23  \\\n",
       "0                   0                0  ...             0             0   \n",
       "1                   0                0  ...             0             0   \n",
       "2                   0                0  ...             0             0   \n",
       "3                   0                0  ...             0             0   \n",
       "4                   0                0  ...             0             0   \n",
       "...               ...              ...  ...           ...           ...   \n",
       "2196                0                0  ...             0             0   \n",
       "2197                0                0  ...             0             0   \n",
       "2198                0                0  ...             0             0   \n",
       "2199                0                1  ...             0             0   \n",
       "2200                0                0  ...             0             0   \n",
       "\n",
       "      DAY_MONTH_24  DAY_MONTH_25  DAY_MONTH_26  DAY_MONTH_27  DAY_MONTH_28  \\\n",
       "0                0             0             0             0             0   \n",
       "1                0             0             0             0             0   \n",
       "2                0             0             0             0             0   \n",
       "3                0             0             0             0             0   \n",
       "4                0             0             0             0             0   \n",
       "...            ...           ...           ...           ...           ...   \n",
       "2196             0             0             0             0             0   \n",
       "2197             0             0             0             0             0   \n",
       "2198             0             0             0             0             0   \n",
       "2199             0             0             0             0             0   \n",
       "2200             0             0             0             0             0   \n",
       "\n",
       "      DAY_MONTH_29  DAY_MONTH_30  DAY_MONTH_31  \n",
       "0                0             0             0  \n",
       "1                0             0             0  \n",
       "2                0             0             0  \n",
       "3                0             0             0  \n",
       "4                0             0             0  \n",
       "...            ...           ...           ...  \n",
       "2196             0             0             1  \n",
       "2197             0             0             1  \n",
       "2198             0             0             1  \n",
       "2199             0             0             1  \n",
       "2200             0             0             1  \n",
       "\n",
       "[2201 rows x 73 columns]"
      ]
     },
     "execution_count": 33,
     "metadata": {},
     "output_type": "execute_result"
    }
   ],
   "source": [
    "# Viewing the dataset\n",
    "new_raw_data"
   ]
  },
  {
   "cell_type": "code",
   "execution_count": 34,
   "id": "9ce1d9f7",
   "metadata": {},
   "outputs": [
    {
     "name": "stdout",
     "output_type": "stream",
     "text": [
      "<class 'pandas.core.frame.DataFrame'>\n",
      "RangeIndex: 2201 entries, 0 to 2200\n",
      "Data columns (total 73 columns):\n",
      " #   Column            Non-Null Count  Dtype \n",
      "---  ------            --------------  ----- \n",
      " 0   FLIGHT_STATUS     2201 non-null   object\n",
      " 1   CRS_DEP_TIME_6    2201 non-null   uint8 \n",
      " 2   CRS_DEP_TIME_7    2201 non-null   uint8 \n",
      " 3   CRS_DEP_TIME_8    2201 non-null   uint8 \n",
      " 4   CRS_DEP_TIME_9    2201 non-null   uint8 \n",
      " 5   CRS_DEP_TIME_10   2201 non-null   uint8 \n",
      " 6   CRS_DEP_TIME_11   2201 non-null   uint8 \n",
      " 7   CRS_DEP_TIME_12   2201 non-null   uint8 \n",
      " 8   CRS_DEP_TIME_13   2201 non-null   uint8 \n",
      " 9   CRS_DEP_TIME_14   2201 non-null   uint8 \n",
      " 10  CRS_DEP_TIME_15   2201 non-null   uint8 \n",
      " 11  CRS_DEP_TIME_16   2201 non-null   uint8 \n",
      " 12  CRS_DEP_TIME_17   2201 non-null   uint8 \n",
      " 13  CRS_DEP_TIME_18   2201 non-null   uint8 \n",
      " 14  CRS_DEP_TIME_19   2201 non-null   uint8 \n",
      " 15  CRS_DEP_TIME_20   2201 non-null   uint8 \n",
      " 16  CRS_DEP_TIME_21   2201 non-null   uint8 \n",
      " 17  DELAY_DEP_TIME_0  2201 non-null   uint8 \n",
      " 18  DELAY_DEP_TIME_1  2201 non-null   uint8 \n",
      " 19  CARRIER_CO        2201 non-null   uint8 \n",
      " 20  CARRIER_DH        2201 non-null   uint8 \n",
      " 21  CARRIER_DL        2201 non-null   uint8 \n",
      " 22  CARRIER_MQ        2201 non-null   uint8 \n",
      " 23  CARRIER_OH        2201 non-null   uint8 \n",
      " 24  CARRIER_RU        2201 non-null   uint8 \n",
      " 25  CARRIER_UA        2201 non-null   uint8 \n",
      " 26  CARRIER_US        2201 non-null   uint8 \n",
      " 27  DEST_EWR          2201 non-null   uint8 \n",
      " 28  DEST_JFK          2201 non-null   uint8 \n",
      " 29  DEST_LGA          2201 non-null   uint8 \n",
      " 30  ORIGIN_BWI        2201 non-null   uint8 \n",
      " 31  ORIGIN_DCA        2201 non-null   uint8 \n",
      " 32  ORIGIN_IAD        2201 non-null   uint8 \n",
      " 33  WEATHER_0         2201 non-null   uint8 \n",
      " 34  WEATHER_1         2201 non-null   uint8 \n",
      " 35  DAY_WEEK_1        2201 non-null   uint8 \n",
      " 36  DAY_WEEK_2        2201 non-null   uint8 \n",
      " 37  DAY_WEEK_3        2201 non-null   uint8 \n",
      " 38  DAY_WEEK_4        2201 non-null   uint8 \n",
      " 39  DAY_WEEK_5        2201 non-null   uint8 \n",
      " 40  DAY_WEEK_6        2201 non-null   uint8 \n",
      " 41  DAY_WEEK_7        2201 non-null   uint8 \n",
      " 42  DAY_MONTH_1       2201 non-null   uint8 \n",
      " 43  DAY_MONTH_2       2201 non-null   uint8 \n",
      " 44  DAY_MONTH_3       2201 non-null   uint8 \n",
      " 45  DAY_MONTH_4       2201 non-null   uint8 \n",
      " 46  DAY_MONTH_5       2201 non-null   uint8 \n",
      " 47  DAY_MONTH_6       2201 non-null   uint8 \n",
      " 48  DAY_MONTH_7       2201 non-null   uint8 \n",
      " 49  DAY_MONTH_8       2201 non-null   uint8 \n",
      " 50  DAY_MONTH_9       2201 non-null   uint8 \n",
      " 51  DAY_MONTH_10      2201 non-null   uint8 \n",
      " 52  DAY_MONTH_11      2201 non-null   uint8 \n",
      " 53  DAY_MONTH_12      2201 non-null   uint8 \n",
      " 54  DAY_MONTH_13      2201 non-null   uint8 \n",
      " 55  DAY_MONTH_14      2201 non-null   uint8 \n",
      " 56  DAY_MONTH_15      2201 non-null   uint8 \n",
      " 57  DAY_MONTH_16      2201 non-null   uint8 \n",
      " 58  DAY_MONTH_17      2201 non-null   uint8 \n",
      " 59  DAY_MONTH_18      2201 non-null   uint8 \n",
      " 60  DAY_MONTH_19      2201 non-null   uint8 \n",
      " 61  DAY_MONTH_20      2201 non-null   uint8 \n",
      " 62  DAY_MONTH_21      2201 non-null   uint8 \n",
      " 63  DAY_MONTH_22      2201 non-null   uint8 \n",
      " 64  DAY_MONTH_23      2201 non-null   uint8 \n",
      " 65  DAY_MONTH_24      2201 non-null   uint8 \n",
      " 66  DAY_MONTH_25      2201 non-null   uint8 \n",
      " 67  DAY_MONTH_26      2201 non-null   uint8 \n",
      " 68  DAY_MONTH_27      2201 non-null   uint8 \n",
      " 69  DAY_MONTH_28      2201 non-null   uint8 \n",
      " 70  DAY_MONTH_29      2201 non-null   uint8 \n",
      " 71  DAY_MONTH_30      2201 non-null   uint8 \n",
      " 72  DAY_MONTH_31      2201 non-null   uint8 \n",
      "dtypes: object(1), uint8(72)\n",
      "memory usage: 172.1+ KB\n"
     ]
    }
   ],
   "source": [
    "new_raw_data.info()"
   ]
  },
  {
   "cell_type": "markdown",
   "id": "209cf09e",
   "metadata": {},
   "source": [
    "## Conduct feature importance"
   ]
  },
  {
   "cell_type": "code",
   "execution_count": 35,
   "id": "56c17457",
   "metadata": {},
   "outputs": [],
   "source": [
    "#Creating X and y data matrices (X = predictor variables, y = outcome variable)\n",
    "X=new_raw_data.drop(labels=['FLIGHT_STATUS'], axis=1)\n",
    "y=new_raw_data['FLIGHT_STATUS']"
   ]
  },
  {
   "cell_type": "code",
   "execution_count": 36,
   "id": "4d22b9a2",
   "metadata": {},
   "outputs": [],
   "source": [
    "#Ensuring int datatype of X and y \n",
    "y = y.astype(int)\n",
    "X = X.astype(int)"
   ]
  },
  {
   "cell_type": "code",
   "execution_count": 37,
   "id": "12d98a2a",
   "metadata": {},
   "outputs": [
    {
     "data": {
      "text/plain": [
       "((2201, 72), (2201,))"
      ]
     },
     "execution_count": 37,
     "metadata": {},
     "output_type": "execute_result"
    }
   ],
   "source": [
    "X.shape, y.shape"
   ]
  },
  {
   "cell_type": "code",
   "execution_count": 38,
   "id": "1e1521f0",
   "metadata": {},
   "outputs": [],
   "source": [
    "#Handleing imbalanced data by using RandomOverSampler\n",
    "ros = RandomOverSampler(sampling_strategy=1) # sampling_strategy=1 means 50% for each class\n",
    "X_res, y_res = ros.fit_resample(X, y)"
   ]
  },
  {
   "cell_type": "code",
   "execution_count": 39,
   "id": "57c8b6af",
   "metadata": {},
   "outputs": [
    {
     "data": {
      "image/png": "[encoded data removed]",
      "text/plain": [
       "<Figure size 432x288 with 1 Axes>"
      ]
     },
     "metadata": {},
     "output_type": "display_data"
    }
   ],
   "source": [
    "#Plotting the outcome of RandomOverSampler\n",
    "ax = y_res.value_counts().plot.pie(autopct='%.2f')\n",
    "_ = ax.set_title(\"Over-sampling\")"
   ]
  },
  {
   "cell_type": "code",
   "execution_count": 40,
   "id": "70bcfae5",
   "metadata": {},
   "outputs": [
    {
     "data": {
      "text/plain": [
       "((3546, 72), (3546,))"
      ]
     },
     "execution_count": 40,
     "metadata": {},
     "output_type": "execute_result"
    }
   ],
   "source": [
    "X_res.shape, y_res.shape"
   ]
  },
  {
   "cell_type": "markdown",
   "id": "5a1bfae6",
   "metadata": {},
   "source": [
    "3546 rows of 73 columns"
   ]
  },
  {
   "cell_type": "code",
   "execution_count": 41,
   "id": "abbc857a",
   "metadata": {},
   "outputs": [
    {
     "data": {
      "text/html": [
       "<style>#sk-container-id-1 {color: black;background-color: white;}#sk-container-id-1 pre{padding: 0;}#sk-container-id-1 div.sk-toggleable {background-color: white;}#sk-container-id-1 label.sk-toggleable__label {cursor: pointer;display: block;width: 100%;margin-bottom: 0;padding: 0.3em;box-sizing: border-box;text-align: center;}#sk-container-id-1 label.sk-toggleable__label-arrow:before {content: \"▸\";float: left;margin-right: 0.25em;color: #696969;}#sk-container-id-1 label.sk-toggleable__label-arrow:hover:before {color: black;}#sk-container-id-1 div.sk-estimator:hover label.sk-toggleable__label-arrow:before {color: black;}#sk-container-id-1 div.sk-toggleable__content {max-height: 0;max-width: 0;overflow: hidden;text-align: left;background-color: #f0f8ff;}#sk-container-id-1 div.sk-toggleable__content pre {margin: 0.2em;color: black;border-radius: 0.25em;background-color: #f0f8ff;}#sk-container-id-1 input.sk-toggleable__control:checked~div.sk-toggleable__content {max-height: 200px;max-width: 100%;overflow: auto;}#sk-container-id-1 input.sk-toggleable__control:checked~label.sk-toggleable__label-arrow:before {content: \"▾\";}#sk-container-id-1 div.sk-estimator input.sk-toggleable__control:checked~label.sk-toggleable__label {background-color: #d4ebff;}#sk-container-id-1 div.sk-label input.sk-toggleable__control:checked~label.sk-toggleable__label {background-color: #d4ebff;}#sk-container-id-1 input.sk-hidden--visually {border: 0;clip: rect(1px 1px 1px 1px);clip: rect(1px, 1px, 1px, 1px);height: 1px;margin: -1px;overflow: hidden;padding: 0;position: absolute;width: 1px;}#sk-container-id-1 div.sk-estimator {font-family: monospace;background-color: #f0f8ff;border: 1px dotted black;border-radius: 0.25em;box-sizing: border-box;margin-bottom: 0.5em;}#sk-container-id-1 div.sk-estimator:hover {background-color: #d4ebff;}#sk-container-id-1 div.sk-parallel-item::after {content: \"\";width: 100%;border-bottom: 1px solid gray;flex-grow: 1;}#sk-container-id-1 div.sk-label:hover label.sk-toggleable__label {background-color: #d4ebff;}#sk-container-id-1 div.sk-serial::before {content: \"\";position: absolute;border-left: 1px solid gray;box-sizing: border-box;top: 0;bottom: 0;left: 50%;z-index: 0;}#sk-container-id-1 div.sk-serial {display: flex;flex-direction: column;align-items: center;background-color: white;padding-right: 0.2em;padding-left: 0.2em;position: relative;}#sk-container-id-1 div.sk-item {position: relative;z-index: 1;}#sk-container-id-1 div.sk-parallel {display: flex;align-items: stretch;justify-content: center;background-color: white;position: relative;}#sk-container-id-1 div.sk-item::before, #sk-container-id-1 div.sk-parallel-item::before {content: \"\";position: absolute;border-left: 1px solid gray;box-sizing: border-box;top: 0;bottom: 0;left: 50%;z-index: -1;}#sk-container-id-1 div.sk-parallel-item {display: flex;flex-direction: column;z-index: 1;position: relative;background-color: white;}#sk-container-id-1 div.sk-parallel-item:first-child::after {align-self: flex-end;width: 50%;}#sk-container-id-1 div.sk-parallel-item:last-child::after {align-self: flex-start;width: 50%;}#sk-container-id-1 div.sk-parallel-item:only-child::after {width: 0;}#sk-container-id-1 div.sk-dashed-wrapped {border: 1px dashed gray;margin: 0 0.4em 0.5em 0.4em;box-sizing: border-box;padding-bottom: 0.4em;background-color: white;}#sk-container-id-1 div.sk-label label {font-family: monospace;font-weight: bold;display: inline-block;line-height: 1.2em;}#sk-container-id-1 div.sk-label-container {text-align: center;}#sk-container-id-1 div.sk-container {/* jupyter's `normalize.less` sets `[hidden] { display: none; }` but bootstrap.min.css set `[hidden] { display: none !important; }` so we also need the `!important` here to be able to override the default hidden behavior on the sphinx rendered scikit-learn.org. See: https://github.com/scikit-learn/scikit-learn/issues/21755 */display: inline-block !important;position: relative;}#sk-container-id-1 div.sk-text-repr-fallback {display: none;}</style><div id=\"sk-container-id-1\" class=\"sk-top-container\"><div class=\"sk-text-repr-fallback\"><pre>DecisionTreeClassifier(criterion=&#x27;entropy&#x27;, max_depth=10, random_state=1)</pre><b>In a Jupyter environment, please rerun this cell to show the HTML representation or trust the notebook. <br />On GitHub, the HTML representation is unable to render, please try loading this page with nbviewer.org.</b></div><div class=\"sk-container\" hidden><div class=\"sk-item\"><div class=\"sk-estimator sk-toggleable\"><input class=\"sk-toggleable__control sk-hidden--visually\" id=\"sk-estimator-id-1\" type=\"checkbox\" checked><label for=\"sk-estimator-id-1\" class=\"sk-toggleable__label sk-toggleable__label-arrow\">DecisionTreeClassifier</label><div class=\"sk-toggleable__content\"><pre>DecisionTreeClassifier(criterion=&#x27;entropy&#x27;, max_depth=10, random_state=1)</pre></div></div></div></div></div>"
      ],
      "text/plain": [
       "DecisionTreeClassifier(criterion='entropy', max_depth=10, random_state=1)"
      ]
     },
     "execution_count": 41,
     "metadata": {},
     "output_type": "execute_result"
    }
   ],
   "source": [
    "# Running a Tree-based estimators (i.e. decision trees & random forests)\n",
    "dt = DecisionTreeClassifier(random_state=1, criterion = 'entropy', max_depth = 10)\n",
    "dt.fit(X_res,y_res)"
   ]
  },
  {
   "cell_type": "code",
   "execution_count": 42,
   "id": "05c36422",
   "metadata": {},
   "outputs": [
    {
     "name": "stdout",
     "output_type": "stream",
     "text": [
      "The feature importance for CRS_DEP_TIME_6 is : 0.01479412016729374\n",
      "The feature importance for CRS_DEP_TIME_7 is : 0.001412885853310352\n",
      "The feature importance for CRS_DEP_TIME_8 is : 0.01610980418569683\n",
      "The feature importance for CRS_DEP_TIME_9 is : 0.009930124031113213\n",
      "The feature importance for CRS_DEP_TIME_10 is : 0.00293297818732214\n",
      "The feature importance for CRS_DEP_TIME_11 is : 0.013148917780561159\n",
      "The feature importance for CRS_DEP_TIME_12 is : 0.01603447962939593\n",
      "The feature importance for CRS_DEP_TIME_13 is : 0.005628441835543792\n",
      "The feature importance for CRS_DEP_TIME_14 is : 0.003655964262186838\n",
      "The feature importance for CRS_DEP_TIME_15 is : 0.0073933082052665185\n",
      "The feature importance for CRS_DEP_TIME_16 is : 0.02132892883276464\n",
      "The feature importance for CRS_DEP_TIME_17 is : 0.004097216082490281\n",
      "The feature importance for CRS_DEP_TIME_18 is : 0.011873937225046479\n",
      "The feature importance for CRS_DEP_TIME_19 is : 0.0061274446367572885\n",
      "The feature importance for CRS_DEP_TIME_20 is : 0.0041175783242442835\n",
      "The feature importance for CRS_DEP_TIME_21 is : 0.0025066125054544392\n",
      "The feature importance for DELAY_DEP_TIME_0 is : 0.0\n",
      "The feature importance for DELAY_DEP_TIME_1 is : 0.554096003638569\n",
      "The feature importance for CARRIER_CO is : 0.0067425798655329095\n",
      "The feature importance for CARRIER_DH is : 0.005523271828697603\n",
      "The feature importance for CARRIER_DL is : 0.037340613712036556\n",
      "The feature importance for CARRIER_MQ is : 0.0016643051801546102\n",
      "The feature importance for CARRIER_OH is : 0.0\n",
      "The feature importance for CARRIER_RU is : 0.006604095333243095\n",
      "The feature importance for CARRIER_UA is : 0.0\n",
      "The feature importance for CARRIER_US is : 0.018549871387274364\n",
      "The feature importance for DEST_EWR is : 0.01028644613393608\n",
      "The feature importance for DEST_JFK is : 0.003915208049204439\n",
      "The feature importance for DEST_LGA is : 0.01542769276535627\n",
      "The feature importance for ORIGIN_BWI is : 0.0011555792827255835\n",
      "The feature importance for ORIGIN_DCA is : 0.0\n",
      "The feature importance for ORIGIN_IAD is : 0.001412885853310352\n",
      "The feature importance for WEATHER_0 is : 0.021773436849596425\n",
      "The feature importance for WEATHER_1 is : 0.0\n",
      "The feature importance for DAY_WEEK_1 is : 0.003138213593481311\n",
      "The feature importance for DAY_WEEK_2 is : 0.018432744953193327\n",
      "The feature importance for DAY_WEEK_3 is : 0.00274054064537441\n",
      "The feature importance for DAY_WEEK_4 is : 0.009252254032990653\n",
      "The feature importance for DAY_WEEK_5 is : 0.014828875131358565\n",
      "The feature importance for DAY_WEEK_6 is : 0.008818783807750464\n",
      "The feature importance for DAY_WEEK_7 is : 0.007065334472541768\n",
      "The feature importance for DAY_MONTH_1 is : 0.0\n",
      "The feature importance for DAY_MONTH_2 is : 0.009479840156742381\n",
      "The feature importance for DAY_MONTH_3 is : 0.0\n",
      "The feature importance for DAY_MONTH_4 is : 0.0039044721274503276\n",
      "The feature importance for DAY_MONTH_5 is : 0.005133798768815083\n",
      "The feature importance for DAY_MONTH_6 is : 0.007449950586483892\n",
      "The feature importance for DAY_MONTH_7 is : 0.0\n",
      "The feature importance for DAY_MONTH_8 is : 0.0036713208293464076\n",
      "The feature importance for DAY_MONTH_9 is : 0.0\n",
      "The feature importance for DAY_MONTH_10 is : 0.0\n",
      "The feature importance for DAY_MONTH_11 is : 0.0\n",
      "The feature importance for DAY_MONTH_12 is : 0.0\n",
      "The feature importance for DAY_MONTH_13 is : 0.00390271957263817\n",
      "The feature importance for DAY_MONTH_14 is : 0.011398701587046471\n",
      "The feature importance for DAY_MONTH_15 is : 0.019538527264647665\n",
      "The feature importance for DAY_MONTH_16 is : 0.0\n",
      "The feature importance for DAY_MONTH_17 is : 0.0026689794515358982\n",
      "The feature importance for DAY_MONTH_18 is : 0.013931639452782162\n",
      "The feature importance for DAY_MONTH_19 is : 0.0\n",
      "The feature importance for DAY_MONTH_20 is : 0.0\n",
      "The feature importance for DAY_MONTH_21 is : 0.0\n",
      "The feature importance for DAY_MONTH_22 is : 0.001615242364042969\n",
      "The feature importance for DAY_MONTH_23 is : 0.0017100948509771625\n",
      "The feature importance for DAY_MONTH_24 is : 0.0020193504075106603\n",
      "The feature importance for DAY_MONTH_25 is : 0.0\n",
      "The feature importance for DAY_MONTH_26 is : 0.0\n",
      "The feature importance for DAY_MONTH_27 is : 0.015419763290760126\n",
      "The feature importance for DAY_MONTH_28 is : 0.0\n",
      "The feature importance for DAY_MONTH_29 is : 0.002171534283487618\n",
      "The feature importance for DAY_MONTH_30 is : 0.0\n",
      "The feature importance for DAY_MONTH_31 is : 0.00612258674495722\n"
     ]
    }
   ],
   "source": [
    "# Running Feature Importance\n",
    "\n",
    "fi_col = []\n",
    "fi = []\n",
    "\n",
    "for i,column in enumerate(new_raw_data.drop('FLIGHT_STATUS', axis = 1)):\n",
    "    print('The feature importance for {} is : {}'.format(column, dt.feature_importances_[i]))\n",
    "    \n",
    "    fi_col.append(column)\n",
    "    fi.append(dt.feature_importances_[i])"
   ]
  },
  {
   "cell_type": "code",
   "execution_count": 43,
   "id": "91839266",
   "metadata": {},
   "outputs": [
    {
     "data": {
      "text/html": [
       "<div>\n",
       "<style scoped>\n",
       "    .dataframe tbody tr th:only-of-type {\n",
       "        vertical-align: middle;\n",
       "    }\n",
       "\n",
       "    .dataframe tbody tr th {\n",
       "        vertical-align: top;\n",
       "    }\n",
       "\n",
       "    .dataframe thead th {\n",
       "        text-align: right;\n",
       "    }\n",
       "</style>\n",
       "<table border=\"1\" class=\"dataframe\">\n",
       "  <thead>\n",
       "    <tr style=\"text-align: right;\">\n",
       "      <th></th>\n",
       "      <th>Feature</th>\n",
       "      <th>Feature_Importance</th>\n",
       "    </tr>\n",
       "  </thead>\n",
       "  <tbody>\n",
       "    <tr>\n",
       "      <th>0</th>\n",
       "      <td>CRS_DEP_TIME_6</td>\n",
       "      <td>0.014794</td>\n",
       "    </tr>\n",
       "    <tr>\n",
       "      <th>1</th>\n",
       "      <td>CRS_DEP_TIME_7</td>\n",
       "      <td>0.001413</td>\n",
       "    </tr>\n",
       "    <tr>\n",
       "      <th>2</th>\n",
       "      <td>CRS_DEP_TIME_8</td>\n",
       "      <td>0.016110</td>\n",
       "    </tr>\n",
       "    <tr>\n",
       "      <th>3</th>\n",
       "      <td>CRS_DEP_TIME_9</td>\n",
       "      <td>0.009930</td>\n",
       "    </tr>\n",
       "    <tr>\n",
       "      <th>4</th>\n",
       "      <td>CRS_DEP_TIME_10</td>\n",
       "      <td>0.002933</td>\n",
       "    </tr>\n",
       "    <tr>\n",
       "      <th>...</th>\n",
       "      <td>...</td>\n",
       "      <td>...</td>\n",
       "    </tr>\n",
       "    <tr>\n",
       "      <th>67</th>\n",
       "      <td>DAY_MONTH_27</td>\n",
       "      <td>0.015420</td>\n",
       "    </tr>\n",
       "    <tr>\n",
       "      <th>68</th>\n",
       "      <td>DAY_MONTH_28</td>\n",
       "      <td>0.000000</td>\n",
       "    </tr>\n",
       "    <tr>\n",
       "      <th>69</th>\n",
       "      <td>DAY_MONTH_29</td>\n",
       "      <td>0.002172</td>\n",
       "    </tr>\n",
       "    <tr>\n",
       "      <th>70</th>\n",
       "      <td>DAY_MONTH_30</td>\n",
       "      <td>0.000000</td>\n",
       "    </tr>\n",
       "    <tr>\n",
       "      <th>71</th>\n",
       "      <td>DAY_MONTH_31</td>\n",
       "      <td>0.006123</td>\n",
       "    </tr>\n",
       "  </tbody>\n",
       "</table>\n",
       "<p>72 rows × 2 columns</p>\n",
       "</div>"
      ],
      "text/plain": [
       "            Feature  Feature_Importance\n",
       "0    CRS_DEP_TIME_6            0.014794\n",
       "1    CRS_DEP_TIME_7            0.001413\n",
       "2    CRS_DEP_TIME_8            0.016110\n",
       "3    CRS_DEP_TIME_9            0.009930\n",
       "4   CRS_DEP_TIME_10            0.002933\n",
       "..              ...                 ...\n",
       "67     DAY_MONTH_27            0.015420\n",
       "68     DAY_MONTH_28            0.000000\n",
       "69     DAY_MONTH_29            0.002172\n",
       "70     DAY_MONTH_30            0.000000\n",
       "71     DAY_MONTH_31            0.006123\n",
       "\n",
       "[72 rows x 2 columns]"
      ]
     },
     "execution_count": 43,
     "metadata": {},
     "output_type": "execute_result"
    }
   ],
   "source": [
    "# Creating a Dataframe for Feature Importance\n",
    "fi_col\n",
    "fi\n",
    "\n",
    "fi_df = zip(fi_col, fi)\n",
    "fi_df = pd.DataFrame(fi_df, columns = ['Feature','Feature_Importance'])\n",
    "fi_df"
   ]
  },
  {
   "cell_type": "code",
   "execution_count": 44,
   "id": "cbf7e5d5",
   "metadata": {},
   "outputs": [],
   "source": [
    "# Ordering the feature importance data\n",
    "fi_df = fi_df.sort_values('Feature_Importance', ascending = False).reset_index()"
   ]
  },
  {
   "cell_type": "code",
   "execution_count": 45,
   "id": "b2890caa",
   "metadata": {},
   "outputs": [
    {
     "data": {
      "text/html": [
       "<div>\n",
       "<style scoped>\n",
       "    .dataframe tbody tr th:only-of-type {\n",
       "        vertical-align: middle;\n",
       "    }\n",
       "\n",
       "    .dataframe tbody tr th {\n",
       "        vertical-align: top;\n",
       "    }\n",
       "\n",
       "    .dataframe thead th {\n",
       "        text-align: right;\n",
       "    }\n",
       "</style>\n",
       "<table border=\"1\" class=\"dataframe\">\n",
       "  <thead>\n",
       "    <tr style=\"text-align: right;\">\n",
       "      <th></th>\n",
       "      <th>index</th>\n",
       "      <th>Feature</th>\n",
       "      <th>Feature_Importance</th>\n",
       "    </tr>\n",
       "  </thead>\n",
       "  <tbody>\n",
       "    <tr>\n",
       "      <th>0</th>\n",
       "      <td>17</td>\n",
       "      <td>DELAY_DEP_TIME_1</td>\n",
       "      <td>0.554096</td>\n",
       "    </tr>\n",
       "    <tr>\n",
       "      <th>1</th>\n",
       "      <td>20</td>\n",
       "      <td>CARRIER_DL</td>\n",
       "      <td>0.037341</td>\n",
       "    </tr>\n",
       "    <tr>\n",
       "      <th>2</th>\n",
       "      <td>32</td>\n",
       "      <td>WEATHER_0</td>\n",
       "      <td>0.021773</td>\n",
       "    </tr>\n",
       "    <tr>\n",
       "      <th>3</th>\n",
       "      <td>10</td>\n",
       "      <td>CRS_DEP_TIME_16</td>\n",
       "      <td>0.021329</td>\n",
       "    </tr>\n",
       "    <tr>\n",
       "      <th>4</th>\n",
       "      <td>55</td>\n",
       "      <td>DAY_MONTH_15</td>\n",
       "      <td>0.019539</td>\n",
       "    </tr>\n",
       "    <tr>\n",
       "      <th>...</th>\n",
       "      <td>...</td>\n",
       "      <td>...</td>\n",
       "      <td>...</td>\n",
       "    </tr>\n",
       "    <tr>\n",
       "      <th>67</th>\n",
       "      <td>47</td>\n",
       "      <td>DAY_MONTH_7</td>\n",
       "      <td>0.000000</td>\n",
       "    </tr>\n",
       "    <tr>\n",
       "      <th>68</th>\n",
       "      <td>56</td>\n",
       "      <td>DAY_MONTH_16</td>\n",
       "      <td>0.000000</td>\n",
       "    </tr>\n",
       "    <tr>\n",
       "      <th>69</th>\n",
       "      <td>49</td>\n",
       "      <td>DAY_MONTH_9</td>\n",
       "      <td>0.000000</td>\n",
       "    </tr>\n",
       "    <tr>\n",
       "      <th>70</th>\n",
       "      <td>30</td>\n",
       "      <td>ORIGIN_DCA</td>\n",
       "      <td>0.000000</td>\n",
       "    </tr>\n",
       "    <tr>\n",
       "      <th>71</th>\n",
       "      <td>50</td>\n",
       "      <td>DAY_MONTH_10</td>\n",
       "      <td>0.000000</td>\n",
       "    </tr>\n",
       "  </tbody>\n",
       "</table>\n",
       "<p>72 rows × 3 columns</p>\n",
       "</div>"
      ],
      "text/plain": [
       "    index           Feature  Feature_Importance\n",
       "0      17  DELAY_DEP_TIME_1            0.554096\n",
       "1      20        CARRIER_DL            0.037341\n",
       "2      32         WEATHER_0            0.021773\n",
       "3      10   CRS_DEP_TIME_16            0.021329\n",
       "4      55      DAY_MONTH_15            0.019539\n",
       "..    ...               ...                 ...\n",
       "67     47       DAY_MONTH_7            0.000000\n",
       "68     56      DAY_MONTH_16            0.000000\n",
       "69     49       DAY_MONTH_9            0.000000\n",
       "70     30        ORIGIN_DCA            0.000000\n",
       "71     50      DAY_MONTH_10            0.000000\n",
       "\n",
       "[72 rows x 3 columns]"
      ]
     },
     "execution_count": 45,
     "metadata": {},
     "output_type": "execute_result"
    }
   ],
   "source": [
    "#Viewing the feature importance dataframe\n",
    "fi_df"
   ]
  },
  {
   "cell_type": "code",
   "execution_count": 46,
   "id": "ca441ea8",
   "metadata": {},
   "outputs": [],
   "source": [
    "#Filtering only feature_importance >0\n",
    "fi_df = fi_df[fi_df['Feature_Importance'] > 0]"
   ]
  },
  {
   "cell_type": "code",
   "execution_count": 47,
   "id": "be0924b9",
   "metadata": {},
   "outputs": [],
   "source": [
    "# Creating list of columns to build up the prediction model\n",
    "columns_to_keep = fi_df['Feature']"
   ]
  },
  {
   "cell_type": "code",
   "execution_count": 48,
   "id": "1ab11bee",
   "metadata": {},
   "outputs": [
    {
     "data": {
      "text/plain": [
       "0     DELAY_DEP_TIME_1\n",
       "1           CARRIER_DL\n",
       "2            WEATHER_0\n",
       "3      CRS_DEP_TIME_16\n",
       "4         DAY_MONTH_15\n",
       "5           CARRIER_US\n",
       "6           DAY_WEEK_2\n",
       "7       CRS_DEP_TIME_8\n",
       "8      CRS_DEP_TIME_12\n",
       "9             DEST_LGA\n",
       "10        DAY_MONTH_27\n",
       "11          DAY_WEEK_5\n",
       "12      CRS_DEP_TIME_6\n",
       "13        DAY_MONTH_18\n",
       "14     CRS_DEP_TIME_11\n",
       "15     CRS_DEP_TIME_18\n",
       "16        DAY_MONTH_14\n",
       "17            DEST_EWR\n",
       "18      CRS_DEP_TIME_9\n",
       "19         DAY_MONTH_2\n",
       "20          DAY_WEEK_4\n",
       "21          DAY_WEEK_6\n",
       "22         DAY_MONTH_6\n",
       "23     CRS_DEP_TIME_15\n",
       "24          DAY_WEEK_7\n",
       "25          CARRIER_CO\n",
       "26          CARRIER_RU\n",
       "27     CRS_DEP_TIME_19\n",
       "28        DAY_MONTH_31\n",
       "29     CRS_DEP_TIME_13\n",
       "30          CARRIER_DH\n",
       "31         DAY_MONTH_5\n",
       "32     CRS_DEP_TIME_20\n",
       "33     CRS_DEP_TIME_17\n",
       "34            DEST_JFK\n",
       "35         DAY_MONTH_4\n",
       "36        DAY_MONTH_13\n",
       "37         DAY_MONTH_8\n",
       "38     CRS_DEP_TIME_14\n",
       "39          DAY_WEEK_1\n",
       "40     CRS_DEP_TIME_10\n",
       "41          DAY_WEEK_3\n",
       "42        DAY_MONTH_17\n",
       "43     CRS_DEP_TIME_21\n",
       "44        DAY_MONTH_29\n",
       "45        DAY_MONTH_24\n",
       "46        DAY_MONTH_23\n",
       "47          CARRIER_MQ\n",
       "48        DAY_MONTH_22\n",
       "49      CRS_DEP_TIME_7\n",
       "50          ORIGIN_IAD\n",
       "51          ORIGIN_BWI\n",
       "Name: Feature, dtype: object"
      ]
     },
     "execution_count": 48,
     "metadata": {},
     "output_type": "execute_result"
    }
   ],
   "source": [
    "columns_to_keep"
   ]
  },
  {
   "cell_type": "markdown",
   "id": "08f5fd5a",
   "metadata": {},
   "source": [
    "## Data partition"
   ]
  },
  {
   "cell_type": "code",
   "execution_count": 49,
   "id": "c8eaa03c",
   "metadata": {},
   "outputs": [],
   "source": [
    "#Creating new X and y data matrices based on list of columns from feature importance \n",
    "#(X = predictor variables, y = outcome variable)\n",
    "X=X_res[columns_to_keep]\n",
    "y=y_res"
   ]
  },
  {
   "cell_type": "code",
   "execution_count": 50,
   "id": "b620792b",
   "metadata": {},
   "outputs": [],
   "source": [
    "#Ensuring int datatype of X and y \n",
    "y = y.astype(int)\n",
    "X = X.astype(int)"
   ]
  },
  {
   "cell_type": "code",
   "execution_count": 51,
   "id": "1c508ad4",
   "metadata": {},
   "outputs": [
    {
     "data": {
      "text/plain": [
       "((3546, 52), (3546,))"
      ]
     },
     "execution_count": 51,
     "metadata": {},
     "output_type": "execute_result"
    }
   ],
   "source": [
    "X.shape,y.shape"
   ]
  },
  {
   "cell_type": "code",
   "execution_count": 52,
   "id": "8504a7db",
   "metadata": {},
   "outputs": [],
   "source": [
    "#Splitting the dataset into training set and test set, size = 0.4\n",
    "train_X, valid_X, train_y, valid_y = train_test_split(X, y, test_size=0.4, random_state=1)"
   ]
  },
  {
   "cell_type": "code",
   "execution_count": 53,
   "id": "8b76f182",
   "metadata": {},
   "outputs": [
    {
     "data": {
      "text/plain": [
       "((2127, 52), (1419, 52), (2127,), (1419,))"
      ]
     },
     "execution_count": 53,
     "metadata": {},
     "output_type": "execute_result"
    }
   ],
   "source": [
    "train_X.shape, valid_X.shape, train_y.shape, valid_y.shape"
   ]
  },
  {
   "cell_type": "code",
   "execution_count": 54,
   "id": "555a5557",
   "metadata": {},
   "outputs": [
    {
     "data": {
      "text/plain": [
       "Index(['DELAY_DEP_TIME_1', 'CARRIER_DL', 'WEATHER_0', 'CRS_DEP_TIME_16',\n",
       "       'DAY_MONTH_15', 'CARRIER_US', 'DAY_WEEK_2', 'CRS_DEP_TIME_8',\n",
       "       'CRS_DEP_TIME_12', 'DEST_LGA', 'DAY_MONTH_27', 'DAY_WEEK_5',\n",
       "       'CRS_DEP_TIME_6', 'DAY_MONTH_18', 'CRS_DEP_TIME_11', 'CRS_DEP_TIME_18',\n",
       "       'DAY_MONTH_14', 'DEST_EWR', 'CRS_DEP_TIME_9', 'DAY_MONTH_2',\n",
       "       'DAY_WEEK_4', 'DAY_WEEK_6', 'DAY_MONTH_6', 'CRS_DEP_TIME_15',\n",
       "       'DAY_WEEK_7', 'CARRIER_CO', 'CARRIER_RU', 'CRS_DEP_TIME_19',\n",
       "       'DAY_MONTH_31', 'CRS_DEP_TIME_13', 'CARRIER_DH', 'DAY_MONTH_5',\n",
       "       'CRS_DEP_TIME_20', 'CRS_DEP_TIME_17', 'DEST_JFK', 'DAY_MONTH_4',\n",
       "       'DAY_MONTH_13', 'DAY_MONTH_8', 'CRS_DEP_TIME_14', 'DAY_WEEK_1',\n",
       "       'CRS_DEP_TIME_10', 'DAY_WEEK_3', 'DAY_MONTH_17', 'CRS_DEP_TIME_21',\n",
       "       'DAY_MONTH_29', 'DAY_MONTH_24', 'DAY_MONTH_23', 'CARRIER_MQ',\n",
       "       'DAY_MONTH_22', 'CRS_DEP_TIME_7', 'ORIGIN_IAD', 'ORIGIN_BWI'],\n",
       "      dtype='object')"
      ]
     },
     "execution_count": 54,
     "metadata": {},
     "output_type": "execute_result"
    }
   ],
   "source": [
    "train_X.columns"
   ]
  },
  {
   "cell_type": "markdown",
   "id": "fe13bba7",
   "metadata": {},
   "source": [
    "## Logistic Regression model"
   ]
  },
  {
   "cell_type": "code",
   "execution_count": 55,
   "id": "9c979891",
   "metadata": {},
   "outputs": [
    {
     "data": {
      "text/html": [
       "<style>#sk-container-id-2 {color: black;background-color: white;}#sk-container-id-2 pre{padding: 0;}#sk-container-id-2 div.sk-toggleable {background-color: white;}#sk-container-id-2 label.sk-toggleable__label {cursor: pointer;display: block;width: 100%;margin-bottom: 0;padding: 0.3em;box-sizing: border-box;text-align: center;}#sk-container-id-2 label.sk-toggleable__label-arrow:before {content: \"▸\";float: left;margin-right: 0.25em;color: #696969;}#sk-container-id-2 label.sk-toggleable__label-arrow:hover:before {color: black;}#sk-container-id-2 div.sk-estimator:hover label.sk-toggleable__label-arrow:before {color: black;}#sk-container-id-2 div.sk-toggleable__content {max-height: 0;max-width: 0;overflow: hidden;text-align: left;background-color: #f0f8ff;}#sk-container-id-2 div.sk-toggleable__content pre {margin: 0.2em;color: black;border-radius: 0.25em;background-color: #f0f8ff;}#sk-container-id-2 input.sk-toggleable__control:checked~div.sk-toggleable__content {max-height: 200px;max-width: 100%;overflow: auto;}#sk-container-id-2 input.sk-toggleable__control:checked~label.sk-toggleable__label-arrow:before {content: \"▾\";}#sk-container-id-2 div.sk-estimator input.sk-toggleable__control:checked~label.sk-toggleable__label {background-color: #d4ebff;}#sk-container-id-2 div.sk-label input.sk-toggleable__control:checked~label.sk-toggleable__label {background-color: #d4ebff;}#sk-container-id-2 input.sk-hidden--visually {border: 0;clip: rect(1px 1px 1px 1px);clip: rect(1px, 1px, 1px, 1px);height: 1px;margin: -1px;overflow: hidden;padding: 0;position: absolute;width: 1px;}#sk-container-id-2 div.sk-estimator {font-family: monospace;background-color: #f0f8ff;border: 1px dotted black;border-radius: 0.25em;box-sizing: border-box;margin-bottom: 0.5em;}#sk-container-id-2 div.sk-estimator:hover {background-color: #d4ebff;}#sk-container-id-2 div.sk-parallel-item::after {content: \"\";width: 100%;border-bottom: 1px solid gray;flex-grow: 1;}#sk-container-id-2 div.sk-label:hover label.sk-toggleable__label {background-color: #d4ebff;}#sk-container-id-2 div.sk-serial::before {content: \"\";position: absolute;border-left: 1px solid gray;box-sizing: border-box;top: 0;bottom: 0;left: 50%;z-index: 0;}#sk-container-id-2 div.sk-serial {display: flex;flex-direction: column;align-items: center;background-color: white;padding-right: 0.2em;padding-left: 0.2em;position: relative;}#sk-container-id-2 div.sk-item {position: relative;z-index: 1;}#sk-container-id-2 div.sk-parallel {display: flex;align-items: stretch;justify-content: center;background-color: white;position: relative;}#sk-container-id-2 div.sk-item::before, #sk-container-id-2 div.sk-parallel-item::before {content: \"\";position: absolute;border-left: 1px solid gray;box-sizing: border-box;top: 0;bottom: 0;left: 50%;z-index: -1;}#sk-container-id-2 div.sk-parallel-item {display: flex;flex-direction: column;z-index: 1;position: relative;background-color: white;}#sk-container-id-2 div.sk-parallel-item:first-child::after {align-self: flex-end;width: 50%;}#sk-container-id-2 div.sk-parallel-item:last-child::after {align-self: flex-start;width: 50%;}#sk-container-id-2 div.sk-parallel-item:only-child::after {width: 0;}#sk-container-id-2 div.sk-dashed-wrapped {border: 1px dashed gray;margin: 0 0.4em 0.5em 0.4em;box-sizing: border-box;padding-bottom: 0.4em;background-color: white;}#sk-container-id-2 div.sk-label label {font-family: monospace;font-weight: bold;display: inline-block;line-height: 1.2em;}#sk-container-id-2 div.sk-label-container {text-align: center;}#sk-container-id-2 div.sk-container {/* jupyter's `normalize.less` sets `[hidden] { display: none; }` but bootstrap.min.css set `[hidden] { display: none !important; }` so we also need the `!important` here to be able to override the default hidden behavior on the sphinx rendered scikit-learn.org. See: https://github.com/scikit-learn/scikit-learn/issues/21755 */display: inline-block !important;position: relative;}#sk-container-id-2 div.sk-text-repr-fallback {display: none;}</style><div id=\"sk-container-id-2\" class=\"sk-top-container\"><div class=\"sk-text-repr-fallback\"><pre>LogisticRegression(random_state=1)</pre><b>In a Jupyter environment, please rerun this cell to show the HTML representation or trust the notebook. <br />On GitHub, the HTML representation is unable to render, please try loading this page with nbviewer.org.</b></div><div class=\"sk-container\" hidden><div class=\"sk-item\"><div class=\"sk-estimator sk-toggleable\"><input class=\"sk-toggleable__control sk-hidden--visually\" id=\"sk-estimator-id-2\" type=\"checkbox\" checked><label for=\"sk-estimator-id-2\" class=\"sk-toggleable__label sk-toggleable__label-arrow\">LogisticRegression</label><div class=\"sk-toggleable__content\"><pre>LogisticRegression(random_state=1)</pre></div></div></div></div></div>"
      ],
      "text/plain": [
       "LogisticRegression(random_state=1)"
      ]
     },
     "execution_count": 55,
     "metadata": {},
     "output_type": "execute_result"
    }
   ],
   "source": [
    "# Fitting a logistic regression model\n",
    "model1 = LogisticRegression(random_state=1,solver = 'lbfgs')\n",
    "model1.fit(train_X, train_y)"
   ]
  },
  {
   "cell_type": "code",
   "execution_count": 56,
   "id": "75c7bb0e",
   "metadata": {},
   "outputs": [
    {
     "name": "stdout",
     "output_type": "stream",
     "text": [
      "Intercept: [-0.35113586]\n",
      "           Predictor  Coefficients\n",
      "0   DELAY_DEP_TIME_1      3.013531\n",
      "1         CARRIER_DL     -0.371715\n",
      "2          WEATHER_0     -2.148256\n",
      "3    CRS_DEP_TIME_16     -0.068419\n",
      "4       DAY_MONTH_15      1.872199\n",
      "5         CARRIER_US      0.351295\n",
      "6         DAY_WEEK_2     -0.186735\n",
      "7     CRS_DEP_TIME_8     -0.048610\n",
      "8    CRS_DEP_TIME_12     -0.340917\n",
      "9           DEST_LGA      0.071211\n",
      "10      DAY_MONTH_27      1.879880\n",
      "11        DAY_WEEK_5      0.526466\n",
      "12    CRS_DEP_TIME_6     -0.301635\n",
      "13      DAY_MONTH_18      1.694077\n",
      "14   CRS_DEP_TIME_11     -0.633951\n",
      "15   CRS_DEP_TIME_18     -0.667823\n",
      "16      DAY_MONTH_14     -0.044063\n",
      "17          DEST_EWR      0.136515\n",
      "18    CRS_DEP_TIME_9     -0.946018\n",
      "19       DAY_MONTH_2     -1.296013\n",
      "20        DAY_WEEK_4     -0.641265\n",
      "21        DAY_WEEK_6     -0.378895\n",
      "22       DAY_MONTH_6     -1.059919\n",
      "23   CRS_DEP_TIME_15      0.576831\n",
      "24        DAY_WEEK_7      0.089312\n",
      "25        CARRIER_CO      0.726720\n",
      "26        CARRIER_RU      0.559413\n",
      "27   CRS_DEP_TIME_19      1.017119\n",
      "28      DAY_MONTH_31     -0.679862\n",
      "29   CRS_DEP_TIME_13     -0.155265\n",
      "30        CARRIER_DH      0.377357\n",
      "31       DAY_MONTH_5      0.652914\n",
      "32   CRS_DEP_TIME_20      0.896378\n",
      "33   CRS_DEP_TIME_17      0.194628\n",
      "34          DEST_JFK     -0.208130\n",
      "35       DAY_MONTH_4      0.798434\n",
      "36      DAY_MONTH_13      0.408267\n",
      "37       DAY_MONTH_8      0.035916\n",
      "38   CRS_DEP_TIME_14      0.030806\n",
      "39        DAY_WEEK_1      0.030262\n",
      "40   CRS_DEP_TIME_10     -0.447102\n",
      "41        DAY_WEEK_3      0.560452\n",
      "42      DAY_MONTH_17      0.558093\n",
      "43   CRS_DEP_TIME_21      0.544878\n",
      "44      DAY_MONTH_29      0.850939\n",
      "45      DAY_MONTH_24      0.531639\n",
      "46      DAY_MONTH_23      0.124026\n",
      "47        CARRIER_MQ      0.827001\n",
      "48      DAY_MONTH_22      0.366319\n",
      "49    CRS_DEP_TIME_7      0.348695\n",
      "50        ORIGIN_IAD      0.382935\n",
      "51        ORIGIN_BWI      0.123747\n"
     ]
    }
   ],
   "source": [
    "#Printing model's coefficients model1\n",
    "print('Intercept:', model1.intercept_)\n",
    "print(pd.DataFrame({'Predictor': train_X.columns, 'Coefficients': model1.coef_[0]}))"
   ]
  },
  {
   "cell_type": "code",
   "execution_count": 57,
   "id": "06139e8f",
   "metadata": {},
   "outputs": [
    {
     "name": "stdout",
     "output_type": "stream",
     "text": [
      "The Training Accuracy is:  0.8307475317348378\n",
      "The Testing Accuracy is:  0.8005637773079634\n"
     ]
    }
   ],
   "source": [
    "# Accuracy on Train\n",
    "print(\"The Training Accuracy is: \", model1.score(train_X, train_y))\n",
    "\n",
    "# Accuracy on Test\n",
    "print(\"The Testing Accuracy is: \", model1.score(valid_X, valid_y))"
   ]
  },
  {
   "cell_type": "code",
   "execution_count": 58,
   "id": "10f8b293",
   "metadata": {},
   "outputs": [
    {
     "name": "stdout",
     "output_type": "stream",
     "text": [
      "Confusion Matrix (Accuracy 0.8307)\n",
      "\n",
      "       Prediction\n",
      "Actual   0   1\n",
      "     0 896 167\n",
      "     1 193 871\n"
     ]
    }
   ],
   "source": [
    "# training confusion matrix\n",
    "classificationSummary(train_y, model1.predict(train_X))"
   ]
  },
  {
   "cell_type": "code",
   "execution_count": 59,
   "id": "f1b0bfd8",
   "metadata": {},
   "outputs": [
    {
     "name": "stdout",
     "output_type": "stream",
     "text": [
      "Confusion Matrix (Accuracy 0.8006)\n",
      "\n",
      "       Prediction\n",
      "Actual   0   1\n",
      "     0 590 120\n",
      "     1 163 546\n"
     ]
    }
   ],
   "source": [
    "# validation confusion matrix\n",
    "classificationSummary(valid_y, model1.predict(valid_X))"
   ]
  },
  {
   "cell_type": "code",
   "execution_count": 60,
   "id": "1be1c357",
   "metadata": {},
   "outputs": [],
   "source": [
    "# Confusion Matrix function\n",
    "\n",
    "def plot_confusion_matrix(cm, classes=None, title='Confusion matrix'):\n",
    "    \"\"\"Plots a confusion matrix.\"\"\"\n",
    "    if classes is not None:\n",
    "        sns.heatmap(cm, xticklabels=classes, yticklabels=classes, vmin=0., vmax=1., annot=True, annot_kws={'size':50})\n",
    "    else:\n",
    "        sns.heatmap(cm, vmin=0., vmax=1.)\n",
    "    plt.title(title)\n",
    "    plt.ylabel('Actual')\n",
    "    plt.xlabel('Prediction')"
   ]
  },
  {
   "cell_type": "code",
   "execution_count": 61,
   "id": "b272f2eb",
   "metadata": {},
   "outputs": [
    {
     "data": {
      "image/png": "[encoded data removed]",
      "text/plain": [
       "<Figure size 432x288 with 2 Axes>"
      ]
     },
     "metadata": {
      "needs_background": "light"
     },
     "output_type": "display_data"
    }
   ],
   "source": [
    "# Plotting Confusion Matrix\n",
    "\n",
    "cm1 = confusion_matrix(valid_y, model1.predict(valid_X))\n",
    "cm1_norm = cm1 / cm1.sum(axis=1).reshape(-1,1)\n",
    "\n",
    "plot_confusion_matrix(cm1_norm, classes = model1.classes_, title='Confusion matrix')"
   ]
  },
  {
   "cell_type": "code",
   "execution_count": 62,
   "id": "2d274a8f",
   "metadata": {},
   "outputs": [
    {
     "data": {
      "text/plain": [
       "array([[590, 120],\n",
       "       [163, 546]], dtype=int64)"
      ]
     },
     "execution_count": 62,
     "metadata": {},
     "output_type": "execute_result"
    }
   ],
   "source": [
    "cm1"
   ]
  },
  {
   "cell_type": "code",
   "execution_count": 63,
   "id": "35fe9174",
   "metadata": {},
   "outputs": [],
   "source": [
    "# Calculating False Positives (FP), False Negatives (FN), True Positives (TP) & True Negatives (TN)\n",
    "FP1 = cm1.sum(axis=0) - np.diag(cm1)\n",
    "FN1 = cm1.sum(axis=1) - np.diag(cm1)\n",
    "TP1 = np.diag(cm1)\n",
    "TN1 = cm1.sum() - (FP1 + FN1 + TP1)"
   ]
  },
  {
   "cell_type": "code",
   "execution_count": 64,
   "id": "f16c94fe",
   "metadata": {},
   "outputs": [
    {
     "data": {
      "text/plain": [
       "(array([163, 120], dtype=int64),\n",
       " array([120, 163], dtype=int64),\n",
       " array([590, 546], dtype=int64),\n",
       " array([546, 590], dtype=int64))"
      ]
     },
     "execution_count": 64,
     "metadata": {},
     "output_type": "execute_result"
    }
   ],
   "source": [
    "FP1, FN1, TP1, TN1"
   ]
  },
  {
   "cell_type": "code",
   "execution_count": 65,
   "id": "8e3135e5",
   "metadata": {},
   "outputs": [
    {
     "name": "stdout",
     "output_type": "stream",
     "text": [
      "The True Positive Rate is: [0.83098592 0.77009873]\n",
      "The Precision is: [0.78353254 0.81981982]\n",
      "The False positive rate is: [0.22990127 0.16901408]\n"
     ]
    }
   ],
   "source": [
    "# True positive rate\n",
    "TPR1 = TP1 / (TP1 + FN1)\n",
    "print(\"The True Positive Rate is:\", TPR1)\n",
    "\n",
    "# Precision rate\n",
    "PPV1 = TP1 / (TP1 + FP1)\n",
    "print(\"The Precision is:\", PPV1)\n",
    "\n",
    "# False positive rate\n",
    "FPR1 = FP1 / (FP1 + TN1)\n",
    "print(\"The False positive rate is:\", FPR1)"
   ]
  },
  {
   "cell_type": "markdown",
   "id": "37c9e283",
   "metadata": {},
   "source": [
    "## Naïve Bayes model"
   ]
  },
  {
   "cell_type": "code",
   "execution_count": 66,
   "id": "9d13cb2f",
   "metadata": {},
   "outputs": [
    {
     "data": {
      "text/html": [
       "<style>#sk-container-id-3 {color: black;background-color: white;}#sk-container-id-3 pre{padding: 0;}#sk-container-id-3 div.sk-toggleable {background-color: white;}#sk-container-id-3 label.sk-toggleable__label {cursor: pointer;display: block;width: 100%;margin-bottom: 0;padding: 0.3em;box-sizing: border-box;text-align: center;}#sk-container-id-3 label.sk-toggleable__label-arrow:before {content: \"▸\";float: left;margin-right: 0.25em;color: #696969;}#sk-container-id-3 label.sk-toggleable__label-arrow:hover:before {color: black;}#sk-container-id-3 div.sk-estimator:hover label.sk-toggleable__label-arrow:before {color: black;}#sk-container-id-3 div.sk-toggleable__content {max-height: 0;max-width: 0;overflow: hidden;text-align: left;background-color: #f0f8ff;}#sk-container-id-3 div.sk-toggleable__content pre {margin: 0.2em;color: black;border-radius: 0.25em;background-color: #f0f8ff;}#sk-container-id-3 input.sk-toggleable__control:checked~div.sk-toggleable__content {max-height: 200px;max-width: 100%;overflow: auto;}#sk-container-id-3 input.sk-toggleable__control:checked~label.sk-toggleable__label-arrow:before {content: \"▾\";}#sk-container-id-3 div.sk-estimator input.sk-toggleable__control:checked~label.sk-toggleable__label {background-color: #d4ebff;}#sk-container-id-3 div.sk-label input.sk-toggleable__control:checked~label.sk-toggleable__label {background-color: #d4ebff;}#sk-container-id-3 input.sk-hidden--visually {border: 0;clip: rect(1px 1px 1px 1px);clip: rect(1px, 1px, 1px, 1px);height: 1px;margin: -1px;overflow: hidden;padding: 0;position: absolute;width: 1px;}#sk-container-id-3 div.sk-estimator {font-family: monospace;background-color: #f0f8ff;border: 1px dotted black;border-radius: 0.25em;box-sizing: border-box;margin-bottom: 0.5em;}#sk-container-id-3 div.sk-estimator:hover {background-color: #d4ebff;}#sk-container-id-3 div.sk-parallel-item::after {content: \"\";width: 100%;border-bottom: 1px solid gray;flex-grow: 1;}#sk-container-id-3 div.sk-label:hover label.sk-toggleable__label {background-color: #d4ebff;}#sk-container-id-3 div.sk-serial::before {content: \"\";position: absolute;border-left: 1px solid gray;box-sizing: border-box;top: 0;bottom: 0;left: 50%;z-index: 0;}#sk-container-id-3 div.sk-serial {display: flex;flex-direction: column;align-items: center;background-color: white;padding-right: 0.2em;padding-left: 0.2em;position: relative;}#sk-container-id-3 div.sk-item {position: relative;z-index: 1;}#sk-container-id-3 div.sk-parallel {display: flex;align-items: stretch;justify-content: center;background-color: white;position: relative;}#sk-container-id-3 div.sk-item::before, #sk-container-id-3 div.sk-parallel-item::before {content: \"\";position: absolute;border-left: 1px solid gray;box-sizing: border-box;top: 0;bottom: 0;left: 50%;z-index: -1;}#sk-container-id-3 div.sk-parallel-item {display: flex;flex-direction: column;z-index: 1;position: relative;background-color: white;}#sk-container-id-3 div.sk-parallel-item:first-child::after {align-self: flex-end;width: 50%;}#sk-container-id-3 div.sk-parallel-item:last-child::after {align-self: flex-start;width: 50%;}#sk-container-id-3 div.sk-parallel-item:only-child::after {width: 0;}#sk-container-id-3 div.sk-dashed-wrapped {border: 1px dashed gray;margin: 0 0.4em 0.5em 0.4em;box-sizing: border-box;padding-bottom: 0.4em;background-color: white;}#sk-container-id-3 div.sk-label label {font-family: monospace;font-weight: bold;display: inline-block;line-height: 1.2em;}#sk-container-id-3 div.sk-label-container {text-align: center;}#sk-container-id-3 div.sk-container {/* jupyter's `normalize.less` sets `[hidden] { display: none; }` but bootstrap.min.css set `[hidden] { display: none !important; }` so we also need the `!important` here to be able to override the default hidden behavior on the sphinx rendered scikit-learn.org. See: https://github.com/scikit-learn/scikit-learn/issues/21755 */display: inline-block !important;position: relative;}#sk-container-id-3 div.sk-text-repr-fallback {display: none;}</style><div id=\"sk-container-id-3\" class=\"sk-top-container\"><div class=\"sk-text-repr-fallback\"><pre>MultinomialNB(alpha=0.01)</pre><b>In a Jupyter environment, please rerun this cell to show the HTML representation or trust the notebook. <br />On GitHub, the HTML representation is unable to render, please try loading this page with nbviewer.org.</b></div><div class=\"sk-container\" hidden><div class=\"sk-item\"><div class=\"sk-estimator sk-toggleable\"><input class=\"sk-toggleable__control sk-hidden--visually\" id=\"sk-estimator-id-3\" type=\"checkbox\" checked><label for=\"sk-estimator-id-3\" class=\"sk-toggleable__label sk-toggleable__label-arrow\">MultinomialNB</label><div class=\"sk-toggleable__content\"><pre>MultinomialNB(alpha=0.01)</pre></div></div></div></div></div>"
      ],
      "text/plain": [
       "MultinomialNB(alpha=0.01)"
      ]
     },
     "execution_count": 66,
     "metadata": {},
     "output_type": "execute_result"
    }
   ],
   "source": [
    "# Fitting a Naïve Bayes model\n",
    "model2 = MultinomialNB(alpha=0.01)\n",
    "model2.fit(train_X, train_y)"
   ]
  },
  {
   "cell_type": "code",
   "execution_count": 67,
   "id": "bf0fd3e2",
   "metadata": {},
   "outputs": [
    {
     "name": "stdout",
     "output_type": "stream",
     "text": [
      "The Training Accuracy is:  0.77103902209685\n",
      "The Testing Accuracy is:  0.751937984496124\n"
     ]
    }
   ],
   "source": [
    "# Accuracy on Train\n",
    "print(\"The Training Accuracy is: \", model2.score(train_X, train_y))\n",
    "\n",
    "# Accuracy on Test\n",
    "print(\"The Testing Accuracy is: \", model2.score(valid_X, valid_y))"
   ]
  },
  {
   "cell_type": "code",
   "execution_count": 68,
   "id": "715cbec2",
   "metadata": {},
   "outputs": [
    {
     "name": "stdout",
     "output_type": "stream",
     "text": [
      "Confusion Matrix (Accuracy 0.7710)\n",
      "\n",
      "       Prediction\n",
      "Actual   0   1\n",
      "     0 783 280\n",
      "     1 207 857\n"
     ]
    }
   ],
   "source": [
    "# training confusion matrix\n",
    "classificationSummary(train_y, model2.predict(train_X))"
   ]
  },
  {
   "cell_type": "code",
   "execution_count": 69,
   "id": "6c93246c",
   "metadata": {},
   "outputs": [
    {
     "name": "stdout",
     "output_type": "stream",
     "text": [
      "Confusion Matrix (Accuracy 0.7519)\n",
      "\n",
      "       Prediction\n",
      "Actual   0   1\n",
      "     0 513 197\n",
      "     1 155 554\n"
     ]
    }
   ],
   "source": [
    "# validation confusion matrix\n",
    "classificationSummary(valid_y, model2.predict(valid_X))"
   ]
  },
  {
   "cell_type": "code",
   "execution_count": 70,
   "id": "78e3b4cb",
   "metadata": {},
   "outputs": [
    {
     "data": {
      "image/png": "[encoded data removed]",
      "text/plain": [
       "<Figure size 432x288 with 2 Axes>"
      ]
     },
     "metadata": {
      "needs_background": "light"
     },
     "output_type": "display_data"
    }
   ],
   "source": [
    "# Plotting Confusion Matrix\n",
    "\n",
    "cm2 = confusion_matrix(valid_y, model2.predict(valid_X))\n",
    "cm2_norm = cm2 / cm2.sum(axis=1).reshape(-1,1)\n",
    "\n",
    "plot_confusion_matrix(cm2_norm, classes = model2.classes_, title='Confusion matrix')"
   ]
  },
  {
   "cell_type": "code",
   "execution_count": 71,
   "id": "d3914ec3",
   "metadata": {},
   "outputs": [
    {
     "data": {
      "text/plain": [
       "array([[513, 197],\n",
       "       [155, 554]], dtype=int64)"
      ]
     },
     "execution_count": 71,
     "metadata": {},
     "output_type": "execute_result"
    }
   ],
   "source": [
    "cm2"
   ]
  },
  {
   "cell_type": "code",
   "execution_count": 72,
   "id": "71c3cd90",
   "metadata": {},
   "outputs": [],
   "source": [
    "# Calculating False Positives (FP), False Negatives (FN), True Positives (TP) & True Negatives (TN)\n",
    "FP2 = cm2.sum(axis=0) - np.diag(cm2)\n",
    "FN2 = cm2.sum(axis=1) - np.diag(cm2)\n",
    "TP2 = np.diag(cm2)\n",
    "TN2 = cm2.sum() - (FP2 + FN2 + TP2)"
   ]
  },
  {
   "cell_type": "code",
   "execution_count": 73,
   "id": "e5e3069c",
   "metadata": {},
   "outputs": [
    {
     "data": {
      "text/plain": [
       "(array([155, 197], dtype=int64),\n",
       " array([197, 155], dtype=int64),\n",
       " array([513, 554], dtype=int64),\n",
       " array([554, 513], dtype=int64))"
      ]
     },
     "execution_count": 73,
     "metadata": {},
     "output_type": "execute_result"
    }
   ],
   "source": [
    "FP2, FN2, TP2, TN2"
   ]
  },
  {
   "cell_type": "code",
   "execution_count": 74,
   "id": "55ef8be9",
   "metadata": {},
   "outputs": [
    {
     "name": "stdout",
     "output_type": "stream",
     "text": [
      "The True Positive Rate is: [0.72253521 0.78138223]\n",
      "The Precision is: [0.76796407 0.73768309]\n",
      "The False positive rate is: [0.21861777 0.27746479]\n"
     ]
    }
   ],
   "source": [
    "# True positive rate\n",
    "TPR2 = TP2 / (TP2 + FN2)\n",
    "print(\"The True Positive Rate is:\", TPR2)\n",
    "\n",
    "# Precision rate\n",
    "PPV2 = TP2 / (TP2 + FP2)\n",
    "print(\"The Precision is:\", PPV2)\n",
    "\n",
    "# False positive rate\n",
    "FPR2 = FP2 / (FP2 + TN2)\n",
    "print(\"The False positive rate is:\", FPR2)"
   ]
  },
  {
   "cell_type": "markdown",
   "id": "8faa6729",
   "metadata": {},
   "source": [
    "## Decision Tree model"
   ]
  },
  {
   "cell_type": "code",
   "execution_count": 75,
   "id": "53932a69",
   "metadata": {},
   "outputs": [
    {
     "data": {
      "text/html": [
       "<style>#sk-container-id-4 {color: black;background-color: white;}#sk-container-id-4 pre{padding: 0;}#sk-container-id-4 div.sk-toggleable {background-color: white;}#sk-container-id-4 label.sk-toggleable__label {cursor: pointer;display: block;width: 100%;margin-bottom: 0;padding: 0.3em;box-sizing: border-box;text-align: center;}#sk-container-id-4 label.sk-toggleable__label-arrow:before {content: \"▸\";float: left;margin-right: 0.25em;color: #696969;}#sk-container-id-4 label.sk-toggleable__label-arrow:hover:before {color: black;}#sk-container-id-4 div.sk-estimator:hover label.sk-toggleable__label-arrow:before {color: black;}#sk-container-id-4 div.sk-toggleable__content {max-height: 0;max-width: 0;overflow: hidden;text-align: left;background-color: #f0f8ff;}#sk-container-id-4 div.sk-toggleable__content pre {margin: 0.2em;color: black;border-radius: 0.25em;background-color: #f0f8ff;}#sk-container-id-4 input.sk-toggleable__control:checked~div.sk-toggleable__content {max-height: 200px;max-width: 100%;overflow: auto;}#sk-container-id-4 input.sk-toggleable__control:checked~label.sk-toggleable__label-arrow:before {content: \"▾\";}#sk-container-id-4 div.sk-estimator input.sk-toggleable__control:checked~label.sk-toggleable__label {background-color: #d4ebff;}#sk-container-id-4 div.sk-label input.sk-toggleable__control:checked~label.sk-toggleable__label {background-color: #d4ebff;}#sk-container-id-4 input.sk-hidden--visually {border: 0;clip: rect(1px 1px 1px 1px);clip: rect(1px, 1px, 1px, 1px);height: 1px;margin: -1px;overflow: hidden;padding: 0;position: absolute;width: 1px;}#sk-container-id-4 div.sk-estimator {font-family: monospace;background-color: #f0f8ff;border: 1px dotted black;border-radius: 0.25em;box-sizing: border-box;margin-bottom: 0.5em;}#sk-container-id-4 div.sk-estimator:hover {background-color: #d4ebff;}#sk-container-id-4 div.sk-parallel-item::after {content: \"\";width: 100%;border-bottom: 1px solid gray;flex-grow: 1;}#sk-container-id-4 div.sk-label:hover label.sk-toggleable__label {background-color: #d4ebff;}#sk-container-id-4 div.sk-serial::before {content: \"\";position: absolute;border-left: 1px solid gray;box-sizing: border-box;top: 0;bottom: 0;left: 50%;z-index: 0;}#sk-container-id-4 div.sk-serial {display: flex;flex-direction: column;align-items: center;background-color: white;padding-right: 0.2em;padding-left: 0.2em;position: relative;}#sk-container-id-4 div.sk-item {position: relative;z-index: 1;}#sk-container-id-4 div.sk-parallel {display: flex;align-items: stretch;justify-content: center;background-color: white;position: relative;}#sk-container-id-4 div.sk-item::before, #sk-container-id-4 div.sk-parallel-item::before {content: \"\";position: absolute;border-left: 1px solid gray;box-sizing: border-box;top: 0;bottom: 0;left: 50%;z-index: -1;}#sk-container-id-4 div.sk-parallel-item {display: flex;flex-direction: column;z-index: 1;position: relative;background-color: white;}#sk-container-id-4 div.sk-parallel-item:first-child::after {align-self: flex-end;width: 50%;}#sk-container-id-4 div.sk-parallel-item:last-child::after {align-self: flex-start;width: 50%;}#sk-container-id-4 div.sk-parallel-item:only-child::after {width: 0;}#sk-container-id-4 div.sk-dashed-wrapped {border: 1px dashed gray;margin: 0 0.4em 0.5em 0.4em;box-sizing: border-box;padding-bottom: 0.4em;background-color: white;}#sk-container-id-4 div.sk-label label {font-family: monospace;font-weight: bold;display: inline-block;line-height: 1.2em;}#sk-container-id-4 div.sk-label-container {text-align: center;}#sk-container-id-4 div.sk-container {/* jupyter's `normalize.less` sets `[hidden] { display: none; }` but bootstrap.min.css set `[hidden] { display: none !important; }` so we also need the `!important` here to be able to override the default hidden behavior on the sphinx rendered scikit-learn.org. See: https://github.com/scikit-learn/scikit-learn/issues/21755 */display: inline-block !important;position: relative;}#sk-container-id-4 div.sk-text-repr-fallback {display: none;}</style><div id=\"sk-container-id-4\" class=\"sk-top-container\"><div class=\"sk-text-repr-fallback\"><pre>DecisionTreeClassifier(max_depth=1, random_state=1)</pre><b>In a Jupyter environment, please rerun this cell to show the HTML representation or trust the notebook. <br />On GitHub, the HTML representation is unable to render, please try loading this page with nbviewer.org.</b></div><div class=\"sk-container\" hidden><div class=\"sk-item\"><div class=\"sk-estimator sk-toggleable\"><input class=\"sk-toggleable__control sk-hidden--visually\" id=\"sk-estimator-id-4\" type=\"checkbox\" checked><label for=\"sk-estimator-id-4\" class=\"sk-toggleable__label sk-toggleable__label-arrow\">DecisionTreeClassifier</label><div class=\"sk-toggleable__content\"><pre>DecisionTreeClassifier(max_depth=1, random_state=1)</pre></div></div></div></div></div>"
      ],
      "text/plain": [
       "DecisionTreeClassifier(max_depth=1, random_state=1)"
      ]
     },
     "execution_count": 75,
     "metadata": {},
     "output_type": "execute_result"
    }
   ],
   "source": [
    "# Fitting a decision tree model\n",
    "model3 = DecisionTreeClassifier(random_state=1, max_depth=1, criterion='gini')\n",
    "model3.fit(train_X, train_y)"
   ]
  },
  {
   "cell_type": "code",
   "execution_count": 76,
   "id": "2ff40da7",
   "metadata": {},
   "outputs": [
    {
     "name": "stdout",
     "output_type": "stream",
     "text": [
      "The Training Accuracy is:  0.8213446168312176\n",
      "The Testing Accuracy is:  0.7998590556730092\n"
     ]
    }
   ],
   "source": [
    "# Accuracy on Train\n",
    "print(\"The Training Accuracy is: \", model3.score(train_X, train_y))\n",
    "\n",
    "# Accuracy on Test\n",
    "print(\"The Testing Accuracy is: \", model3.score(valid_X, valid_y))"
   ]
  },
  {
   "cell_type": "code",
   "execution_count": 77,
   "id": "f536c0be",
   "metadata": {},
   "outputs": [
    {
     "name": "stdout",
     "output_type": "stream",
     "text": [
      "Confusion Matrix (Accuracy 0.8213)\n",
      "\n",
      "       Prediction\n",
      "Actual   0   1\n",
      "     0 880 183\n",
      "     1 197 867\n"
     ]
    }
   ],
   "source": [
    "# training confusion matrix\n",
    "classificationSummary(train_y, model3.predict(train_X))"
   ]
  },
  {
   "cell_type": "code",
   "execution_count": 78,
   "id": "b4f4156f",
   "metadata": {},
   "outputs": [
    {
     "name": "stdout",
     "output_type": "stream",
     "text": [
      "Confusion Matrix (Accuracy 0.7999)\n",
      "\n",
      "       Prediction\n",
      "Actual   0   1\n",
      "     0 586 124\n",
      "     1 160 549\n"
     ]
    }
   ],
   "source": [
    "# validation confusion matrix\n",
    "classificationSummary(valid_y, model3.predict(valid_X))"
   ]
  },
  {
   "cell_type": "code",
   "execution_count": 79,
   "id": "4ae37938",
   "metadata": {},
   "outputs": [
    {
     "data": {
      "image/png": "[encoded data removed]",
      "text/plain": [
       "<Figure size 432x288 with 2 Axes>"
      ]
     },
     "metadata": {
      "needs_background": "light"
     },
     "output_type": "display_data"
    }
   ],
   "source": [
    "# Plotting Confusion Matrix\n",
    "\n",
    "cm3 = confusion_matrix(valid_y, model3.predict(valid_X))\n",
    "cm3_norm = cm3 / cm3.sum(axis=1).reshape(-1,1)\n",
    "\n",
    "plot_confusion_matrix(cm3_norm, classes = model3.classes_, title='Confusion matrix')"
   ]
  },
  {
   "cell_type": "code",
   "execution_count": 80,
   "id": "db6f5f15",
   "metadata": {},
   "outputs": [
    {
     "data": {
      "text/plain": [
       "array([[586, 124],\n",
       "       [160, 549]], dtype=int64)"
      ]
     },
     "execution_count": 80,
     "metadata": {},
     "output_type": "execute_result"
    }
   ],
   "source": [
    "cm3"
   ]
  },
  {
   "cell_type": "code",
   "execution_count": 81,
   "id": "6ee32538",
   "metadata": {},
   "outputs": [],
   "source": [
    "# Calculating False Positives (FP), False Negatives (FN), True Positives (TP) & True Negatives (TN)\n",
    "FP3 = cm3.sum(axis=0) - np.diag(cm3)\n",
    "FN3 = cm3.sum(axis=1) - np.diag(cm3)\n",
    "TP3 = np.diag(cm3)\n",
    "TN3 = cm3.sum() - (FP3 + FN3 + TP3)"
   ]
  },
  {
   "cell_type": "code",
   "execution_count": 82,
   "id": "4d4cf913",
   "metadata": {},
   "outputs": [
    {
     "data": {
      "text/plain": [
       "(array([160, 124], dtype=int64),\n",
       " array([124, 160], dtype=int64),\n",
       " array([586, 549], dtype=int64),\n",
       " array([549, 586], dtype=int64))"
      ]
     },
     "execution_count": 82,
     "metadata": {},
     "output_type": "execute_result"
    }
   ],
   "source": [
    "FP3, FN3,TP3, TN3"
   ]
  },
  {
   "cell_type": "code",
   "execution_count": 83,
   "id": "6125213b",
   "metadata": {},
   "outputs": [
    {
     "name": "stdout",
     "output_type": "stream",
     "text": [
      "The True Positive Rate is: [0.82535211 0.77433004]\n",
      "The Precision is: [0.78552279 0.81575037]\n",
      "The False positive rate is: [0.22566996 0.17464789]\n"
     ]
    }
   ],
   "source": [
    "# True positive rate\n",
    "TPR3 = TP3 / (TP3 + FN3)\n",
    "print(\"The True Positive Rate is:\", TPR3)\n",
    "\n",
    "# Precision rate\n",
    "PPV3 = TP3 / (TP3 + FP3)\n",
    "print(\"The Precision is:\", PPV3)\n",
    "\n",
    "# False positive rate\n",
    "FPR3 = FP3 / (FP3 + TN3)\n",
    "print(\"The False positive rate is:\", FPR3)"
   ]
  },
  {
   "cell_type": "markdown",
   "id": "3093abbb",
   "metadata": {},
   "source": [
    "## Compare model performance"
   ]
  },
  {
   "cell_type": "markdown",
   "id": "9aabef63",
   "metadata": {},
   "source": [
    "Based on confusion matrix and True positive rate, Precision rate, False positive rate, model1 which is built by using logistic regression model is the optimal model for flight delay prediction."
   ]
  },
  {
   "cell_type": "markdown",
   "id": "cd22a144",
   "metadata": {},
   "source": [
    "## Use Testing Data"
   ]
  },
  {
   "cell_type": "code",
   "execution_count": 84,
   "id": "22f95a6c",
   "metadata": {},
   "outputs": [],
   "source": [
    "# Loading the test data\n",
    "test_data = pd.read_csv('FlightDelaysTestingData.csv')"
   ]
  },
  {
   "cell_type": "code",
   "execution_count": 85,
   "id": "1a5bfbbd",
   "metadata": {},
   "outputs": [
    {
     "data": {
      "text/html": [
       "<div>\n",
       "<style scoped>\n",
       "    .dataframe tbody tr th:only-of-type {\n",
       "        vertical-align: middle;\n",
       "    }\n",
       "\n",
       "    .dataframe tbody tr th {\n",
       "        vertical-align: top;\n",
       "    }\n",
       "\n",
       "    .dataframe thead th {\n",
       "        text-align: right;\n",
       "    }\n",
       "</style>\n",
       "<table border=\"1\" class=\"dataframe\">\n",
       "  <thead>\n",
       "    <tr style=\"text-align: right;\">\n",
       "      <th></th>\n",
       "      <th>CRS_DEP_TIME</th>\n",
       "      <th>DELAY_DEP_TIME</th>\n",
       "      <th>CARRIER</th>\n",
       "      <th>DEST</th>\n",
       "      <th>ORIGIN</th>\n",
       "      <th>WEATHER</th>\n",
       "      <th>DAY_WEEK</th>\n",
       "      <th>DAY_MONTH</th>\n",
       "      <th>FLIGHT_STATUS</th>\n",
       "    </tr>\n",
       "  </thead>\n",
       "  <tbody>\n",
       "    <tr>\n",
       "      <th>0</th>\n",
       "      <td>7</td>\n",
       "      <td>0</td>\n",
       "      <td>AA</td>\n",
       "      <td>JFK</td>\n",
       "      <td>BWI</td>\n",
       "      <td>1</td>\n",
       "      <td>2</td>\n",
       "      <td>5</td>\n",
       "      <td>NaN</td>\n",
       "    </tr>\n",
       "    <tr>\n",
       "      <th>1</th>\n",
       "      <td>9</td>\n",
       "      <td>1</td>\n",
       "      <td>CO</td>\n",
       "      <td>EWR</td>\n",
       "      <td>DCA</td>\n",
       "      <td>1</td>\n",
       "      <td>4</td>\n",
       "      <td>13</td>\n",
       "      <td>NaN</td>\n",
       "    </tr>\n",
       "    <tr>\n",
       "      <th>2</th>\n",
       "      <td>10</td>\n",
       "      <td>0</td>\n",
       "      <td>DH</td>\n",
       "      <td>LGA</td>\n",
       "      <td>IAD</td>\n",
       "      <td>0</td>\n",
       "      <td>5</td>\n",
       "      <td>14</td>\n",
       "      <td>NaN</td>\n",
       "    </tr>\n",
       "    <tr>\n",
       "      <th>3</th>\n",
       "      <td>15</td>\n",
       "      <td>1</td>\n",
       "      <td>DL</td>\n",
       "      <td>LGA</td>\n",
       "      <td>DCA</td>\n",
       "      <td>0</td>\n",
       "      <td>7</td>\n",
       "      <td>10</td>\n",
       "      <td>NaN</td>\n",
       "    </tr>\n",
       "    <tr>\n",
       "      <th>4</th>\n",
       "      <td>12</td>\n",
       "      <td>0</td>\n",
       "      <td>EV</td>\n",
       "      <td>EWR</td>\n",
       "      <td>IAD</td>\n",
       "      <td>0</td>\n",
       "      <td>6</td>\n",
       "      <td>9</td>\n",
       "      <td>NaN</td>\n",
       "    </tr>\n",
       "  </tbody>\n",
       "</table>\n",
       "</div>"
      ],
      "text/plain": [
       "   CRS_DEP_TIME  DELAY_DEP_TIME CARRIER DEST ORIGIN  WEATHER  DAY_WEEK  \\\n",
       "0             7               0      AA  JFK    BWI        1         2   \n",
       "1             9               1      CO  EWR    DCA        1         4   \n",
       "2            10               0      DH  LGA    IAD        0         5   \n",
       "3            15               1      DL  LGA    DCA        0         7   \n",
       "4            12               0      EV  EWR    IAD        0         6   \n",
       "\n",
       "   DAY_MONTH  FLIGHT_STATUS  \n",
       "0          5            NaN  \n",
       "1         13            NaN  \n",
       "2         14            NaN  \n",
       "3         10            NaN  \n",
       "4          9            NaN  "
      ]
     },
     "execution_count": 85,
     "metadata": {},
     "output_type": "execute_result"
    }
   ],
   "source": [
    "#Viewing dataset\n",
    "test_data"
   ]
  },
  {
   "cell_type": "code",
   "execution_count": 86,
   "id": "81139c15",
   "metadata": {},
   "outputs": [],
   "source": [
    "#Transforming test_data variables to a dataframe of dummy variables\n",
    "new_test_data = pd.get_dummies(test_data, columns = features)"
   ]
  },
  {
   "cell_type": "code",
   "execution_count": 87,
   "id": "c6864edf",
   "metadata": {},
   "outputs": [],
   "source": [
    "#Removing outcome variable\n",
    "new_test_data.drop(['FLIGHT_STATUS'], axis=1, inplace=True)"
   ]
  },
  {
   "cell_type": "code",
   "execution_count": 88,
   "id": "59107f89",
   "metadata": {},
   "outputs": [
    {
     "data": {
      "text/html": [
       "<div>\n",
       "<style scoped>\n",
       "    .dataframe tbody tr th:only-of-type {\n",
       "        vertical-align: middle;\n",
       "    }\n",
       "\n",
       "    .dataframe tbody tr th {\n",
       "        vertical-align: top;\n",
       "    }\n",
       "\n",
       "    .dataframe thead th {\n",
       "        text-align: right;\n",
       "    }\n",
       "</style>\n",
       "<table border=\"1\" class=\"dataframe\">\n",
       "  <thead>\n",
       "    <tr style=\"text-align: right;\">\n",
       "      <th></th>\n",
       "      <th>CRS_DEP_TIME</th>\n",
       "      <th>DELAY_DEP_TIME</th>\n",
       "      <th>CARRIER</th>\n",
       "      <th>DEST</th>\n",
       "      <th>ORIGIN</th>\n",
       "      <th>WEATHER</th>\n",
       "      <th>DAY_WEEK</th>\n",
       "      <th>DAY_MONTH</th>\n",
       "      <th>FLIGHT_STATUS</th>\n",
       "    </tr>\n",
       "  </thead>\n",
       "  <tbody>\n",
       "    <tr>\n",
       "      <th>0</th>\n",
       "      <td>7</td>\n",
       "      <td>0</td>\n",
       "      <td>AA</td>\n",
       "      <td>JFK</td>\n",
       "      <td>BWI</td>\n",
       "      <td>1</td>\n",
       "      <td>2</td>\n",
       "      <td>5</td>\n",
       "      <td>NaN</td>\n",
       "    </tr>\n",
       "    <tr>\n",
       "      <th>1</th>\n",
       "      <td>9</td>\n",
       "      <td>1</td>\n",
       "      <td>CO</td>\n",
       "      <td>EWR</td>\n",
       "      <td>DCA</td>\n",
       "      <td>1</td>\n",
       "      <td>4</td>\n",
       "      <td>13</td>\n",
       "      <td>NaN</td>\n",
       "    </tr>\n",
       "    <tr>\n",
       "      <th>2</th>\n",
       "      <td>10</td>\n",
       "      <td>0</td>\n",
       "      <td>DH</td>\n",
       "      <td>LGA</td>\n",
       "      <td>IAD</td>\n",
       "      <td>0</td>\n",
       "      <td>5</td>\n",
       "      <td>14</td>\n",
       "      <td>NaN</td>\n",
       "    </tr>\n",
       "    <tr>\n",
       "      <th>3</th>\n",
       "      <td>15</td>\n",
       "      <td>1</td>\n",
       "      <td>DL</td>\n",
       "      <td>LGA</td>\n",
       "      <td>DCA</td>\n",
       "      <td>0</td>\n",
       "      <td>7</td>\n",
       "      <td>10</td>\n",
       "      <td>NaN</td>\n",
       "    </tr>\n",
       "    <tr>\n",
       "      <th>4</th>\n",
       "      <td>12</td>\n",
       "      <td>0</td>\n",
       "      <td>EV</td>\n",
       "      <td>EWR</td>\n",
       "      <td>IAD</td>\n",
       "      <td>0</td>\n",
       "      <td>6</td>\n",
       "      <td>9</td>\n",
       "      <td>NaN</td>\n",
       "    </tr>\n",
       "  </tbody>\n",
       "</table>\n",
       "</div>"
      ],
      "text/plain": [
       "   CRS_DEP_TIME  DELAY_DEP_TIME CARRIER DEST ORIGIN  WEATHER  DAY_WEEK  \\\n",
       "0             7               0      AA  JFK    BWI        1         2   \n",
       "1             9               1      CO  EWR    DCA        1         4   \n",
       "2            10               0      DH  LGA    IAD        0         5   \n",
       "3            15               1      DL  LGA    DCA        0         7   \n",
       "4            12               0      EV  EWR    IAD        0         6   \n",
       "\n",
       "   DAY_MONTH  FLIGHT_STATUS  \n",
       "0          5            NaN  \n",
       "1         13            NaN  \n",
       "2         14            NaN  \n",
       "3         10            NaN  \n",
       "4          9            NaN  "
      ]
     },
     "execution_count": 88,
     "metadata": {},
     "output_type": "execute_result"
    }
   ],
   "source": [
    "#Viewing dataset\n",
    "test_data"
   ]
  },
  {
   "cell_type": "code",
   "execution_count": 89,
   "id": "df5baf06",
   "metadata": {},
   "outputs": [
    {
     "name": "stderr",
     "output_type": "stream",
     "text": [
      "C:\\Users\\Admin\\AppData\\Local\\Temp\\ipykernel_4172\\807650965.py:2: FutureWarning: The frame.append method is deprecated and will be removed from pandas in a future version. Use pandas.concat instead.\n",
      "  X_test_data = pd.DataFrame(valid_X.append(new_test_data))\n"
     ]
    }
   ],
   "source": [
    "#Merging X_test_data to valid_X\n",
    "X_test_data = pd.DataFrame(valid_X.append(new_test_data))"
   ]
  },
  {
   "cell_type": "code",
   "execution_count": 90,
   "id": "3f4306a3",
   "metadata": {},
   "outputs": [
    {
     "data": {
      "text/html": [
       "<div>\n",
       "<style scoped>\n",
       "    .dataframe tbody tr th:only-of-type {\n",
       "        vertical-align: middle;\n",
       "    }\n",
       "\n",
       "    .dataframe tbody tr th {\n",
       "        vertical-align: top;\n",
       "    }\n",
       "\n",
       "    .dataframe thead th {\n",
       "        text-align: right;\n",
       "    }\n",
       "</style>\n",
       "<table border=\"1\" class=\"dataframe\">\n",
       "  <thead>\n",
       "    <tr style=\"text-align: right;\">\n",
       "      <th></th>\n",
       "      <th>DELAY_DEP_TIME_1</th>\n",
       "      <th>CARRIER_DL</th>\n",
       "      <th>WEATHER_0</th>\n",
       "      <th>CRS_DEP_TIME_16</th>\n",
       "      <th>DAY_MONTH_15</th>\n",
       "      <th>CARRIER_US</th>\n",
       "      <th>DAY_WEEK_2</th>\n",
       "      <th>CRS_DEP_TIME_8</th>\n",
       "      <th>CRS_DEP_TIME_12</th>\n",
       "      <th>DEST_LGA</th>\n",
       "      <th>...</th>\n",
       "      <th>CRS_DEP_TIME_7</th>\n",
       "      <th>ORIGIN_IAD</th>\n",
       "      <th>ORIGIN_BWI</th>\n",
       "      <th>DELAY_DEP_TIME_0</th>\n",
       "      <th>CARRIER_AA</th>\n",
       "      <th>CARRIER_EV</th>\n",
       "      <th>ORIGIN_DCA</th>\n",
       "      <th>WEATHER_1</th>\n",
       "      <th>DAY_MONTH_9</th>\n",
       "      <th>DAY_MONTH_10</th>\n",
       "    </tr>\n",
       "  </thead>\n",
       "  <tbody>\n",
       "    <tr>\n",
       "      <th>1457</th>\n",
       "      <td>0</td>\n",
       "      <td>1</td>\n",
       "      <td>1</td>\n",
       "      <td>0.0</td>\n",
       "      <td>0.0</td>\n",
       "      <td>0.0</td>\n",
       "      <td>0</td>\n",
       "      <td>0.0</td>\n",
       "      <td>0</td>\n",
       "      <td>1</td>\n",
       "      <td>...</td>\n",
       "      <td>0</td>\n",
       "      <td>0</td>\n",
       "      <td>0</td>\n",
       "      <td>NaN</td>\n",
       "      <td>NaN</td>\n",
       "      <td>NaN</td>\n",
       "      <td>NaN</td>\n",
       "      <td>NaN</td>\n",
       "      <td>NaN</td>\n",
       "      <td>NaN</td>\n",
       "    </tr>\n",
       "    <tr>\n",
       "      <th>3350</th>\n",
       "      <td>1</td>\n",
       "      <td>0</td>\n",
       "      <td>1</td>\n",
       "      <td>0.0</td>\n",
       "      <td>0.0</td>\n",
       "      <td>0.0</td>\n",
       "      <td>0</td>\n",
       "      <td>0.0</td>\n",
       "      <td>0</td>\n",
       "      <td>0</td>\n",
       "      <td>...</td>\n",
       "      <td>0</td>\n",
       "      <td>1</td>\n",
       "      <td>0</td>\n",
       "      <td>NaN</td>\n",
       "      <td>NaN</td>\n",
       "      <td>NaN</td>\n",
       "      <td>NaN</td>\n",
       "      <td>NaN</td>\n",
       "      <td>NaN</td>\n",
       "      <td>NaN</td>\n",
       "    </tr>\n",
       "    <tr>\n",
       "      <th>2879</th>\n",
       "      <td>1</td>\n",
       "      <td>0</td>\n",
       "      <td>1</td>\n",
       "      <td>0.0</td>\n",
       "      <td>0.0</td>\n",
       "      <td>0.0</td>\n",
       "      <td>0</td>\n",
       "      <td>0.0</td>\n",
       "      <td>0</td>\n",
       "      <td>0</td>\n",
       "      <td>...</td>\n",
       "      <td>0</td>\n",
       "      <td>1</td>\n",
       "      <td>0</td>\n",
       "      <td>NaN</td>\n",
       "      <td>NaN</td>\n",
       "      <td>NaN</td>\n",
       "      <td>NaN</td>\n",
       "      <td>NaN</td>\n",
       "      <td>NaN</td>\n",
       "      <td>NaN</td>\n",
       "    </tr>\n",
       "    <tr>\n",
       "      <th>790</th>\n",
       "      <td>0</td>\n",
       "      <td>0</td>\n",
       "      <td>1</td>\n",
       "      <td>0.0</td>\n",
       "      <td>0.0</td>\n",
       "      <td>0.0</td>\n",
       "      <td>0</td>\n",
       "      <td>0.0</td>\n",
       "      <td>0</td>\n",
       "      <td>0</td>\n",
       "      <td>...</td>\n",
       "      <td>0</td>\n",
       "      <td>0</td>\n",
       "      <td>0</td>\n",
       "      <td>NaN</td>\n",
       "      <td>NaN</td>\n",
       "      <td>NaN</td>\n",
       "      <td>NaN</td>\n",
       "      <td>NaN</td>\n",
       "      <td>NaN</td>\n",
       "      <td>NaN</td>\n",
       "    </tr>\n",
       "    <tr>\n",
       "      <th>705</th>\n",
       "      <td>0</td>\n",
       "      <td>1</td>\n",
       "      <td>1</td>\n",
       "      <td>0.0</td>\n",
       "      <td>0.0</td>\n",
       "      <td>0.0</td>\n",
       "      <td>0</td>\n",
       "      <td>1.0</td>\n",
       "      <td>0</td>\n",
       "      <td>1</td>\n",
       "      <td>...</td>\n",
       "      <td>0</td>\n",
       "      <td>0</td>\n",
       "      <td>0</td>\n",
       "      <td>NaN</td>\n",
       "      <td>NaN</td>\n",
       "      <td>NaN</td>\n",
       "      <td>NaN</td>\n",
       "      <td>NaN</td>\n",
       "      <td>NaN</td>\n",
       "      <td>NaN</td>\n",
       "    </tr>\n",
       "    <tr>\n",
       "      <th>...</th>\n",
       "      <td>...</td>\n",
       "      <td>...</td>\n",
       "      <td>...</td>\n",
       "      <td>...</td>\n",
       "      <td>...</td>\n",
       "      <td>...</td>\n",
       "      <td>...</td>\n",
       "      <td>...</td>\n",
       "      <td>...</td>\n",
       "      <td>...</td>\n",
       "      <td>...</td>\n",
       "      <td>...</td>\n",
       "      <td>...</td>\n",
       "      <td>...</td>\n",
       "      <td>...</td>\n",
       "      <td>...</td>\n",
       "      <td>...</td>\n",
       "      <td>...</td>\n",
       "      <td>...</td>\n",
       "      <td>...</td>\n",
       "      <td>...</td>\n",
       "    </tr>\n",
       "    <tr>\n",
       "      <th>0</th>\n",
       "      <td>0</td>\n",
       "      <td>0</td>\n",
       "      <td>0</td>\n",
       "      <td>NaN</td>\n",
       "      <td>NaN</td>\n",
       "      <td>NaN</td>\n",
       "      <td>1</td>\n",
       "      <td>NaN</td>\n",
       "      <td>0</td>\n",
       "      <td>0</td>\n",
       "      <td>...</td>\n",
       "      <td>1</td>\n",
       "      <td>0</td>\n",
       "      <td>1</td>\n",
       "      <td>1.0</td>\n",
       "      <td>1.0</td>\n",
       "      <td>0.0</td>\n",
       "      <td>0.0</td>\n",
       "      <td>1.0</td>\n",
       "      <td>0.0</td>\n",
       "      <td>0.0</td>\n",
       "    </tr>\n",
       "    <tr>\n",
       "      <th>1</th>\n",
       "      <td>1</td>\n",
       "      <td>0</td>\n",
       "      <td>0</td>\n",
       "      <td>NaN</td>\n",
       "      <td>NaN</td>\n",
       "      <td>NaN</td>\n",
       "      <td>0</td>\n",
       "      <td>NaN</td>\n",
       "      <td>0</td>\n",
       "      <td>0</td>\n",
       "      <td>...</td>\n",
       "      <td>0</td>\n",
       "      <td>0</td>\n",
       "      <td>0</td>\n",
       "      <td>0.0</td>\n",
       "      <td>0.0</td>\n",
       "      <td>0.0</td>\n",
       "      <td>1.0</td>\n",
       "      <td>1.0</td>\n",
       "      <td>0.0</td>\n",
       "      <td>0.0</td>\n",
       "    </tr>\n",
       "    <tr>\n",
       "      <th>2</th>\n",
       "      <td>0</td>\n",
       "      <td>0</td>\n",
       "      <td>1</td>\n",
       "      <td>NaN</td>\n",
       "      <td>NaN</td>\n",
       "      <td>NaN</td>\n",
       "      <td>0</td>\n",
       "      <td>NaN</td>\n",
       "      <td>0</td>\n",
       "      <td>1</td>\n",
       "      <td>...</td>\n",
       "      <td>0</td>\n",
       "      <td>1</td>\n",
       "      <td>0</td>\n",
       "      <td>1.0</td>\n",
       "      <td>0.0</td>\n",
       "      <td>0.0</td>\n",
       "      <td>0.0</td>\n",
       "      <td>0.0</td>\n",
       "      <td>0.0</td>\n",
       "      <td>0.0</td>\n",
       "    </tr>\n",
       "    <tr>\n",
       "      <th>3</th>\n",
       "      <td>1</td>\n",
       "      <td>1</td>\n",
       "      <td>1</td>\n",
       "      <td>NaN</td>\n",
       "      <td>NaN</td>\n",
       "      <td>NaN</td>\n",
       "      <td>0</td>\n",
       "      <td>NaN</td>\n",
       "      <td>0</td>\n",
       "      <td>1</td>\n",
       "      <td>...</td>\n",
       "      <td>0</td>\n",
       "      <td>0</td>\n",
       "      <td>0</td>\n",
       "      <td>0.0</td>\n",
       "      <td>0.0</td>\n",
       "      <td>0.0</td>\n",
       "      <td>1.0</td>\n",
       "      <td>0.0</td>\n",
       "      <td>0.0</td>\n",
       "      <td>1.0</td>\n",
       "    </tr>\n",
       "    <tr>\n",
       "      <th>4</th>\n",
       "      <td>0</td>\n",
       "      <td>0</td>\n",
       "      <td>1</td>\n",
       "      <td>NaN</td>\n",
       "      <td>NaN</td>\n",
       "      <td>NaN</td>\n",
       "      <td>0</td>\n",
       "      <td>NaN</td>\n",
       "      <td>1</td>\n",
       "      <td>0</td>\n",
       "      <td>...</td>\n",
       "      <td>0</td>\n",
       "      <td>1</td>\n",
       "      <td>0</td>\n",
       "      <td>1.0</td>\n",
       "      <td>0.0</td>\n",
       "      <td>1.0</td>\n",
       "      <td>0.0</td>\n",
       "      <td>0.0</td>\n",
       "      <td>1.0</td>\n",
       "      <td>0.0</td>\n",
       "    </tr>\n",
       "  </tbody>\n",
       "</table>\n",
       "<p>1424 rows × 59 columns</p>\n",
       "</div>"
      ],
      "text/plain": [
       "      DELAY_DEP_TIME_1  CARRIER_DL  WEATHER_0  CRS_DEP_TIME_16  DAY_MONTH_15  \\\n",
       "1457                 0           1          1              0.0           0.0   \n",
       "3350                 1           0          1              0.0           0.0   \n",
       "2879                 1           0          1              0.0           0.0   \n",
       "790                  0           0          1              0.0           0.0   \n",
       "705                  0           1          1              0.0           0.0   \n",
       "...                ...         ...        ...              ...           ...   \n",
       "0                    0           0          0              NaN           NaN   \n",
       "1                    1           0          0              NaN           NaN   \n",
       "2                    0           0          1              NaN           NaN   \n",
       "3                    1           1          1              NaN           NaN   \n",
       "4                    0           0          1              NaN           NaN   \n",
       "\n",
       "      CARRIER_US  DAY_WEEK_2  CRS_DEP_TIME_8  CRS_DEP_TIME_12  DEST_LGA  ...  \\\n",
       "1457         0.0           0             0.0                0         1  ...   \n",
       "3350         0.0           0             0.0                0         0  ...   \n",
       "2879         0.0           0             0.0                0         0  ...   \n",
       "790          0.0           0             0.0                0         0  ...   \n",
       "705          0.0           0             1.0                0         1  ...   \n",
       "...          ...         ...             ...              ...       ...  ...   \n",
       "0            NaN           1             NaN                0         0  ...   \n",
       "1            NaN           0             NaN                0         0  ...   \n",
       "2            NaN           0             NaN                0         1  ...   \n",
       "3            NaN           0             NaN                0         1  ...   \n",
       "4            NaN           0             NaN                1         0  ...   \n",
       "\n",
       "      CRS_DEP_TIME_7  ORIGIN_IAD  ORIGIN_BWI  DELAY_DEP_TIME_0  CARRIER_AA  \\\n",
       "1457               0           0           0               NaN         NaN   \n",
       "3350               0           1           0               NaN         NaN   \n",
       "2879               0           1           0               NaN         NaN   \n",
       "790                0           0           0               NaN         NaN   \n",
       "705                0           0           0               NaN         NaN   \n",
       "...              ...         ...         ...               ...         ...   \n",
       "0                  1           0           1               1.0         1.0   \n",
       "1                  0           0           0               0.0         0.0   \n",
       "2                  0           1           0               1.0         0.0   \n",
       "3                  0           0           0               0.0         0.0   \n",
       "4                  0           1           0               1.0         0.0   \n",
       "\n",
       "      CARRIER_EV  ORIGIN_DCA  WEATHER_1  DAY_MONTH_9  DAY_MONTH_10  \n",
       "1457         NaN         NaN        NaN          NaN           NaN  \n",
       "3350         NaN         NaN        NaN          NaN           NaN  \n",
       "2879         NaN         NaN        NaN          NaN           NaN  \n",
       "790          NaN         NaN        NaN          NaN           NaN  \n",
       "705          NaN         NaN        NaN          NaN           NaN  \n",
       "...          ...         ...        ...          ...           ...  \n",
       "0            0.0         0.0        1.0          0.0           0.0  \n",
       "1            0.0         1.0        1.0          0.0           0.0  \n",
       "2            0.0         0.0        0.0          0.0           0.0  \n",
       "3            0.0         1.0        0.0          0.0           1.0  \n",
       "4            1.0         0.0        0.0          1.0           0.0  \n",
       "\n",
       "[1424 rows x 59 columns]"
      ]
     },
     "execution_count": 90,
     "metadata": {},
     "output_type": "execute_result"
    }
   ],
   "source": [
    "#Viewing dataset\n",
    "X_test_data"
   ]
  },
  {
   "cell_type": "code",
   "execution_count": 91,
   "id": "5c9428cf",
   "metadata": {},
   "outputs": [
    {
     "data": {
      "text/plain": [
       "Index(['DELAY_DEP_TIME_1', 'CARRIER_DL', 'WEATHER_0', 'CRS_DEP_TIME_16',\n",
       "       'DAY_MONTH_15', 'CARRIER_US', 'DAY_WEEK_2', 'CRS_DEP_TIME_8',\n",
       "       'CRS_DEP_TIME_12', 'DEST_LGA', 'DAY_MONTH_27', 'DAY_WEEK_5',\n",
       "       'CRS_DEP_TIME_6', 'DAY_MONTH_18', 'CRS_DEP_TIME_11', 'CRS_DEP_TIME_18',\n",
       "       'DAY_MONTH_14', 'DEST_EWR', 'CRS_DEP_TIME_9', 'DAY_MONTH_2',\n",
       "       'DAY_WEEK_4', 'DAY_WEEK_6', 'DAY_MONTH_6', 'CRS_DEP_TIME_15',\n",
       "       'DAY_WEEK_7', 'CARRIER_CO', 'CARRIER_RU', 'CRS_DEP_TIME_19',\n",
       "       'DAY_MONTH_31', 'CRS_DEP_TIME_13', 'CARRIER_DH', 'DAY_MONTH_5',\n",
       "       'CRS_DEP_TIME_20', 'CRS_DEP_TIME_17', 'DEST_JFK', 'DAY_MONTH_4',\n",
       "       'DAY_MONTH_13', 'DAY_MONTH_8', 'CRS_DEP_TIME_14', 'DAY_WEEK_1',\n",
       "       'CRS_DEP_TIME_10', 'DAY_WEEK_3', 'DAY_MONTH_17', 'CRS_DEP_TIME_21',\n",
       "       'DAY_MONTH_29', 'DAY_MONTH_24', 'DAY_MONTH_23', 'CARRIER_MQ',\n",
       "       'DAY_MONTH_22', 'CRS_DEP_TIME_7', 'ORIGIN_IAD', 'ORIGIN_BWI',\n",
       "       'DELAY_DEP_TIME_0', 'CARRIER_AA', 'CARRIER_EV', 'ORIGIN_DCA',\n",
       "       'WEATHER_1', 'DAY_MONTH_9', 'DAY_MONTH_10'],\n",
       "      dtype='object')"
      ]
     },
     "execution_count": 91,
     "metadata": {},
     "output_type": "execute_result"
    }
   ],
   "source": [
    "#Viewing column names\n",
    "X_test_data.columns"
   ]
  },
  {
   "cell_type": "code",
   "execution_count": 92,
   "id": "cb562991",
   "metadata": {},
   "outputs": [],
   "source": [
    "# Dropping columns not in the model1\n",
    "X_test_data.drop(['DELAY_DEP_TIME_0', 'CARRIER_AA', 'CARRIER_EV', 'ORIGIN_DCA',\n",
    "       'WEATHER_1', 'DAY_MONTH_9', 'DAY_MONTH_10'], axis=1, inplace=True)"
   ]
  },
  {
   "cell_type": "code",
   "execution_count": 93,
   "id": "da7453e1",
   "metadata": {},
   "outputs": [],
   "source": [
    "#Keeping only the 5 new observations\n",
    "X_test_data = pd.DataFrame(X_test_data.tail(5))"
   ]
  },
  {
   "cell_type": "code",
   "execution_count": 94,
   "id": "8b39baf7",
   "metadata": {},
   "outputs": [],
   "source": [
    "# Replacing nan values by 0\n",
    "X_test_data = X_test_data.replace(np.nan, 0)\n",
    "X_test_data = X_test_data.astype(int)"
   ]
  },
  {
   "cell_type": "code",
   "execution_count": 95,
   "id": "63a40902",
   "metadata": {},
   "outputs": [
    {
     "name": "stdout",
     "output_type": "stream",
     "text": [
      "<class 'pandas.core.frame.DataFrame'>\n",
      "Int64Index: 5 entries, 0 to 4\n",
      "Data columns (total 52 columns):\n",
      " #   Column            Non-Null Count  Dtype\n",
      "---  ------            --------------  -----\n",
      " 0   DELAY_DEP_TIME_1  5 non-null      int32\n",
      " 1   CARRIER_DL        5 non-null      int32\n",
      " 2   WEATHER_0         5 non-null      int32\n",
      " 3   CRS_DEP_TIME_16   5 non-null      int32\n",
      " 4   DAY_MONTH_15      5 non-null      int32\n",
      " 5   CARRIER_US        5 non-null      int32\n",
      " 6   DAY_WEEK_2        5 non-null      int32\n",
      " 7   CRS_DEP_TIME_8    5 non-null      int32\n",
      " 8   CRS_DEP_TIME_12   5 non-null      int32\n",
      " 9   DEST_LGA          5 non-null      int32\n",
      " 10  DAY_MONTH_27      5 non-null      int32\n",
      " 11  DAY_WEEK_5        5 non-null      int32\n",
      " 12  CRS_DEP_TIME_6    5 non-null      int32\n",
      " 13  DAY_MONTH_18      5 non-null      int32\n",
      " 14  CRS_DEP_TIME_11   5 non-null      int32\n",
      " 15  CRS_DEP_TIME_18   5 non-null      int32\n",
      " 16  DAY_MONTH_14      5 non-null      int32\n",
      " 17  DEST_EWR          5 non-null      int32\n",
      " 18  CRS_DEP_TIME_9    5 non-null      int32\n",
      " 19  DAY_MONTH_2       5 non-null      int32\n",
      " 20  DAY_WEEK_4        5 non-null      int32\n",
      " 21  DAY_WEEK_6        5 non-null      int32\n",
      " 22  DAY_MONTH_6       5 non-null      int32\n",
      " 23  CRS_DEP_TIME_15   5 non-null      int32\n",
      " 24  DAY_WEEK_7        5 non-null      int32\n",
      " 25  CARRIER_CO        5 non-null      int32\n",
      " 26  CARRIER_RU        5 non-null      int32\n",
      " 27  CRS_DEP_TIME_19   5 non-null      int32\n",
      " 28  DAY_MONTH_31      5 non-null      int32\n",
      " 29  CRS_DEP_TIME_13   5 non-null      int32\n",
      " 30  CARRIER_DH        5 non-null      int32\n",
      " 31  DAY_MONTH_5       5 non-null      int32\n",
      " 32  CRS_DEP_TIME_20   5 non-null      int32\n",
      " 33  CRS_DEP_TIME_17   5 non-null      int32\n",
      " 34  DEST_JFK          5 non-null      int32\n",
      " 35  DAY_MONTH_4       5 non-null      int32\n",
      " 36  DAY_MONTH_13      5 non-null      int32\n",
      " 37  DAY_MONTH_8       5 non-null      int32\n",
      " 38  CRS_DEP_TIME_14   5 non-null      int32\n",
      " 39  DAY_WEEK_1        5 non-null      int32\n",
      " 40  CRS_DEP_TIME_10   5 non-null      int32\n",
      " 41  DAY_WEEK_3        5 non-null      int32\n",
      " 42  DAY_MONTH_17      5 non-null      int32\n",
      " 43  CRS_DEP_TIME_21   5 non-null      int32\n",
      " 44  DAY_MONTH_29      5 non-null      int32\n",
      " 45  DAY_MONTH_24      5 non-null      int32\n",
      " 46  DAY_MONTH_23      5 non-null      int32\n",
      " 47  CARRIER_MQ        5 non-null      int32\n",
      " 48  DAY_MONTH_22      5 non-null      int32\n",
      " 49  CRS_DEP_TIME_7    5 non-null      int32\n",
      " 50  ORIGIN_IAD        5 non-null      int32\n",
      " 51  ORIGIN_BWI        5 non-null      int32\n",
      "dtypes: int32(52)\n",
      "memory usage: 1.1 KB\n"
     ]
    }
   ],
   "source": [
    "X_test_data.info()"
   ]
  },
  {
   "cell_type": "code",
   "execution_count": 96,
   "id": "5baec698",
   "metadata": {},
   "outputs": [
    {
     "data": {
      "text/html": [
       "<div>\n",
       "<style scoped>\n",
       "    .dataframe tbody tr th:only-of-type {\n",
       "        vertical-align: middle;\n",
       "    }\n",
       "\n",
       "    .dataframe tbody tr th {\n",
       "        vertical-align: top;\n",
       "    }\n",
       "\n",
       "    .dataframe thead th {\n",
       "        text-align: right;\n",
       "    }\n",
       "</style>\n",
       "<table border=\"1\" class=\"dataframe\">\n",
       "  <thead>\n",
       "    <tr style=\"text-align: right;\">\n",
       "      <th></th>\n",
       "      <th>DELAY_DEP_TIME_1</th>\n",
       "      <th>CARRIER_DL</th>\n",
       "      <th>WEATHER_0</th>\n",
       "      <th>CRS_DEP_TIME_16</th>\n",
       "      <th>DAY_MONTH_15</th>\n",
       "      <th>CARRIER_US</th>\n",
       "      <th>DAY_WEEK_2</th>\n",
       "      <th>CRS_DEP_TIME_8</th>\n",
       "      <th>CRS_DEP_TIME_12</th>\n",
       "      <th>DEST_LGA</th>\n",
       "      <th>...</th>\n",
       "      <th>DAY_MONTH_17</th>\n",
       "      <th>CRS_DEP_TIME_21</th>\n",
       "      <th>DAY_MONTH_29</th>\n",
       "      <th>DAY_MONTH_24</th>\n",
       "      <th>DAY_MONTH_23</th>\n",
       "      <th>CARRIER_MQ</th>\n",
       "      <th>DAY_MONTH_22</th>\n",
       "      <th>CRS_DEP_TIME_7</th>\n",
       "      <th>ORIGIN_IAD</th>\n",
       "      <th>ORIGIN_BWI</th>\n",
       "    </tr>\n",
       "  </thead>\n",
       "  <tbody>\n",
       "    <tr>\n",
       "      <th>0</th>\n",
       "      <td>0</td>\n",
       "      <td>0</td>\n",
       "      <td>0</td>\n",
       "      <td>0</td>\n",
       "      <td>0</td>\n",
       "      <td>0</td>\n",
       "      <td>1</td>\n",
       "      <td>0</td>\n",
       "      <td>0</td>\n",
       "      <td>0</td>\n",
       "      <td>...</td>\n",
       "      <td>0</td>\n",
       "      <td>0</td>\n",
       "      <td>0</td>\n",
       "      <td>0</td>\n",
       "      <td>0</td>\n",
       "      <td>0</td>\n",
       "      <td>0</td>\n",
       "      <td>1</td>\n",
       "      <td>0</td>\n",
       "      <td>1</td>\n",
       "    </tr>\n",
       "    <tr>\n",
       "      <th>1</th>\n",
       "      <td>1</td>\n",
       "      <td>0</td>\n",
       "      <td>0</td>\n",
       "      <td>0</td>\n",
       "      <td>0</td>\n",
       "      <td>0</td>\n",
       "      <td>0</td>\n",
       "      <td>0</td>\n",
       "      <td>0</td>\n",
       "      <td>0</td>\n",
       "      <td>...</td>\n",
       "      <td>0</td>\n",
       "      <td>0</td>\n",
       "      <td>0</td>\n",
       "      <td>0</td>\n",
       "      <td>0</td>\n",
       "      <td>0</td>\n",
       "      <td>0</td>\n",
       "      <td>0</td>\n",
       "      <td>0</td>\n",
       "      <td>0</td>\n",
       "    </tr>\n",
       "    <tr>\n",
       "      <th>2</th>\n",
       "      <td>0</td>\n",
       "      <td>0</td>\n",
       "      <td>1</td>\n",
       "      <td>0</td>\n",
       "      <td>0</td>\n",
       "      <td>0</td>\n",
       "      <td>0</td>\n",
       "      <td>0</td>\n",
       "      <td>0</td>\n",
       "      <td>1</td>\n",
       "      <td>...</td>\n",
       "      <td>0</td>\n",
       "      <td>0</td>\n",
       "      <td>0</td>\n",
       "      <td>0</td>\n",
       "      <td>0</td>\n",
       "      <td>0</td>\n",
       "      <td>0</td>\n",
       "      <td>0</td>\n",
       "      <td>1</td>\n",
       "      <td>0</td>\n",
       "    </tr>\n",
       "    <tr>\n",
       "      <th>3</th>\n",
       "      <td>1</td>\n",
       "      <td>1</td>\n",
       "      <td>1</td>\n",
       "      <td>0</td>\n",
       "      <td>0</td>\n",
       "      <td>0</td>\n",
       "      <td>0</td>\n",
       "      <td>0</td>\n",
       "      <td>0</td>\n",
       "      <td>1</td>\n",
       "      <td>...</td>\n",
       "      <td>0</td>\n",
       "      <td>0</td>\n",
       "      <td>0</td>\n",
       "      <td>0</td>\n",
       "      <td>0</td>\n",
       "      <td>0</td>\n",
       "      <td>0</td>\n",
       "      <td>0</td>\n",
       "      <td>0</td>\n",
       "      <td>0</td>\n",
       "    </tr>\n",
       "    <tr>\n",
       "      <th>4</th>\n",
       "      <td>0</td>\n",
       "      <td>0</td>\n",
       "      <td>1</td>\n",
       "      <td>0</td>\n",
       "      <td>0</td>\n",
       "      <td>0</td>\n",
       "      <td>0</td>\n",
       "      <td>0</td>\n",
       "      <td>1</td>\n",
       "      <td>0</td>\n",
       "      <td>...</td>\n",
       "      <td>0</td>\n",
       "      <td>0</td>\n",
       "      <td>0</td>\n",
       "      <td>0</td>\n",
       "      <td>0</td>\n",
       "      <td>0</td>\n",
       "      <td>0</td>\n",
       "      <td>0</td>\n",
       "      <td>1</td>\n",
       "      <td>0</td>\n",
       "    </tr>\n",
       "  </tbody>\n",
       "</table>\n",
       "<p>5 rows × 52 columns</p>\n",
       "</div>"
      ],
      "text/plain": [
       "   DELAY_DEP_TIME_1  CARRIER_DL  WEATHER_0  CRS_DEP_TIME_16  DAY_MONTH_15  \\\n",
       "0                 0           0          0                0             0   \n",
       "1                 1           0          0                0             0   \n",
       "2                 0           0          1                0             0   \n",
       "3                 1           1          1                0             0   \n",
       "4                 0           0          1                0             0   \n",
       "\n",
       "   CARRIER_US  DAY_WEEK_2  CRS_DEP_TIME_8  CRS_DEP_TIME_12  DEST_LGA  ...  \\\n",
       "0           0           1               0                0         0  ...   \n",
       "1           0           0               0                0         0  ...   \n",
       "2           0           0               0                0         1  ...   \n",
       "3           0           0               0                0         1  ...   \n",
       "4           0           0               0                1         0  ...   \n",
       "\n",
       "   DAY_MONTH_17  CRS_DEP_TIME_21  DAY_MONTH_29  DAY_MONTH_24  DAY_MONTH_23  \\\n",
       "0             0                0             0             0             0   \n",
       "1             0                0             0             0             0   \n",
       "2             0                0             0             0             0   \n",
       "3             0                0             0             0             0   \n",
       "4             0                0             0             0             0   \n",
       "\n",
       "   CARRIER_MQ  DAY_MONTH_22  CRS_DEP_TIME_7  ORIGIN_IAD  ORIGIN_BWI  \n",
       "0           0             0               1           0           1  \n",
       "1           0             0               0           0           0  \n",
       "2           0             0               0           1           0  \n",
       "3           0             0               0           0           0  \n",
       "4           0             0               0           1           0  \n",
       "\n",
       "[5 rows x 52 columns]"
      ]
     },
     "execution_count": 96,
     "metadata": {},
     "output_type": "execute_result"
    }
   ],
   "source": [
    "X_test_data"
   ]
  },
  {
   "cell_type": "code",
   "execution_count": 97,
   "id": "58e9195b",
   "metadata": {},
   "outputs": [
    {
     "data": {
      "text/plain": [
       "array([1, 1, 0, 1, 0])"
      ]
     },
     "execution_count": 97,
     "metadata": {},
     "output_type": "execute_result"
    }
   ],
   "source": [
    "#Using the optimal model to predict X_test_data\n",
    "model1.predict(X_test_data)"
   ]
  },
  {
   "cell_type": "markdown",
   "id": "da9b9873",
   "metadata": {},
   "source": [
    "Outcome 'delay', 'delay', 'ontime', 'delay', 'ontime'"
   ]
  },
  {
   "cell_type": "code",
   "execution_count": null,
   "id": "9e63030a",
   "metadata": {},
   "outputs": [],
   "source": []
  }
 ],
 "metadata": {
  "kernelspec": {
   "display_name": "Python 3 (ipykernel)",
   "language": "python",
   "name": "python3"
  },
  "language_info": {
   "codemirror_mode": {
    "name": "ipython",
    "version": 3
   },
   "file_extension": ".py",
   "mimetype": "text/x-python",
   "name": "python",
   "nbconvert_exporter": "python",
   "pygments_lexer": "ipython3",
   "version": "3.9.12"
  }
 },
 "nbformat": 4,
 "nbformat_minor": 5
}
